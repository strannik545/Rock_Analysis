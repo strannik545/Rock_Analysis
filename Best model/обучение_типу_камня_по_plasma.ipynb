{
 "cells": [
  {
   "cell_type": "markdown",
   "id": "381ef6cc",
   "metadata": {},
   "source": [
    "#  Импортируем необходимые либы"
   ]
  },
  {
   "cell_type": "code",
   "execution_count": 1,
   "id": "705ae72a",
   "metadata": {},
   "outputs": [],
   "source": [
    "import pandas as pd \n",
    "import numpy as np \n",
    "import os\n",
    "import hashlib\n",
    "import cv2\n",
    "import math\n",
    "from PIL import Image"
   ]
  },
  {
   "cell_type": "code",
   "execution_count": 2,
   "id": "eaaf9c91",
   "metadata": {},
   "outputs": [
    {
     "data": {
      "text/plain": [
       "['Classification_library.py',\n",
       " 'pp_tool.py',\n",
       " 'Cystine',\n",
       " 'type_plasma_model.pth',\n",
       " 'Uric acid',\n",
       " 'averaged_model.pth',\n",
       " 'lol.py',\n",
       " 'Unclass',\n",
       " '__pycache__',\n",
       " 'test_df.xlsx',\n",
       " 'Unclass_df.xlsx',\n",
       " 'Calcium',\n",
       " 'Classification_library.py:Zone.Identifier',\n",
       " 'Prediction_tool.py',\n",
       " 'o',\n",
       " 'обучение_типу_камня_по_plasma.ipynb',\n",
       " 'p_tool.py',\n",
       " 'best_model.pth',\n",
       " 'Prediction_tool.py:Zone.Identifier']"
      ]
     },
     "execution_count": 2,
     "metadata": {},
     "output_type": "execute_result"
    }
   ],
   "source": [
    "dir_files = os.listdir(\".\")\n",
    "dir_files"
   ]
  },
  {
   "cell_type": "markdown",
   "id": "7e052479",
   "metadata": {},
   "source": [
    "# функция для поиска в глубину png файлов"
   ]
  },
  {
   "cell_type": "code",
   "execution_count": 3,
   "id": "06c83c09",
   "metadata": {},
   "outputs": [],
   "source": [
    "def get_png_files(path='.'):\n",
    "    png_files = []\n",
    "    \n",
    "    def dfs_search(current_path):\n",
    "        try:\n",
    "            for entry in os.listdir(current_path):\n",
    "                full_path = os.path.join(current_path, entry)\n",
    "                if os.path.isfile(full_path):\n",
    "                    if full_path.lower().endswith('.png'):\n",
    "                        png_files.append(full_path)\n",
    "                elif os.path.isdir(full_path):\n",
    "                    dfs_search(full_path)\n",
    "        except PermissionError:\n",
    "            pass  #пропускаем директории, к которым нет доступа\n",
    "    \n",
    "    dfs_search(path)\n",
    "    return png_files"
   ]
  },
  {
   "cell_type": "markdown",
   "id": "4d32edf9",
   "metadata": {},
   "source": [
    "# Цистиновые"
   ]
  },
  {
   "cell_type": "code",
   "execution_count": 4,
   "id": "e31094ca",
   "metadata": {},
   "outputs": [
    {
     "name": "stdout",
     "output_type": "stream",
     "text": [
      "Found 2245 PNG files:\n"
     ]
    }
   ],
   "source": [
    "Cystine_files = get_png_files('Cystine')\n",
    "print(f\"Found {len(Cystine_files)} PNG files:\")"
   ]
  },
  {
   "cell_type": "markdown",
   "id": "0f80b9d4",
   "metadata": {},
   "source": [
    "# Урататные"
   ]
  },
  {
   "cell_type": "code",
   "execution_count": 5,
   "id": "06f3ff1c",
   "metadata": {},
   "outputs": [
    {
     "data": {
      "text/plain": [
       "['Pure uric acid', 'Uric acid with calcium']"
      ]
     },
     "execution_count": 5,
     "metadata": {},
     "output_type": "execute_result"
    }
   ],
   "source": [
    "os.listdir(\"Uric acid\")"
   ]
  },
  {
   "cell_type": "code",
   "execution_count": 6,
   "id": "70145155",
   "metadata": {},
   "outputs": [
    {
     "name": "stdout",
     "output_type": "stream",
     "text": [
      "Found 7428 PNG files:\n"
     ]
    }
   ],
   "source": [
    "Uric_acid_files = get_png_files('Uric acid/Pure uric acid')\n",
    "print(f\"Found {len(Uric_acid_files)} PNG files:\")"
   ]
  },
  {
   "cell_type": "code",
   "execution_count": 7,
   "id": "0576081f",
   "metadata": {},
   "outputs": [
    {
     "name": "stdout",
     "output_type": "stream",
     "text": [
      "Found 7527 PNG files:\n"
     ]
    }
   ],
   "source": [
    "Uric_acid_calcium_files = get_png_files('Uric acid/Uric acid with calcium')\n",
    "print(f\"Found {len(Uric_acid_calcium_files)} PNG files:\")"
   ]
  },
  {
   "cell_type": "markdown",
   "id": "f395678a",
   "metadata": {},
   "source": [
    "# Неклассифицированные"
   ]
  },
  {
   "cell_type": "code",
   "execution_count": 8,
   "id": "7a1719ac",
   "metadata": {},
   "outputs": [
    {
     "name": "stdout",
     "output_type": "stream",
     "text": [
      "Found 19217 PNG files:\n"
     ]
    }
   ],
   "source": [
    "Unclass_files = get_png_files('Unclass')\n",
    "print(f\"Found {len(Unclass_files)} PNG files:\")"
   ]
  },
  {
   "cell_type": "markdown",
   "id": "efe8d43b",
   "metadata": {},
   "source": [
    "# Кальциевые"
   ]
  },
  {
   "cell_type": "code",
   "execution_count": 9,
   "id": "1e4a0e98",
   "metadata": {},
   "outputs": [
    {
     "name": "stdout",
     "output_type": "stream",
     "text": [
      "Found 29210 PNG files:\n"
     ]
    }
   ],
   "source": [
    "Calcium_files = get_png_files('Calcium')\n",
    "print(f\"Found {len(Calcium_files)} PNG files:\")"
   ]
  },
  {
   "cell_type": "code",
   "execution_count": 10,
   "id": "3255c0cd",
   "metadata": {},
   "outputs": [],
   "source": [
    "# функция по прочистке от сплошных изображений\n",
    "def del_solid_color_images(path):\n",
    "    image = cv2.imread(path)\n",
    "    if image is None:\n",
    "        return 0\n",
    "        \n",
    "    # Проверяем, все ли пиксели одинаковы в каждом канале\n",
    "    if len(image.shape) == 3:  # Цветное изображение (BGR)\n",
    "        b, g, r = cv2.split(image)\n",
    "        if (\n",
    "            np.all(b == b[0,0]) and \n",
    "            np.all(g == g[0,0]) and \n",
    "            np.all(r == r[0,0])\n",
    "        ):\n",
    "            os.remove(path)\n",
    "            return 1\n",
    "    \n",
    "    # Для одноканальных изображений (оттенки серого)\n",
    "    elif len(image.shape) == 2:  \n",
    "        if np.all(image == image[0,0]):\n",
    "            os.remove(path)\n",
    "            return 1\n",
    "            \n",
    "    return 0"
   ]
  },
  {
   "cell_type": "markdown",
   "id": "8b44a7f7",
   "metadata": {},
   "source": [
    "# Цистиновые"
   ]
  },
  {
   "cell_type": "code",
   "execution_count": 11,
   "id": "b0c6b68b",
   "metadata": {},
   "outputs": [
    {
     "data": {
      "text/plain": [
       "0"
      ]
     },
     "execution_count": 11,
     "metadata": {},
     "output_type": "execute_result"
    }
   ],
   "source": [
    "Cystine_files_del_count = 0\n",
    "\n",
    "for path in Cystine_files:\n",
    "    Cystine_files_del_count += del_solid_color_images(path=path)\n",
    "\n",
    "Cystine_files_del_count"
   ]
  },
  {
   "cell_type": "code",
   "execution_count": 12,
   "id": "3298d820",
   "metadata": {},
   "outputs": [
    {
     "name": "stdout",
     "output_type": "stream",
     "text": [
      "Found 2245 PNG files:\n"
     ]
    }
   ],
   "source": [
    "Cystine_files = get_png_files('Cystine')\n",
    "print(f\"Found {len(Cystine_files)} PNG files:\")"
   ]
  },
  {
   "cell_type": "code",
   "execution_count": 13,
   "id": "4a746199",
   "metadata": {},
   "outputs": [
    {
     "data": {
      "text/html": [
       "<div>\n",
       "<style scoped>\n",
       "    .dataframe tbody tr th:only-of-type {\n",
       "        vertical-align: middle;\n",
       "    }\n",
       "\n",
       "    .dataframe tbody tr th {\n",
       "        vertical-align: top;\n",
       "    }\n",
       "\n",
       "    .dataframe thead th {\n",
       "        text-align: right;\n",
       "    }\n",
       "</style>\n",
       "<table border=\"1\" class=\"dataframe\">\n",
       "  <thead>\n",
       "    <tr style=\"text-align: right;\">\n",
       "      <th></th>\n",
       "      <th>Path</th>\n",
       "      <th>Type</th>\n",
       "    </tr>\n",
       "  </thead>\n",
       "  <tbody>\n",
       "    <tr>\n",
       "      <th>0</th>\n",
       "      <td>Cystine/Stone 36__/36_570_plasma.png</td>\n",
       "      <td>Cystine</td>\n",
       "    </tr>\n",
       "    <tr>\n",
       "      <th>1</th>\n",
       "      <td>Cystine/Stone 36__/36_530_plasma.png</td>\n",
       "      <td>Cystine</td>\n",
       "    </tr>\n",
       "    <tr>\n",
       "      <th>2</th>\n",
       "      <td>Cystine/Stone 36__/36_889_plasma.png</td>\n",
       "      <td>Cystine</td>\n",
       "    </tr>\n",
       "    <tr>\n",
       "      <th>3</th>\n",
       "      <td>Cystine/Stone 36__/36_618_plasma.png</td>\n",
       "      <td>Cystine</td>\n",
       "    </tr>\n",
       "    <tr>\n",
       "      <th>4</th>\n",
       "      <td>Cystine/Stone 36__/36_645_plasma.png</td>\n",
       "      <td>Cystine</td>\n",
       "    </tr>\n",
       "    <tr>\n",
       "      <th>...</th>\n",
       "      <td>...</td>\n",
       "      <td>...</td>\n",
       "    </tr>\n",
       "    <tr>\n",
       "      <th>2240</th>\n",
       "      <td>Cystine/Stone 153/153_210_plasma.png</td>\n",
       "      <td>Cystine</td>\n",
       "    </tr>\n",
       "    <tr>\n",
       "      <th>2241</th>\n",
       "      <td>Cystine/Stone 153/10153_210_plasma.png</td>\n",
       "      <td>Cystine</td>\n",
       "    </tr>\n",
       "    <tr>\n",
       "      <th>2242</th>\n",
       "      <td>Cystine/Stone 153/10153_70_plasma.png</td>\n",
       "      <td>Cystine</td>\n",
       "    </tr>\n",
       "    <tr>\n",
       "      <th>2243</th>\n",
       "      <td>Cystine/Stone 153/153_830_plasma.png</td>\n",
       "      <td>Cystine</td>\n",
       "    </tr>\n",
       "    <tr>\n",
       "      <th>2244</th>\n",
       "      <td>Cystine/Stone 153/10153_230_plasma.png</td>\n",
       "      <td>Cystine</td>\n",
       "    </tr>\n",
       "  </tbody>\n",
       "</table>\n",
       "<p>2245 rows × 2 columns</p>\n",
       "</div>"
      ],
      "text/plain": [
       "                                        Path     Type\n",
       "0       Cystine/Stone 36__/36_570_plasma.png  Cystine\n",
       "1       Cystine/Stone 36__/36_530_plasma.png  Cystine\n",
       "2       Cystine/Stone 36__/36_889_plasma.png  Cystine\n",
       "3       Cystine/Stone 36__/36_618_plasma.png  Cystine\n",
       "4       Cystine/Stone 36__/36_645_plasma.png  Cystine\n",
       "...                                      ...      ...\n",
       "2240    Cystine/Stone 153/153_210_plasma.png  Cystine\n",
       "2241  Cystine/Stone 153/10153_210_plasma.png  Cystine\n",
       "2242   Cystine/Stone 153/10153_70_plasma.png  Cystine\n",
       "2243    Cystine/Stone 153/153_830_plasma.png  Cystine\n",
       "2244  Cystine/Stone 153/10153_230_plasma.png  Cystine\n",
       "\n",
       "[2245 rows x 2 columns]"
      ]
     },
     "execution_count": 13,
     "metadata": {},
     "output_type": "execute_result"
    }
   ],
   "source": [
    "Cystine_df = pd.DataFrame(columns=[\"Path\", \"Type\"])\n",
    "Cystine_df[\"Path\"] = Cystine_files\n",
    "Cystine_df[\"Type\"] = \"Cystine\"\n",
    "Cystine_df"
   ]
  },
  {
   "cell_type": "markdown",
   "id": "a8291f8d",
   "metadata": {},
   "source": [
    "# Урататные"
   ]
  },
  {
   "cell_type": "code",
   "execution_count": 14,
   "id": "c00f3585",
   "metadata": {},
   "outputs": [
    {
     "data": {
      "text/plain": [
       "0"
      ]
     },
     "execution_count": 14,
     "metadata": {},
     "output_type": "execute_result"
    }
   ],
   "source": [
    "Uric_acid_files_del_count = 0\n",
    "\n",
    "for path in Uric_acid_files:\n",
    "    Uric_acid_files_del_count += del_solid_color_images(path=path)\n",
    "\n",
    "Uric_acid_files_del_count\n",
    "    "
   ]
  },
  {
   "cell_type": "code",
   "execution_count": 15,
   "id": "a466e5a3",
   "metadata": {},
   "outputs": [
    {
     "name": "stdout",
     "output_type": "stream",
     "text": [
      "Found 7428 PNG files:\n"
     ]
    }
   ],
   "source": [
    "Uric_acid_files = get_png_files('Uric acid/Pure uric acid')\n",
    "print(f\"Found {len(Uric_acid_files)} PNG files:\")"
   ]
  },
  {
   "cell_type": "code",
   "execution_count": 16,
   "id": "3341f288",
   "metadata": {},
   "outputs": [
    {
     "data": {
      "text/html": [
       "<div>\n",
       "<style scoped>\n",
       "    .dataframe tbody tr th:only-of-type {\n",
       "        vertical-align: middle;\n",
       "    }\n",
       "\n",
       "    .dataframe tbody tr th {\n",
       "        vertical-align: top;\n",
       "    }\n",
       "\n",
       "    .dataframe thead th {\n",
       "        text-align: right;\n",
       "    }\n",
       "</style>\n",
       "<table border=\"1\" class=\"dataframe\">\n",
       "  <thead>\n",
       "    <tr style=\"text-align: right;\">\n",
       "      <th></th>\n",
       "      <th>Path</th>\n",
       "      <th>Type</th>\n",
       "    </tr>\n",
       "  </thead>\n",
       "  <tbody>\n",
       "    <tr>\n",
       "      <th>0</th>\n",
       "      <td>Uric acid/Pure uric acid/Stone 33/10033_1270_p...</td>\n",
       "      <td>Uric acid</td>\n",
       "    </tr>\n",
       "    <tr>\n",
       "      <th>1</th>\n",
       "      <td>Uric acid/Pure uric acid/Stone 33/10033_910_pl...</td>\n",
       "      <td>Uric acid</td>\n",
       "    </tr>\n",
       "    <tr>\n",
       "      <th>2</th>\n",
       "      <td>Uric acid/Pure uric acid/Stone 33/10033_1470_p...</td>\n",
       "      <td>Uric acid</td>\n",
       "    </tr>\n",
       "    <tr>\n",
       "      <th>3</th>\n",
       "      <td>Uric acid/Pure uric acid/Stone 33/10033_1740_p...</td>\n",
       "      <td>Uric acid</td>\n",
       "    </tr>\n",
       "    <tr>\n",
       "      <th>4</th>\n",
       "      <td>Uric acid/Pure uric acid/Stone 33/10033_1080_p...</td>\n",
       "      <td>Uric acid</td>\n",
       "    </tr>\n",
       "    <tr>\n",
       "      <th>...</th>\n",
       "      <td>...</td>\n",
       "      <td>...</td>\n",
       "    </tr>\n",
       "    <tr>\n",
       "      <th>7423</th>\n",
       "      <td>Uric acid/Pure uric acid/Stone 13__/13_1296_pl...</td>\n",
       "      <td>Uric acid</td>\n",
       "    </tr>\n",
       "    <tr>\n",
       "      <th>7424</th>\n",
       "      <td>Uric acid/Pure uric acid/Stone 13__/13_1450_pl...</td>\n",
       "      <td>Uric acid</td>\n",
       "    </tr>\n",
       "    <tr>\n",
       "      <th>7425</th>\n",
       "      <td>Uric acid/Pure uric acid/Stone 13__/13_1208_pl...</td>\n",
       "      <td>Uric acid</td>\n",
       "    </tr>\n",
       "    <tr>\n",
       "      <th>7426</th>\n",
       "      <td>Uric acid/Pure uric acid/Stone 13__/13_877_pla...</td>\n",
       "      <td>Uric acid</td>\n",
       "    </tr>\n",
       "    <tr>\n",
       "      <th>7427</th>\n",
       "      <td>Uric acid/Pure uric acid/Stone 13__/13_954_pla...</td>\n",
       "      <td>Uric acid</td>\n",
       "    </tr>\n",
       "  </tbody>\n",
       "</table>\n",
       "<p>7428 rows × 2 columns</p>\n",
       "</div>"
      ],
      "text/plain": [
       "                                                   Path       Type\n",
       "0     Uric acid/Pure uric acid/Stone 33/10033_1270_p...  Uric acid\n",
       "1     Uric acid/Pure uric acid/Stone 33/10033_910_pl...  Uric acid\n",
       "2     Uric acid/Pure uric acid/Stone 33/10033_1470_p...  Uric acid\n",
       "3     Uric acid/Pure uric acid/Stone 33/10033_1740_p...  Uric acid\n",
       "4     Uric acid/Pure uric acid/Stone 33/10033_1080_p...  Uric acid\n",
       "...                                                 ...        ...\n",
       "7423  Uric acid/Pure uric acid/Stone 13__/13_1296_pl...  Uric acid\n",
       "7424  Uric acid/Pure uric acid/Stone 13__/13_1450_pl...  Uric acid\n",
       "7425  Uric acid/Pure uric acid/Stone 13__/13_1208_pl...  Uric acid\n",
       "7426  Uric acid/Pure uric acid/Stone 13__/13_877_pla...  Uric acid\n",
       "7427  Uric acid/Pure uric acid/Stone 13__/13_954_pla...  Uric acid\n",
       "\n",
       "[7428 rows x 2 columns]"
      ]
     },
     "execution_count": 16,
     "metadata": {},
     "output_type": "execute_result"
    }
   ],
   "source": [
    "Uric_acid_df = pd.DataFrame(columns=[\"Path\", \"Type\"])\n",
    "Uric_acid_df[\"Path\"] = Uric_acid_files\n",
    "Uric_acid_df[\"Type\"] = \"Uric acid\"\n",
    "Uric_acid_df"
   ]
  },
  {
   "cell_type": "code",
   "execution_count": 17,
   "id": "2fccf94a",
   "metadata": {},
   "outputs": [
    {
     "data": {
      "text/plain": [
       "0"
      ]
     },
     "execution_count": 17,
     "metadata": {},
     "output_type": "execute_result"
    }
   ],
   "source": [
    "Uric_acid_calcium_files_del_count = 0\n",
    "\n",
    "for path in Uric_acid_calcium_files:\n",
    "    Uric_acid_calcium_files_del_count += del_solid_color_images(path=path)\n",
    "\n",
    "Uric_acid_calcium_files_del_count"
   ]
  },
  {
   "cell_type": "code",
   "execution_count": 18,
   "id": "83119a39",
   "metadata": {},
   "outputs": [
    {
     "name": "stdout",
     "output_type": "stream",
     "text": [
      "Found 7527 PNG files:\n"
     ]
    }
   ],
   "source": [
    "Uric_acid_calcium_files = get_png_files('Uric acid/Uric acid with calcium')\n",
    "print(f\"Found {len(Uric_acid_calcium_files)} PNG files:\")"
   ]
  },
  {
   "cell_type": "code",
   "execution_count": 19,
   "id": "49d3cfa1",
   "metadata": {},
   "outputs": [
    {
     "data": {
      "text/html": [
       "<div>\n",
       "<style scoped>\n",
       "    .dataframe tbody tr th:only-of-type {\n",
       "        vertical-align: middle;\n",
       "    }\n",
       "\n",
       "    .dataframe tbody tr th {\n",
       "        vertical-align: top;\n",
       "    }\n",
       "\n",
       "    .dataframe thead th {\n",
       "        text-align: right;\n",
       "    }\n",
       "</style>\n",
       "<table border=\"1\" class=\"dataframe\">\n",
       "  <thead>\n",
       "    <tr style=\"text-align: right;\">\n",
       "      <th></th>\n",
       "      <th>Path</th>\n",
       "      <th>Type</th>\n",
       "    </tr>\n",
       "  </thead>\n",
       "  <tbody>\n",
       "    <tr>\n",
       "      <th>0</th>\n",
       "      <td>Uric acid/Uric acid with calcium/Stone 32/1003...</td>\n",
       "      <td>Uric acid calcium</td>\n",
       "    </tr>\n",
       "    <tr>\n",
       "      <th>1</th>\n",
       "      <td>Uric acid/Uric acid with calcium/Stone 32/1003...</td>\n",
       "      <td>Uric acid calcium</td>\n",
       "    </tr>\n",
       "    <tr>\n",
       "      <th>2</th>\n",
       "      <td>Uric acid/Uric acid with calcium/Stone 32/1003...</td>\n",
       "      <td>Uric acid calcium</td>\n",
       "    </tr>\n",
       "    <tr>\n",
       "      <th>3</th>\n",
       "      <td>Uric acid/Uric acid with calcium/Stone 32/1003...</td>\n",
       "      <td>Uric acid calcium</td>\n",
       "    </tr>\n",
       "    <tr>\n",
       "      <th>4</th>\n",
       "      <td>Uric acid/Uric acid with calcium/Stone 32/1003...</td>\n",
       "      <td>Uric acid calcium</td>\n",
       "    </tr>\n",
       "    <tr>\n",
       "      <th>...</th>\n",
       "      <td>...</td>\n",
       "      <td>...</td>\n",
       "    </tr>\n",
       "    <tr>\n",
       "      <th>7522</th>\n",
       "      <td>Uric acid/Uric acid with calcium/Stone 32__/32...</td>\n",
       "      <td>Uric acid calcium</td>\n",
       "    </tr>\n",
       "    <tr>\n",
       "      <th>7523</th>\n",
       "      <td>Uric acid/Uric acid with calcium/Stone 32__/32...</td>\n",
       "      <td>Uric acid calcium</td>\n",
       "    </tr>\n",
       "    <tr>\n",
       "      <th>7524</th>\n",
       "      <td>Uric acid/Uric acid with calcium/Stone 32__/32...</td>\n",
       "      <td>Uric acid calcium</td>\n",
       "    </tr>\n",
       "    <tr>\n",
       "      <th>7525</th>\n",
       "      <td>Uric acid/Uric acid with calcium/Stone 32__/32...</td>\n",
       "      <td>Uric acid calcium</td>\n",
       "    </tr>\n",
       "    <tr>\n",
       "      <th>7526</th>\n",
       "      <td>Uric acid/Uric acid with calcium/Stone 32__/32...</td>\n",
       "      <td>Uric acid calcium</td>\n",
       "    </tr>\n",
       "  </tbody>\n",
       "</table>\n",
       "<p>7527 rows × 2 columns</p>\n",
       "</div>"
      ],
      "text/plain": [
       "                                                   Path               Type\n",
       "0     Uric acid/Uric acid with calcium/Stone 32/1003...  Uric acid calcium\n",
       "1     Uric acid/Uric acid with calcium/Stone 32/1003...  Uric acid calcium\n",
       "2     Uric acid/Uric acid with calcium/Stone 32/1003...  Uric acid calcium\n",
       "3     Uric acid/Uric acid with calcium/Stone 32/1003...  Uric acid calcium\n",
       "4     Uric acid/Uric acid with calcium/Stone 32/1003...  Uric acid calcium\n",
       "...                                                 ...                ...\n",
       "7522  Uric acid/Uric acid with calcium/Stone 32__/32...  Uric acid calcium\n",
       "7523  Uric acid/Uric acid with calcium/Stone 32__/32...  Uric acid calcium\n",
       "7524  Uric acid/Uric acid with calcium/Stone 32__/32...  Uric acid calcium\n",
       "7525  Uric acid/Uric acid with calcium/Stone 32__/32...  Uric acid calcium\n",
       "7526  Uric acid/Uric acid with calcium/Stone 32__/32...  Uric acid calcium\n",
       "\n",
       "[7527 rows x 2 columns]"
      ]
     },
     "execution_count": 19,
     "metadata": {},
     "output_type": "execute_result"
    }
   ],
   "source": [
    "Uric_acid_calcium_df = pd.DataFrame(columns=[\"Path\", \"Type\"])\n",
    "Uric_acid_calcium_df[\"Path\"] = Uric_acid_calcium_files\n",
    "Uric_acid_calcium_df[\"Type\"] = \"Uric acid calcium\"\n",
    "Uric_acid_calcium_df"
   ]
  },
  {
   "cell_type": "markdown",
   "id": "0cb5287c",
   "metadata": {},
   "source": [
    "# Неклассифицированные"
   ]
  },
  {
   "cell_type": "code",
   "execution_count": 20,
   "id": "95679719",
   "metadata": {},
   "outputs": [
    {
     "data": {
      "text/plain": [
       "0"
      ]
     },
     "execution_count": 20,
     "metadata": {},
     "output_type": "execute_result"
    }
   ],
   "source": [
    "Unclass_files_del_count = 0\n",
    "\n",
    "for path in Unclass_files:\n",
    "    Unclass_files_del_count += del_solid_color_images(path=path)\n",
    "\n",
    "Unclass_files_del_count"
   ]
  },
  {
   "cell_type": "code",
   "execution_count": 21,
   "id": "72cb83ba",
   "metadata": {},
   "outputs": [
    {
     "name": "stdout",
     "output_type": "stream",
     "text": [
      "Found 19217 PNG files:\n"
     ]
    }
   ],
   "source": [
    "Unclass_files = get_png_files('Unclass')\n",
    "print(f\"Found {len(Unclass_files)} PNG files:\")"
   ]
  },
  {
   "cell_type": "code",
   "execution_count": 22,
   "id": "cce645d6",
   "metadata": {},
   "outputs": [
    {
     "data": {
      "text/html": [
       "<div>\n",
       "<style scoped>\n",
       "    .dataframe tbody tr th:only-of-type {\n",
       "        vertical-align: middle;\n",
       "    }\n",
       "\n",
       "    .dataframe tbody tr th {\n",
       "        vertical-align: top;\n",
       "    }\n",
       "\n",
       "    .dataframe thead th {\n",
       "        text-align: right;\n",
       "    }\n",
       "</style>\n",
       "<table border=\"1\" class=\"dataframe\">\n",
       "  <thead>\n",
       "    <tr style=\"text-align: right;\">\n",
       "      <th></th>\n",
       "      <th>Path</th>\n",
       "      <th>Type</th>\n",
       "    </tr>\n",
       "  </thead>\n",
       "  <tbody>\n",
       "    <tr>\n",
       "      <th>0</th>\n",
       "      <td>Unclass/Stone 19_2_/10020_750_plasma.png</td>\n",
       "      <td>Unclass</td>\n",
       "    </tr>\n",
       "    <tr>\n",
       "      <th>1</th>\n",
       "      <td>Unclass/Stone 19_2_/10020_677_plasma.png</td>\n",
       "      <td>Unclass</td>\n",
       "    </tr>\n",
       "    <tr>\n",
       "      <th>2</th>\n",
       "      <td>Unclass/Stone 19_2_/10020_1031_plasma.png</td>\n",
       "      <td>Unclass</td>\n",
       "    </tr>\n",
       "    <tr>\n",
       "      <th>3</th>\n",
       "      <td>Unclass/Stone 19_2_/10020_1315_plasma.png</td>\n",
       "      <td>Unclass</td>\n",
       "    </tr>\n",
       "    <tr>\n",
       "      <th>4</th>\n",
       "      <td>Unclass/Stone 19_2_/10020_610_plasma.png</td>\n",
       "      <td>Unclass</td>\n",
       "    </tr>\n",
       "    <tr>\n",
       "      <th>...</th>\n",
       "      <td>...</td>\n",
       "      <td>...</td>\n",
       "    </tr>\n",
       "    <tr>\n",
       "      <th>19212</th>\n",
       "      <td>Unclass/Stone 11__/11_1054_plasma.png</td>\n",
       "      <td>Unclass</td>\n",
       "    </tr>\n",
       "    <tr>\n",
       "      <th>19213</th>\n",
       "      <td>Unclass/Stone 11__/11_535_plasma.png</td>\n",
       "      <td>Unclass</td>\n",
       "    </tr>\n",
       "    <tr>\n",
       "      <th>19214</th>\n",
       "      <td>Unclass/Stone 11__/11_61_plasma.png</td>\n",
       "      <td>Unclass</td>\n",
       "    </tr>\n",
       "    <tr>\n",
       "      <th>19215</th>\n",
       "      <td>Unclass/Stone 11__/11_920_plasma.png</td>\n",
       "      <td>Unclass</td>\n",
       "    </tr>\n",
       "    <tr>\n",
       "      <th>19216</th>\n",
       "      <td>Unclass/Stone 11__/11_1068_plasma.png</td>\n",
       "      <td>Unclass</td>\n",
       "    </tr>\n",
       "  </tbody>\n",
       "</table>\n",
       "<p>19217 rows × 2 columns</p>\n",
       "</div>"
      ],
      "text/plain": [
       "                                            Path     Type\n",
       "0       Unclass/Stone 19_2_/10020_750_plasma.png  Unclass\n",
       "1       Unclass/Stone 19_2_/10020_677_plasma.png  Unclass\n",
       "2      Unclass/Stone 19_2_/10020_1031_plasma.png  Unclass\n",
       "3      Unclass/Stone 19_2_/10020_1315_plasma.png  Unclass\n",
       "4       Unclass/Stone 19_2_/10020_610_plasma.png  Unclass\n",
       "...                                          ...      ...\n",
       "19212      Unclass/Stone 11__/11_1054_plasma.png  Unclass\n",
       "19213       Unclass/Stone 11__/11_535_plasma.png  Unclass\n",
       "19214        Unclass/Stone 11__/11_61_plasma.png  Unclass\n",
       "19215       Unclass/Stone 11__/11_920_plasma.png  Unclass\n",
       "19216      Unclass/Stone 11__/11_1068_plasma.png  Unclass\n",
       "\n",
       "[19217 rows x 2 columns]"
      ]
     },
     "execution_count": 22,
     "metadata": {},
     "output_type": "execute_result"
    }
   ],
   "source": [
    "Unclass_df = pd.DataFrame(columns=[\"Path\", \"Type\"])\n",
    "Unclass_df[\"Path\"] = Unclass_files\n",
    "Unclass_df[\"Type\"] = \"Unclass\"\n",
    "Unclass_df"
   ]
  },
  {
   "cell_type": "markdown",
   "id": "17d9ad05",
   "metadata": {},
   "source": [
    "# Кальциевые"
   ]
  },
  {
   "cell_type": "code",
   "execution_count": 23,
   "id": "837af819",
   "metadata": {},
   "outputs": [
    {
     "data": {
      "text/plain": [
       "0"
      ]
     },
     "execution_count": 23,
     "metadata": {},
     "output_type": "execute_result"
    }
   ],
   "source": [
    "Calcium_files_del_count = 0\n",
    "\n",
    "for path in Calcium_files:\n",
    "    Calcium_files_del_count += del_solid_color_images(path=path)\n",
    "\n",
    "Calcium_files_del_count"
   ]
  },
  {
   "cell_type": "code",
   "execution_count": 24,
   "id": "2b9120a7",
   "metadata": {},
   "outputs": [
    {
     "name": "stdout",
     "output_type": "stream",
     "text": [
      "Found 29210 PNG files:\n"
     ]
    }
   ],
   "source": [
    "Calcium_files = get_png_files('Calcium')\n",
    "print(f\"Found {len(Calcium_files)} PNG files:\")"
   ]
  },
  {
   "cell_type": "code",
   "execution_count": 25,
   "id": "789b5bb4",
   "metadata": {},
   "outputs": [
    {
     "data": {
      "text/html": [
       "<div>\n",
       "<style scoped>\n",
       "    .dataframe tbody tr th:only-of-type {\n",
       "        vertical-align: middle;\n",
       "    }\n",
       "\n",
       "    .dataframe tbody tr th {\n",
       "        vertical-align: top;\n",
       "    }\n",
       "\n",
       "    .dataframe thead th {\n",
       "        text-align: right;\n",
       "    }\n",
       "</style>\n",
       "<table border=\"1\" class=\"dataframe\">\n",
       "  <thead>\n",
       "    <tr style=\"text-align: right;\">\n",
       "      <th></th>\n",
       "      <th>Path</th>\n",
       "      <th>Type</th>\n",
       "    </tr>\n",
       "  </thead>\n",
       "  <tbody>\n",
       "    <tr>\n",
       "      <th>0</th>\n",
       "      <td>Calcium/Stone 50__/50_770_plasma.png</td>\n",
       "      <td>Calcium</td>\n",
       "    </tr>\n",
       "    <tr>\n",
       "      <th>1</th>\n",
       "      <td>Calcium/Stone 50__/50_954_plasma.png</td>\n",
       "      <td>Calcium</td>\n",
       "    </tr>\n",
       "    <tr>\n",
       "      <th>2</th>\n",
       "      <td>Calcium/Stone 50__/50_492_plasma.png</td>\n",
       "      <td>Calcium</td>\n",
       "    </tr>\n",
       "    <tr>\n",
       "      <th>3</th>\n",
       "      <td>Calcium/Stone 50__/50_962_plasma.png</td>\n",
       "      <td>Calcium</td>\n",
       "    </tr>\n",
       "    <tr>\n",
       "      <th>4</th>\n",
       "      <td>Calcium/Stone 50__/50_647_plasma.png</td>\n",
       "      <td>Calcium</td>\n",
       "    </tr>\n",
       "    <tr>\n",
       "      <th>...</th>\n",
       "      <td>...</td>\n",
       "      <td>...</td>\n",
       "    </tr>\n",
       "    <tr>\n",
       "      <th>29205</th>\n",
       "      <td>Calcium/Stone 31_/10031_915_plasma.png</td>\n",
       "      <td>Calcium</td>\n",
       "    </tr>\n",
       "    <tr>\n",
       "      <th>29206</th>\n",
       "      <td>Calcium/Stone 31_/10031_696_plasma.png</td>\n",
       "      <td>Calcium</td>\n",
       "    </tr>\n",
       "    <tr>\n",
       "      <th>29207</th>\n",
       "      <td>Calcium/Stone 31_/10031_798_plasma.png</td>\n",
       "      <td>Calcium</td>\n",
       "    </tr>\n",
       "    <tr>\n",
       "      <th>29208</th>\n",
       "      <td>Calcium/Stone 31_/10031_973_plasma.png</td>\n",
       "      <td>Calcium</td>\n",
       "    </tr>\n",
       "    <tr>\n",
       "      <th>29209</th>\n",
       "      <td>Calcium/Stone 31_/10031_979_plasma.png</td>\n",
       "      <td>Calcium</td>\n",
       "    </tr>\n",
       "  </tbody>\n",
       "</table>\n",
       "<p>29210 rows × 2 columns</p>\n",
       "</div>"
      ],
      "text/plain": [
       "                                         Path     Type\n",
       "0        Calcium/Stone 50__/50_770_plasma.png  Calcium\n",
       "1        Calcium/Stone 50__/50_954_plasma.png  Calcium\n",
       "2        Calcium/Stone 50__/50_492_plasma.png  Calcium\n",
       "3        Calcium/Stone 50__/50_962_plasma.png  Calcium\n",
       "4        Calcium/Stone 50__/50_647_plasma.png  Calcium\n",
       "...                                       ...      ...\n",
       "29205  Calcium/Stone 31_/10031_915_plasma.png  Calcium\n",
       "29206  Calcium/Stone 31_/10031_696_plasma.png  Calcium\n",
       "29207  Calcium/Stone 31_/10031_798_plasma.png  Calcium\n",
       "29208  Calcium/Stone 31_/10031_973_plasma.png  Calcium\n",
       "29209  Calcium/Stone 31_/10031_979_plasma.png  Calcium\n",
       "\n",
       "[29210 rows x 2 columns]"
      ]
     },
     "execution_count": 25,
     "metadata": {},
     "output_type": "execute_result"
    }
   ],
   "source": [
    "Calcium_df = pd.DataFrame(columns=[\"Path\", \"Type\"])\n",
    "Calcium_df[\"Path\"] = Calcium_files\n",
    "Calcium_df[\"Type\"] = \"Calcium\"\n",
    "Calcium_df"
   ]
  },
  {
   "cell_type": "markdown",
   "id": "29f97d65",
   "metadata": {},
   "source": [
    "# Соберем датафрейм со всеми камнями"
   ]
  },
  {
   "cell_type": "code",
   "execution_count": 26,
   "id": "da1d7dbb",
   "metadata": {},
   "outputs": [
    {
     "data": {
      "text/plain": [
       "(2245, 2)"
      ]
     },
     "execution_count": 26,
     "metadata": {},
     "output_type": "execute_result"
    }
   ],
   "source": [
    "Cystine_df.shape"
   ]
  },
  {
   "cell_type": "code",
   "execution_count": 27,
   "id": "f69f1b0d",
   "metadata": {},
   "outputs": [
    {
     "data": {
      "text/plain": [
       "(7428, 2)"
      ]
     },
     "execution_count": 27,
     "metadata": {},
     "output_type": "execute_result"
    }
   ],
   "source": [
    "Uric_acid_df.shape"
   ]
  },
  {
   "cell_type": "code",
   "execution_count": 28,
   "id": "aa03e7ea",
   "metadata": {},
   "outputs": [
    {
     "data": {
      "text/plain": [
       "(7527, 2)"
      ]
     },
     "execution_count": 28,
     "metadata": {},
     "output_type": "execute_result"
    }
   ],
   "source": [
    "Uric_acid_calcium_df.shape"
   ]
  },
  {
   "cell_type": "code",
   "execution_count": 29,
   "id": "e139d78e",
   "metadata": {},
   "outputs": [
    {
     "data": {
      "text/plain": [
       "(29210, 2)"
      ]
     },
     "execution_count": 29,
     "metadata": {},
     "output_type": "execute_result"
    }
   ],
   "source": [
    "Calcium_df.shape"
   ]
  },
  {
   "cell_type": "code",
   "execution_count": 33,
   "id": "f68091ed",
   "metadata": {},
   "outputs": [],
   "source": [
    "complited_data = pd.concat([Cystine_df,\n",
    "                            Uric_acid_df, Uric_acid_calcium_df, Calcium_df], ignore_index=True)"
   ]
  },
  {
   "cell_type": "code",
   "execution_count": 34,
   "id": "b01dc349",
   "metadata": {},
   "outputs": [
    {
     "data": {
      "text/html": [
       "<div>\n",
       "<style scoped>\n",
       "    .dataframe tbody tr th:only-of-type {\n",
       "        vertical-align: middle;\n",
       "    }\n",
       "\n",
       "    .dataframe tbody tr th {\n",
       "        vertical-align: top;\n",
       "    }\n",
       "\n",
       "    .dataframe thead th {\n",
       "        text-align: right;\n",
       "    }\n",
       "</style>\n",
       "<table border=\"1\" class=\"dataframe\">\n",
       "  <thead>\n",
       "    <tr style=\"text-align: right;\">\n",
       "      <th></th>\n",
       "      <th>Path</th>\n",
       "      <th>Type</th>\n",
       "    </tr>\n",
       "  </thead>\n",
       "  <tbody>\n",
       "    <tr>\n",
       "      <th>0</th>\n",
       "      <td>Cystine/Stone 36__/36_570_plasma.png</td>\n",
       "      <td>Cystine</td>\n",
       "    </tr>\n",
       "    <tr>\n",
       "      <th>1</th>\n",
       "      <td>Cystine/Stone 36__/36_530_plasma.png</td>\n",
       "      <td>Cystine</td>\n",
       "    </tr>\n",
       "    <tr>\n",
       "      <th>2</th>\n",
       "      <td>Cystine/Stone 36__/36_889_plasma.png</td>\n",
       "      <td>Cystine</td>\n",
       "    </tr>\n",
       "    <tr>\n",
       "      <th>3</th>\n",
       "      <td>Cystine/Stone 36__/36_618_plasma.png</td>\n",
       "      <td>Cystine</td>\n",
       "    </tr>\n",
       "    <tr>\n",
       "      <th>4</th>\n",
       "      <td>Cystine/Stone 36__/36_645_plasma.png</td>\n",
       "      <td>Cystine</td>\n",
       "    </tr>\n",
       "    <tr>\n",
       "      <th>...</th>\n",
       "      <td>...</td>\n",
       "      <td>...</td>\n",
       "    </tr>\n",
       "    <tr>\n",
       "      <th>2240</th>\n",
       "      <td>Cystine/Stone 153/153_210_plasma.png</td>\n",
       "      <td>Cystine</td>\n",
       "    </tr>\n",
       "    <tr>\n",
       "      <th>2241</th>\n",
       "      <td>Cystine/Stone 153/10153_210_plasma.png</td>\n",
       "      <td>Cystine</td>\n",
       "    </tr>\n",
       "    <tr>\n",
       "      <th>2242</th>\n",
       "      <td>Cystine/Stone 153/10153_70_plasma.png</td>\n",
       "      <td>Cystine</td>\n",
       "    </tr>\n",
       "    <tr>\n",
       "      <th>2243</th>\n",
       "      <td>Cystine/Stone 153/153_830_plasma.png</td>\n",
       "      <td>Cystine</td>\n",
       "    </tr>\n",
       "    <tr>\n",
       "      <th>2244</th>\n",
       "      <td>Cystine/Stone 153/10153_230_plasma.png</td>\n",
       "      <td>Cystine</td>\n",
       "    </tr>\n",
       "  </tbody>\n",
       "</table>\n",
       "<p>2245 rows × 2 columns</p>\n",
       "</div>"
      ],
      "text/plain": [
       "                                        Path     Type\n",
       "0       Cystine/Stone 36__/36_570_plasma.png  Cystine\n",
       "1       Cystine/Stone 36__/36_530_plasma.png  Cystine\n",
       "2       Cystine/Stone 36__/36_889_plasma.png  Cystine\n",
       "3       Cystine/Stone 36__/36_618_plasma.png  Cystine\n",
       "4       Cystine/Stone 36__/36_645_plasma.png  Cystine\n",
       "...                                      ...      ...\n",
       "2240    Cystine/Stone 153/153_210_plasma.png  Cystine\n",
       "2241  Cystine/Stone 153/10153_210_plasma.png  Cystine\n",
       "2242   Cystine/Stone 153/10153_70_plasma.png  Cystine\n",
       "2243    Cystine/Stone 153/153_830_plasma.png  Cystine\n",
       "2244  Cystine/Stone 153/10153_230_plasma.png  Cystine\n",
       "\n",
       "[2245 rows x 2 columns]"
      ]
     },
     "execution_count": 34,
     "metadata": {},
     "output_type": "execute_result"
    }
   ],
   "source": [
    "complited_data[complited_data[\"Type\"] == 'Cystine']"
   ]
  },
  {
   "cell_type": "code",
   "execution_count": 35,
   "id": "bc8a4e77",
   "metadata": {},
   "outputs": [
    {
     "data": {
      "text/html": [
       "<div>\n",
       "<style scoped>\n",
       "    .dataframe tbody tr th:only-of-type {\n",
       "        vertical-align: middle;\n",
       "    }\n",
       "\n",
       "    .dataframe tbody tr th {\n",
       "        vertical-align: top;\n",
       "    }\n",
       "\n",
       "    .dataframe thead th {\n",
       "        text-align: right;\n",
       "    }\n",
       "</style>\n",
       "<table border=\"1\" class=\"dataframe\">\n",
       "  <thead>\n",
       "    <tr style=\"text-align: right;\">\n",
       "      <th></th>\n",
       "      <th>Path</th>\n",
       "      <th>Type</th>\n",
       "    </tr>\n",
       "  </thead>\n",
       "  <tbody>\n",
       "    <tr>\n",
       "      <th>0</th>\n",
       "      <td>Cystine/Stone 36__/36_570_plasma.png</td>\n",
       "      <td>Cystine</td>\n",
       "    </tr>\n",
       "    <tr>\n",
       "      <th>1</th>\n",
       "      <td>Cystine/Stone 36__/36_530_plasma.png</td>\n",
       "      <td>Cystine</td>\n",
       "    </tr>\n",
       "    <tr>\n",
       "      <th>2</th>\n",
       "      <td>Cystine/Stone 36__/36_889_plasma.png</td>\n",
       "      <td>Cystine</td>\n",
       "    </tr>\n",
       "    <tr>\n",
       "      <th>3</th>\n",
       "      <td>Cystine/Stone 36__/36_618_plasma.png</td>\n",
       "      <td>Cystine</td>\n",
       "    </tr>\n",
       "    <tr>\n",
       "      <th>4</th>\n",
       "      <td>Cystine/Stone 36__/36_645_plasma.png</td>\n",
       "      <td>Cystine</td>\n",
       "    </tr>\n",
       "    <tr>\n",
       "      <th>...</th>\n",
       "      <td>...</td>\n",
       "      <td>...</td>\n",
       "    </tr>\n",
       "    <tr>\n",
       "      <th>46405</th>\n",
       "      <td>Calcium/Stone 31_/10031_915_plasma.png</td>\n",
       "      <td>Calcium</td>\n",
       "    </tr>\n",
       "    <tr>\n",
       "      <th>46406</th>\n",
       "      <td>Calcium/Stone 31_/10031_696_plasma.png</td>\n",
       "      <td>Calcium</td>\n",
       "    </tr>\n",
       "    <tr>\n",
       "      <th>46407</th>\n",
       "      <td>Calcium/Stone 31_/10031_798_plasma.png</td>\n",
       "      <td>Calcium</td>\n",
       "    </tr>\n",
       "    <tr>\n",
       "      <th>46408</th>\n",
       "      <td>Calcium/Stone 31_/10031_973_plasma.png</td>\n",
       "      <td>Calcium</td>\n",
       "    </tr>\n",
       "    <tr>\n",
       "      <th>46409</th>\n",
       "      <td>Calcium/Stone 31_/10031_979_plasma.png</td>\n",
       "      <td>Calcium</td>\n",
       "    </tr>\n",
       "  </tbody>\n",
       "</table>\n",
       "<p>46410 rows × 2 columns</p>\n",
       "</div>"
      ],
      "text/plain": [
       "                                         Path     Type\n",
       "0        Cystine/Stone 36__/36_570_plasma.png  Cystine\n",
       "1        Cystine/Stone 36__/36_530_plasma.png  Cystine\n",
       "2        Cystine/Stone 36__/36_889_plasma.png  Cystine\n",
       "3        Cystine/Stone 36__/36_618_plasma.png  Cystine\n",
       "4        Cystine/Stone 36__/36_645_plasma.png  Cystine\n",
       "...                                       ...      ...\n",
       "46405  Calcium/Stone 31_/10031_915_plasma.png  Calcium\n",
       "46406  Calcium/Stone 31_/10031_696_plasma.png  Calcium\n",
       "46407  Calcium/Stone 31_/10031_798_plasma.png  Calcium\n",
       "46408  Calcium/Stone 31_/10031_973_plasma.png  Calcium\n",
       "46409  Calcium/Stone 31_/10031_979_plasma.png  Calcium\n",
       "\n",
       "[46410 rows x 2 columns]"
      ]
     },
     "execution_count": 35,
     "metadata": {},
     "output_type": "execute_result"
    }
   ],
   "source": [
    "complited_data"
   ]
  },
  {
   "cell_type": "code",
   "execution_count": 36,
   "id": "01700570",
   "metadata": {},
   "outputs": [
    {
     "data": {
      "text/plain": [
       "Type\n",
       "Calcium              29210\n",
       "Uric acid calcium     7527\n",
       "Uric acid             7428\n",
       "Cystine               2245\n",
       "Name: count, dtype: int64"
      ]
     },
     "execution_count": 36,
     "metadata": {},
     "output_type": "execute_result"
    }
   ],
   "source": [
    "complited_data[\"Type\"].value_counts()"
   ]
  },
  {
   "cell_type": "code",
   "execution_count": 37,
   "id": "73f8939a",
   "metadata": {},
   "outputs": [
    {
     "data": {
      "text/plain": [
       "array(['Cystine', 'Uric acid', 'Uric acid calcium', 'Calcium'],\n",
       "      dtype=object)"
      ]
     },
     "execution_count": 37,
     "metadata": {},
     "output_type": "execute_result"
    }
   ],
   "source": [
    "complited_data[\"Type\"].unique()"
   ]
  },
  {
   "cell_type": "code",
   "execution_count": 38,
   "id": "52ab7042",
   "metadata": {},
   "outputs": [],
   "source": [
    "def calculate_img_hash(path):\n",
    "    try:\n",
    "        with Image.open(path) as img:\n",
    "            \n",
    "            img = img.convert(\"RGB\")\n",
    "            \n",
    "        img_array = np.array(img)\n",
    "        return hashlib.md5(img_array.tobytes()).hexdigest()\n",
    "\n",
    "    except Exception as e:\n",
    "        print(f\"Ошибка при обработке {path}: {str(e)}\")\n",
    "        return None"
   ]
  },
  {
   "cell_type": "code",
   "execution_count": 39,
   "id": "b6995be2",
   "metadata": {},
   "outputs": [],
   "source": [
    "complited_data[\"hash\"] = complited_data[\"Path\"].apply(calculate_img_hash)"
   ]
  },
  {
   "cell_type": "code",
   "execution_count": 40,
   "id": "2287a8de",
   "metadata": {},
   "outputs": [
    {
     "data": {
      "text/plain": [
       "(46410, 3)"
      ]
     },
     "execution_count": 40,
     "metadata": {},
     "output_type": "execute_result"
    }
   ],
   "source": [
    "complited_data.shape"
   ]
  },
  {
   "cell_type": "code",
   "execution_count": 41,
   "id": "b5c174b7",
   "metadata": {},
   "outputs": [],
   "source": [
    "complited_data = complited_data.dropna(subset=[\"hash\"])"
   ]
  },
  {
   "cell_type": "code",
   "execution_count": 42,
   "id": "e2277e0c",
   "metadata": {},
   "outputs": [
    {
     "data": {
      "text/plain": [
       "(46410, 3)"
      ]
     },
     "execution_count": 42,
     "metadata": {},
     "output_type": "execute_result"
    }
   ],
   "source": [
    "complited_data.shape"
   ]
  },
  {
   "cell_type": "code",
   "execution_count": 43,
   "id": "9b50ef7f",
   "metadata": {},
   "outputs": [],
   "source": [
    "complited_data = complited_data.drop_duplicates(subset=[\"hash\"])"
   ]
  },
  {
   "cell_type": "code",
   "execution_count": 44,
   "id": "78cc231b",
   "metadata": {},
   "outputs": [
    {
     "data": {
      "text/plain": [
       "(41460, 3)"
      ]
     },
     "execution_count": 44,
     "metadata": {},
     "output_type": "execute_result"
    }
   ],
   "source": [
    "complited_data.shape"
   ]
  },
  {
   "cell_type": "code",
   "execution_count": 45,
   "id": "15ebdd3f",
   "metadata": {},
   "outputs": [
    {
     "data": {
      "text/plain": [
       "Type\n",
       "Calcium              24469\n",
       "Uric acid calcium     7525\n",
       "Uric acid             7222\n",
       "Cystine               2244\n",
       "Name: count, dtype: int64"
      ]
     },
     "execution_count": 45,
     "metadata": {},
     "output_type": "execute_result"
    }
   ],
   "source": [
    "complited_data[\"Type\"].value_counts()"
   ]
  },
  {
   "cell_type": "code",
   "execution_count": 46,
   "id": "8cd5648c",
   "metadata": {},
   "outputs": [],
   "source": [
    "from Classification_library import Learning_rocks"
   ]
  },
  {
   "cell_type": "code",
   "execution_count": 47,
   "id": "75257fb6",
   "metadata": {},
   "outputs": [
    {
     "name": "stdout",
     "output_type": "stream",
     "text": [
      "Выбрано устройство: cuda\n"
     ]
    }
   ],
   "source": [
    "device = 'cuda'\n",
    "print(f\"Выбрано устройство: {device}\")  \n",
    "\n",
    "BATCH_SIZE = 64\n",
    "NUM_EPOCHS = 20\n",
    "NUM_WORKERS = 16"
   ]
  },
  {
   "cell_type": "code",
   "execution_count": 48,
   "id": "56bdb0a6",
   "metadata": {},
   "outputs": [],
   "source": [
    "idx_info = {0: 'Calcium', 1: 'Cystine', 2: 'Uric acid', 3: 'Uric acid calcium'}"
   ]
  },
  {
   "cell_type": "code",
   "execution_count": 49,
   "id": "44863a30",
   "metadata": {},
   "outputs": [],
   "source": [
    "minor_classes = [list(idx_info.values()).index('Cystine'), \n",
    "                 list(idx_info.values()).index('Uric acid calcium'),\n",
    "                 list(idx_info.values()).index('Uric acid calcium')]"
   ]
  },
  {
   "cell_type": "code",
   "execution_count": 50,
   "id": "7e62e3bc",
   "metadata": {},
   "outputs": [
    {
     "data": {
      "text/plain": [
       "Type\n",
       "Calcium              24469\n",
       "Uric acid calcium     7525\n",
       "Uric acid             7222\n",
       "Cystine               2244\n",
       "Name: count, dtype: int64"
      ]
     },
     "execution_count": 50,
     "metadata": {},
     "output_type": "execute_result"
    }
   ],
   "source": [
    "complited_data[\"Type\"].value_counts()"
   ]
  },
  {
   "cell_type": "code",
   "execution_count": 51,
   "id": "4fe05c0a",
   "metadata": {},
   "outputs": [
    {
     "name": "stdout",
     "output_type": "stream",
     "text": [
      "Minor classes: None\n",
      "Sample label: 1, type: <class 'numpy.int64'>\n"
     ]
    }
   ],
   "source": [
    "type_plasma_model = Learning_rocks(df = complited_data, device = device, model_name = f'type_plasma_model.pth', BATCH_SIZE = BATCH_SIZE, num_ep = NUM_EPOCHS, num_workers=NUM_WORKERS, #minor_classes=minor_classes,\n",
    "    focal_gamma=3.0, major_aug= True, aug=True)\n",
    "\n"
   ]
  },
  {
   "cell_type": "code",
   "execution_count": 52,
   "id": "a24ab1a1",
   "metadata": {},
   "outputs": [
    {
     "data": {
      "text/plain": [
       "{0: 'Calcium', 1: 'Cystine', 2: 'Uric acid', 3: 'Uric acid calcium'}"
      ]
     },
     "execution_count": 52,
     "metadata": {},
     "output_type": "execute_result"
    }
   ],
   "source": [
    "type_plasma_model.idx_output()"
   ]
  },
  {
   "cell_type": "code",
   "execution_count": 56,
   "id": "b03ebca5",
   "metadata": {},
   "outputs": [
    {
     "name": "stdout",
     "output_type": "stream",
     "text": [
      "\n",
      "==============================\n",
      "Training Fold 1/5\n",
      "==============================\n"
     ]
    },
    {
     "name": "stderr",
     "output_type": "stream",
     "text": [
      "Epochs:   0%|          | 0/20 [00:00<?, ?it/s]/home/wsl/miniconda3/lib/python3.13/site-packages/torch/optim/lr_scheduler.py:172: UserWarning: Seems like `optimizer.step()` has been overridden after learning rate scheduler initialization. Please, make sure to call `optimizer.step()` before `lr_scheduler.step()`. See more details at https://pytorch.org/docs/stable/optim.html#how-to-adjust-learning-rate\n",
      "  warnings.warn(\n",
      "Epochs: 100%|██████████| 20/20 [17:07<00:00, 51.37s/it]\n"
     ]
    },
    {
     "name": "stdout",
     "output_type": "stream",
     "text": [
      "New best model found in fold 1 with recall: 0.9974\n",
      "\n",
      "==============================\n",
      "Training Fold 2/5\n",
      "==============================\n"
     ]
    },
    {
     "name": "stderr",
     "output_type": "stream",
     "text": [
      "Epochs:   0%|          | 0/20 [00:00<?, ?it/s]/home/wsl/miniconda3/lib/python3.13/site-packages/torch/optim/lr_scheduler.py:172: UserWarning: Seems like `optimizer.step()` has been overridden after learning rate scheduler initialization. Please, make sure to call `optimizer.step()` before `lr_scheduler.step()`. See more details at https://pytorch.org/docs/stable/optim.html#how-to-adjust-learning-rate\n",
      "  warnings.warn(\n",
      "Epochs: 100%|██████████| 20/20 [14:47<00:00, 44.40s/it]\n"
     ]
    },
    {
     "name": "stdout",
     "output_type": "stream",
     "text": [
      "New best model found in fold 2 with recall: 0.9980\n",
      "\n",
      "==============================\n",
      "Training Fold 3/5\n",
      "==============================\n"
     ]
    },
    {
     "name": "stderr",
     "output_type": "stream",
     "text": [
      "Epochs:   0%|          | 0/20 [00:00<?, ?it/s]/home/wsl/miniconda3/lib/python3.13/site-packages/torch/optim/lr_scheduler.py:172: UserWarning: Seems like `optimizer.step()` has been overridden after learning rate scheduler initialization. Please, make sure to call `optimizer.step()` before `lr_scheduler.step()`. See more details at https://pytorch.org/docs/stable/optim.html#how-to-adjust-learning-rate\n",
      "  warnings.warn(\n",
      "Epochs: 100%|██████████| 20/20 [15:01<00:00, 45.07s/it]\n"
     ]
    },
    {
     "name": "stdout",
     "output_type": "stream",
     "text": [
      "\n",
      "==============================\n",
      "Training Fold 4/5\n",
      "==============================\n"
     ]
    },
    {
     "name": "stderr",
     "output_type": "stream",
     "text": [
      "Epochs:   0%|          | 0/20 [00:00<?, ?it/s]/home/wsl/miniconda3/lib/python3.13/site-packages/torch/optim/lr_scheduler.py:172: UserWarning: Seems like `optimizer.step()` has been overridden after learning rate scheduler initialization. Please, make sure to call `optimizer.step()` before `lr_scheduler.step()`. See more details at https://pytorch.org/docs/stable/optim.html#how-to-adjust-learning-rate\n",
      "  warnings.warn(\n",
      "Epochs: 100%|██████████| 20/20 [15:04<00:00, 45.24s/it]\n"
     ]
    },
    {
     "name": "stdout",
     "output_type": "stream",
     "text": [
      "New best model found in fold 4 with recall: 0.9981\n",
      "\n",
      "==============================\n",
      "Training Fold 5/5\n",
      "==============================\n"
     ]
    },
    {
     "name": "stderr",
     "output_type": "stream",
     "text": [
      "Epochs:   0%|          | 0/20 [00:00<?, ?it/s]/home/wsl/miniconda3/lib/python3.13/site-packages/torch/optim/lr_scheduler.py:172: UserWarning: Seems like `optimizer.step()` has been overridden after learning rate scheduler initialization. Please, make sure to call `optimizer.step()` before `lr_scheduler.step()`. See more details at https://pytorch.org/docs/stable/optim.html#how-to-adjust-learning-rate\n",
      "  warnings.warn(\n",
      "Epochs: 100%|██████████| 20/20 [15:48<00:00, 47.44s/it]"
     ]
    },
    {
     "name": "stdout",
     "output_type": "stream",
     "text": [
      "\n",
      "K-Fold Validation Results:\n",
      "----------------------------------------\n",
      "Best model from fold 4 with recall: 0.9981\n",
      "Mean val_loss: 0.0113 ± 0.0045\n",
      "Mean val_accuracy: 0.9983 ± 0.0008\n",
      "Mean val_recall: 0.9973 ± 0.0010\n"
     ]
    },
    {
     "name": "stderr",
     "output_type": "stream",
     "text": [
      "\n"
     ]
    }
   ],
   "source": [
    "best_models, metrics = type_plasma_model.kfold_validation_best(n_splits=5, save_best_path = \"best_model.pth\")"
   ]
  },
  {
   "cell_type": "code",
   "execution_count": 51,
   "id": "d3c2037a",
   "metadata": {},
   "outputs": [
    {
     "ename": "NameError",
     "evalue": "name 'best_models' is not defined",
     "output_type": "error",
     "traceback": [
      "\u001b[31m---------------------------------------------------------------------------\u001b[39m",
      "\u001b[31mNameError\u001b[39m                                 Traceback (most recent call last)",
      "\u001b[36mCell\u001b[39m\u001b[36m \u001b[39m\u001b[32mIn[51]\u001b[39m\u001b[32m, line 1\u001b[39m\n\u001b[32m----> \u001b[39m\u001b[32m1\u001b[39m \u001b[43mbest_models\u001b[49m.\u001b[34m__len__\u001b[39m()\n",
      "\u001b[31mNameError\u001b[39m: name 'best_models' is not defined"
     ]
    }
   ],
   "source": [
    "best_models.__len__()"
   ]
  },
  {
   "cell_type": "code",
   "execution_count": 183,
   "id": "310d3a13",
   "metadata": {},
   "outputs": [],
   "source": [
    "import copy"
   ]
  },
  {
   "cell_type": "code",
   "execution_count": 184,
   "id": "5d1a013a",
   "metadata": {},
   "outputs": [],
   "source": [
    "def average_models(models, num):\n",
    "    avg_model = copy.deepcopy(models[0])\n",
    "    for key in avg_model.keys():\n",
    "        avg_model[key] = torch.stack([\n",
    "            model[key].float() for model in models\n",
    "        ]).mean(0)\n",
    "    return avg_model\n"
   ]
  },
  {
   "cell_type": "code",
   "execution_count": 185,
   "id": "891d9223",
   "metadata": {},
   "outputs": [
    {
     "ename": "NameError",
     "evalue": "name 'CustomNet' is not defined",
     "output_type": "error",
     "traceback": [
      "\u001b[31m---------------------------------------------------------------------------\u001b[39m",
      "\u001b[31mNameError\u001b[39m                                 Traceback (most recent call last)",
      "\u001b[36mCell\u001b[39m\u001b[36m \u001b[39m\u001b[32mIn[185]\u001b[39m\u001b[32m, line 11\u001b[39m\n\u001b[32m      8\u001b[39m     \u001b[38;5;28;01mreturn\u001b[39;00m avg_model\n\u001b[32m     10\u001b[39m \u001b[38;5;66;03m# Загрузка усредненной модели\u001b[39;00m\n\u001b[32m---> \u001b[39m\u001b[32m11\u001b[39m final_model = \u001b[43mCustomNet\u001b[49m(num_classes=type_plasma_model.count_of_classes).to(\u001b[33m'\u001b[39m\u001b[33mcuda\u001b[39m\u001b[33m'\u001b[39m)\n\u001b[32m     12\u001b[39m final_model.load_state_dict(average_models(best_models))\n\u001b[32m     13\u001b[39m torch.save(final_model.state_dict(), \u001b[33m'\u001b[39m\u001b[33maveraged_model.pth\u001b[39m\u001b[33m'\u001b[39m)\n",
      "\u001b[31mNameError\u001b[39m: name 'CustomNet' is not defined"
     ]
    }
   ],
   "source": [
    "def average_models(models):\n",
    "    \"\"\"Усреднение весов моделей\"\"\"\n",
    "    avg_model = copy.deepcopy(models[0])\n",
    "    for key in avg_model.keys():\n",
    "        avg_model[key] = torch.stack([\n",
    "            model[key].float() for model in models\n",
    "        ]).mean(0)\n",
    "    return avg_model\n",
    "\n",
    "# Загрузка усредненной модели\n",
    "final_model = CustomNet(num_classes=type_plasma_model.count_of_classes).to('cuda')\n",
    "final_model.load_state_dict(average_models(best_models))\n",
    "torch.save(final_model.state_dict(), 'averaged_model.pth')"
   ]
  },
  {
   "cell_type": "code",
   "execution_count": 186,
   "id": "a10aad6b",
   "metadata": {},
   "outputs": [],
   "source": [
    "\n",
    "def select_best_model(models, metrics):\n",
    "    \"\"\"Выбор лучшей модели на основе метрик\"\"\"\n",
    "    # Находим индекс модели с лучшей метрикой\n",
    "    best_idx = np.argmax(metrics)\n",
    "    print(f\"Selected best model with index {best_idx} and metric value {metrics[best_idx]:.4f}\")\n",
    "    return models[best_idx]"
   ]
  },
  {
   "cell_type": "code",
   "execution_count": 187,
   "id": "05cd6a01",
   "metadata": {},
   "outputs": [
    {
     "ename": "NameError",
     "evalue": "name 'fold_metrics' is not defined",
     "output_type": "error",
     "traceback": [
      "\u001b[31m---------------------------------------------------------------------------\u001b[39m",
      "\u001b[31mNameError\u001b[39m                                 Traceback (most recent call last)",
      "\u001b[36mCell\u001b[39m\u001b[36m \u001b[39m\u001b[32mIn[187]\u001b[39m\u001b[32m, line 1\u001b[39m\n\u001b[32m----> \u001b[39m\u001b[32m1\u001b[39m best_model_state = select_best_model(best_models, \u001b[43mfold_metrics\u001b[49m)\n\u001b[32m      3\u001b[39m \u001b[38;5;66;03m# Сохранение лучшей модели\u001b[39;00m\n\u001b[32m      4\u001b[39m torch.save({\n\u001b[32m      5\u001b[39m     \u001b[33m'\u001b[39m\u001b[33mmodel_state_dict\u001b[39m\u001b[33m'\u001b[39m: best_model_state,\n\u001b[32m      6\u001b[39m     \u001b[33m'\u001b[39m\u001b[33mfold_metrics\u001b[39m\u001b[33m'\u001b[39m: fold_metrics,\n\u001b[32m      7\u001b[39m     \u001b[33m'\u001b[39m\u001b[33mbest_index\u001b[39m\u001b[33m'\u001b[39m: np.argmax(fold_metrics)\n\u001b[32m      8\u001b[39m }, \u001b[33m'\u001b[39m\u001b[33mbest_single_model.pth\u001b[39m\u001b[33m'\u001b[39m)\n",
      "\u001b[31mNameError\u001b[39m: name 'fold_metrics' is not defined"
     ]
    }
   ],
   "source": [
    "best_model_state = select_best_model(best_models, fold_metrics)\n",
    "\n",
    "# Сохранение лучшей модели\n",
    "torch.save({\n",
    "    'model_state_dict': best_model_state,\n",
    "    'fold_metrics': fold_metrics,\n",
    "    'best_index': np.argmax(fold_metrics)\n",
    "}, 'best_single_model.pth')"
   ]
  },
  {
   "cell_type": "code",
   "execution_count": null,
   "id": "49debd9d",
   "metadata": {},
   "outputs": [],
   "source": [
    "#minor_classes = [list(idx_info.values()).index('Cystine')]"
   ]
  },
  {
   "cell_type": "code",
   "execution_count": null,
   "id": "4e6fd2eb",
   "metadata": {},
   "outputs": [
    {
     "name": "stdout",
     "output_type": "stream",
     "text": [
      "Minor classes: None\n",
      "Sample label: 1, type: <class 'numpy.int64'>\n"
     ]
    }
   ],
   "source": [
    "#type_plasma_model = Learning_rocks(df = complited_data, device = device, model_name = f'type_plasma_model.pth', BATCH_SIZE = BATCH_SIZE, num_ep = NUM_EPOCHS, num_workers=NUM_WORKERS,)"
   ]
  },
  {
   "cell_type": "code",
   "execution_count": 239,
   "id": "e6e258c7",
   "metadata": {},
   "outputs": [
    {
     "data": {
      "text/plain": [
       "{0: 'Calcium', 1: 'Uric acid', 2: 'Uric acid calcium'}"
      ]
     },
     "execution_count": 239,
     "metadata": {},
     "output_type": "execute_result"
    }
   ],
   "source": [
    "idx_info = type_plasma_model.idx_output()\n",
    "idx_info"
   ]
  },
  {
   "cell_type": "code",
   "execution_count": 240,
   "id": "55845322",
   "metadata": {},
   "outputs": [
    {
     "data": {
      "text/plain": [
       "Type\n",
       "Calcium              24469\n",
       "Uric acid calcium     7525\n",
       "Uric acid             7222\n",
       "Name: count, dtype: int64"
      ]
     },
     "execution_count": 240,
     "metadata": {},
     "output_type": "execute_result"
    }
   ],
   "source": [
    "complited_data['Type'].value_counts()"
   ]
  },
  {
   "cell_type": "code",
   "execution_count": 241,
   "id": "63eed7f2",
   "metadata": {},
   "outputs": [
    {
     "data": {
      "text/html": [
       "<div>\n",
       "<style scoped>\n",
       "    .dataframe tbody tr th:only-of-type {\n",
       "        vertical-align: middle;\n",
       "    }\n",
       "\n",
       "    .dataframe tbody tr th {\n",
       "        vertical-align: top;\n",
       "    }\n",
       "\n",
       "    .dataframe thead th {\n",
       "        text-align: right;\n",
       "    }\n",
       "</style>\n",
       "<table border=\"1\" class=\"dataframe\">\n",
       "  <thead>\n",
       "    <tr style=\"text-align: right;\">\n",
       "      <th></th>\n",
       "      <th>Path</th>\n",
       "      <th>Type</th>\n",
       "      <th>hash</th>\n",
       "      <th>label</th>\n",
       "    </tr>\n",
       "  </thead>\n",
       "  <tbody>\n",
       "    <tr>\n",
       "      <th>30570</th>\n",
       "      <td>Calcium/Stone 10/10010_1291_plasma.png</td>\n",
       "      <td>Calcium</td>\n",
       "      <td>9710706a44a6ceafb5bfe3ad80489ef6</td>\n",
       "      <td>0</td>\n",
       "    </tr>\n",
       "    <tr>\n",
       "      <th>11689</th>\n",
       "      <td>Uric acid/Uric acid with calcium/Stone 28_/100...</td>\n",
       "      <td>Uric acid calcium</td>\n",
       "      <td>1d37385d253838c3654c176e25646a47</td>\n",
       "      <td>2</td>\n",
       "    </tr>\n",
       "    <tr>\n",
       "      <th>28408</th>\n",
       "      <td>Calcium/Stone 50_/10050_481_plasma.png</td>\n",
       "      <td>Calcium</td>\n",
       "      <td>84fee66ad1df5730e15ff4f9f9662f57</td>\n",
       "      <td>0</td>\n",
       "    </tr>\n",
       "    <tr>\n",
       "      <th>7320</th>\n",
       "      <td>Uric acid/Pure uric acid/Stone 13__/13_985_pla...</td>\n",
       "      <td>Uric acid</td>\n",
       "      <td>33d01f1c7c52d19a929e46dc043a8120</td>\n",
       "      <td>1</td>\n",
       "    </tr>\n",
       "    <tr>\n",
       "      <th>40593</th>\n",
       "      <td>Calcium/Stone 9/10009_2021_plasma.png</td>\n",
       "      <td>Calcium</td>\n",
       "      <td>4ee7098a3b3de4039b5fa097afc17b06</td>\n",
       "      <td>0</td>\n",
       "    </tr>\n",
       "    <tr>\n",
       "      <th>...</th>\n",
       "      <td>...</td>\n",
       "      <td>...</td>\n",
       "      <td>...</td>\n",
       "      <td>...</td>\n",
       "    </tr>\n",
       "    <tr>\n",
       "      <th>23427</th>\n",
       "      <td>Calcium/Stone 16/10016_1588_plasma.png</td>\n",
       "      <td>Calcium</td>\n",
       "      <td>f505f59bdb96e6be0506815688d1cfec</td>\n",
       "      <td>0</td>\n",
       "    </tr>\n",
       "    <tr>\n",
       "      <th>5610</th>\n",
       "      <td>Uric acid/Pure uric acid/Stone 33_/10033_584_p...</td>\n",
       "      <td>Uric acid</td>\n",
       "      <td>d9d6e59978182042102bd508b414f24b</td>\n",
       "      <td>1</td>\n",
       "    </tr>\n",
       "    <tr>\n",
       "      <th>40902</th>\n",
       "      <td>Calcium/Stone 9/10009_586_plasma.png</td>\n",
       "      <td>Calcium</td>\n",
       "      <td>48d6458c6ccd49863e52e0787aade8cb</td>\n",
       "      <td>0</td>\n",
       "    </tr>\n",
       "    <tr>\n",
       "      <th>42552</th>\n",
       "      <td>Calcium/Stone 10_/10010_927_plasma.png</td>\n",
       "      <td>Calcium</td>\n",
       "      <td>260518a27058b1e4f1d6f281b7f9d1c6</td>\n",
       "      <td>0</td>\n",
       "    </tr>\n",
       "    <tr>\n",
       "      <th>36203</th>\n",
       "      <td>Calcium/Stone 18_/10018_910_plasma.png</td>\n",
       "      <td>Calcium</td>\n",
       "      <td>390b4d3698aa7b4a19f33ff4e8bb7eac</td>\n",
       "      <td>0</td>\n",
       "    </tr>\n",
       "  </tbody>\n",
       "</table>\n",
       "<p>27451 rows × 4 columns</p>\n",
       "</div>"
      ],
      "text/plain": [
       "                                                    Path               Type  \\\n",
       "30570             Calcium/Stone 10/10010_1291_plasma.png            Calcium   \n",
       "11689  Uric acid/Uric acid with calcium/Stone 28_/100...  Uric acid calcium   \n",
       "28408             Calcium/Stone 50_/10050_481_plasma.png            Calcium   \n",
       "7320   Uric acid/Pure uric acid/Stone 13__/13_985_pla...          Uric acid   \n",
       "40593              Calcium/Stone 9/10009_2021_plasma.png            Calcium   \n",
       "...                                                  ...                ...   \n",
       "23427             Calcium/Stone 16/10016_1588_plasma.png            Calcium   \n",
       "5610   Uric acid/Pure uric acid/Stone 33_/10033_584_p...          Uric acid   \n",
       "40902               Calcium/Stone 9/10009_586_plasma.png            Calcium   \n",
       "42552             Calcium/Stone 10_/10010_927_plasma.png            Calcium   \n",
       "36203             Calcium/Stone 18_/10018_910_plasma.png            Calcium   \n",
       "\n",
       "                                   hash  label  \n",
       "30570  9710706a44a6ceafb5bfe3ad80489ef6      0  \n",
       "11689  1d37385d253838c3654c176e25646a47      2  \n",
       "28408  84fee66ad1df5730e15ff4f9f9662f57      0  \n",
       "7320   33d01f1c7c52d19a929e46dc043a8120      1  \n",
       "40593  4ee7098a3b3de4039b5fa097afc17b06      0  \n",
       "...                                 ...    ...  \n",
       "23427  f505f59bdb96e6be0506815688d1cfec      0  \n",
       "5610   d9d6e59978182042102bd508b414f24b      1  \n",
       "40902  48d6458c6ccd49863e52e0787aade8cb      0  \n",
       "42552  260518a27058b1e4f1d6f281b7f9d1c6      0  \n",
       "36203  390b4d3698aa7b4a19f33ff4e8bb7eac      0  \n",
       "\n",
       "[27451 rows x 4 columns]"
      ]
     },
     "execution_count": 241,
     "metadata": {},
     "output_type": "execute_result"
    }
   ],
   "source": [
    "type_plasma_model.train_df"
   ]
  },
  {
   "cell_type": "code",
   "execution_count": 242,
   "id": "1012b8b6",
   "metadata": {},
   "outputs": [
    {
     "data": {
      "text/html": [
       "<div>\n",
       "<style scoped>\n",
       "    .dataframe tbody tr th:only-of-type {\n",
       "        vertical-align: middle;\n",
       "    }\n",
       "\n",
       "    .dataframe tbody tr th {\n",
       "        vertical-align: top;\n",
       "    }\n",
       "\n",
       "    .dataframe thead th {\n",
       "        text-align: right;\n",
       "    }\n",
       "</style>\n",
       "<table border=\"1\" class=\"dataframe\">\n",
       "  <thead>\n",
       "    <tr style=\"text-align: right;\">\n",
       "      <th></th>\n",
       "      <th>Path</th>\n",
       "      <th>Type</th>\n",
       "      <th>hash</th>\n",
       "      <th>label</th>\n",
       "    </tr>\n",
       "  </thead>\n",
       "  <tbody>\n",
       "    <tr>\n",
       "      <th>26720</th>\n",
       "      <td>Calcium/Stone 18__/18_1024_plasma.png</td>\n",
       "      <td>Calcium</td>\n",
       "      <td>38d082edfcf52ad4f1887fd48d557be0</td>\n",
       "      <td>0</td>\n",
       "    </tr>\n",
       "    <tr>\n",
       "      <th>31253</th>\n",
       "      <td>Calcium/Stone 10/10010_1622_plasma.png</td>\n",
       "      <td>Calcium</td>\n",
       "      <td>85f9d20ecded9149ce388d7430cfb5aa</td>\n",
       "      <td>0</td>\n",
       "    </tr>\n",
       "    <tr>\n",
       "      <th>23397</th>\n",
       "      <td>Calcium/Stone 16/10016_799_plasma.png</td>\n",
       "      <td>Calcium</td>\n",
       "      <td>3687324f79f70883edfdf924b0bb9379</td>\n",
       "      <td>0</td>\n",
       "    </tr>\n",
       "    <tr>\n",
       "      <th>42453</th>\n",
       "      <td>Calcium/Stone 10_/10010_1252_plasma.png</td>\n",
       "      <td>Calcium</td>\n",
       "      <td>c47af7ea7a90f2d581a03ec77bac264e</td>\n",
       "      <td>0</td>\n",
       "    </tr>\n",
       "    <tr>\n",
       "      <th>3441</th>\n",
       "      <td>Uric acid/Pure uric acid/Stone 13/10013_1586_p...</td>\n",
       "      <td>Uric acid</td>\n",
       "      <td>be2a457468131ff6c1f2c9a32791d4fb</td>\n",
       "      <td>1</td>\n",
       "    </tr>\n",
       "    <tr>\n",
       "      <th>...</th>\n",
       "      <td>...</td>\n",
       "      <td>...</td>\n",
       "      <td>...</td>\n",
       "      <td>...</td>\n",
       "    </tr>\n",
       "    <tr>\n",
       "      <th>17943</th>\n",
       "      <td>Calcium/Stone 25_/10025_594_plasma.png</td>\n",
       "      <td>Calcium</td>\n",
       "      <td>02897f261092f2d00242872f62751db5</td>\n",
       "      <td>0</td>\n",
       "    </tr>\n",
       "    <tr>\n",
       "      <th>8227</th>\n",
       "      <td>Uric acid/Uric acid with calcium/Stone 28__/28...</td>\n",
       "      <td>Uric acid calcium</td>\n",
       "      <td>7fb09ffc6e0b6b8e86c46b3840f9e10d</td>\n",
       "      <td>2</td>\n",
       "    </tr>\n",
       "    <tr>\n",
       "      <th>36215</th>\n",
       "      <td>Calcium/Stone 18_/10018_741_plasma.png</td>\n",
       "      <td>Calcium</td>\n",
       "      <td>96c3588ca4eeedbcc6626a6c645d2b8e</td>\n",
       "      <td>0</td>\n",
       "    </tr>\n",
       "    <tr>\n",
       "      <th>12717</th>\n",
       "      <td>Uric acid/Uric acid with calcium/Stone 28/1002...</td>\n",
       "      <td>Uric acid calcium</td>\n",
       "      <td>642fcb5292415e193802b20973308692</td>\n",
       "      <td>2</td>\n",
       "    </tr>\n",
       "    <tr>\n",
       "      <th>40803</th>\n",
       "      <td>Calcium/Stone 9/10009_404_plasma.png</td>\n",
       "      <td>Calcium</td>\n",
       "      <td>d62f81322316704cd2176a6f4158712c</td>\n",
       "      <td>0</td>\n",
       "    </tr>\n",
       "  </tbody>\n",
       "</table>\n",
       "<p>5882 rows × 4 columns</p>\n",
       "</div>"
      ],
      "text/plain": [
       "                                                    Path               Type  \\\n",
       "26720              Calcium/Stone 18__/18_1024_plasma.png            Calcium   \n",
       "31253             Calcium/Stone 10/10010_1622_plasma.png            Calcium   \n",
       "23397              Calcium/Stone 16/10016_799_plasma.png            Calcium   \n",
       "42453            Calcium/Stone 10_/10010_1252_plasma.png            Calcium   \n",
       "3441   Uric acid/Pure uric acid/Stone 13/10013_1586_p...          Uric acid   \n",
       "...                                                  ...                ...   \n",
       "17943             Calcium/Stone 25_/10025_594_plasma.png            Calcium   \n",
       "8227   Uric acid/Uric acid with calcium/Stone 28__/28...  Uric acid calcium   \n",
       "36215             Calcium/Stone 18_/10018_741_plasma.png            Calcium   \n",
       "12717  Uric acid/Uric acid with calcium/Stone 28/1002...  Uric acid calcium   \n",
       "40803               Calcium/Stone 9/10009_404_plasma.png            Calcium   \n",
       "\n",
       "                                   hash  label  \n",
       "26720  38d082edfcf52ad4f1887fd48d557be0      0  \n",
       "31253  85f9d20ecded9149ce388d7430cfb5aa      0  \n",
       "23397  3687324f79f70883edfdf924b0bb9379      0  \n",
       "42453  c47af7ea7a90f2d581a03ec77bac264e      0  \n",
       "3441   be2a457468131ff6c1f2c9a32791d4fb      1  \n",
       "...                                 ...    ...  \n",
       "17943  02897f261092f2d00242872f62751db5      0  \n",
       "8227   7fb09ffc6e0b6b8e86c46b3840f9e10d      2  \n",
       "36215  96c3588ca4eeedbcc6626a6c645d2b8e      0  \n",
       "12717  642fcb5292415e193802b20973308692      2  \n",
       "40803  d62f81322316704cd2176a6f4158712c      0  \n",
       "\n",
       "[5882 rows x 4 columns]"
      ]
     },
     "execution_count": 242,
     "metadata": {},
     "output_type": "execute_result"
    }
   ],
   "source": [
    "type_plasma_model.val_df"
   ]
  },
  {
   "cell_type": "code",
   "execution_count": 243,
   "id": "63c3d588",
   "metadata": {},
   "outputs": [
    {
     "data": {
      "text/html": [
       "<div>\n",
       "<style scoped>\n",
       "    .dataframe tbody tr th:only-of-type {\n",
       "        vertical-align: middle;\n",
       "    }\n",
       "\n",
       "    .dataframe tbody tr th {\n",
       "        vertical-align: top;\n",
       "    }\n",
       "\n",
       "    .dataframe thead th {\n",
       "        text-align: right;\n",
       "    }\n",
       "</style>\n",
       "<table border=\"1\" class=\"dataframe\">\n",
       "  <thead>\n",
       "    <tr style=\"text-align: right;\">\n",
       "      <th></th>\n",
       "      <th>Path</th>\n",
       "      <th>Type</th>\n",
       "      <th>hash</th>\n",
       "      <th>label</th>\n",
       "    </tr>\n",
       "  </thead>\n",
       "  <tbody>\n",
       "    <tr>\n",
       "      <th>41861</th>\n",
       "      <td>Calcium/Stone 10_/10010_1288_plasma.png</td>\n",
       "      <td>Calcium</td>\n",
       "      <td>89202bd6a71bdf6b4134981aa9942b76</td>\n",
       "      <td>0</td>\n",
       "    </tr>\n",
       "    <tr>\n",
       "      <th>22572</th>\n",
       "      <td>Calcium/Stone 16/10016_618_plasma.png</td>\n",
       "      <td>Calcium</td>\n",
       "      <td>3d356c42f9293bd82f33dd459a5375ee</td>\n",
       "      <td>0</td>\n",
       "    </tr>\n",
       "    <tr>\n",
       "      <th>32683</th>\n",
       "      <td>Calcium/Stone 18/10018_1435_plasma.png</td>\n",
       "      <td>Calcium</td>\n",
       "      <td>49af8ba08b4db0d2cecd7f191125d036</td>\n",
       "      <td>0</td>\n",
       "    </tr>\n",
       "    <tr>\n",
       "      <th>10682</th>\n",
       "      <td>Uric acid/Uric acid with calcium/Stone N2_/110...</td>\n",
       "      <td>Uric acid calcium</td>\n",
       "      <td>db8c87d7905b72ba8ad52e1fc61ba528</td>\n",
       "      <td>2</td>\n",
       "    </tr>\n",
       "    <tr>\n",
       "      <th>6141</th>\n",
       "      <td>Uric acid/Pure uric acid/Stone 33__/33_1330_pl...</td>\n",
       "      <td>Uric acid</td>\n",
       "      <td>79d8af85d117fe7833e99b4aa6b17f10</td>\n",
       "      <td>1</td>\n",
       "    </tr>\n",
       "    <tr>\n",
       "      <th>...</th>\n",
       "      <td>...</td>\n",
       "      <td>...</td>\n",
       "      <td>...</td>\n",
       "      <td>...</td>\n",
       "    </tr>\n",
       "    <tr>\n",
       "      <th>13568</th>\n",
       "      <td>Uric acid/Uric acid with calcium/Stone 32_/100...</td>\n",
       "      <td>Uric acid calcium</td>\n",
       "      <td>1630b9b14bdcd2e6a21d80c437c4cbdc</td>\n",
       "      <td>2</td>\n",
       "    </tr>\n",
       "    <tr>\n",
       "      <th>23759</th>\n",
       "      <td>Calcium/Stone 16/10016_1441_plasma.png</td>\n",
       "      <td>Calcium</td>\n",
       "      <td>e40c3cd48e88cfa8ecd1e2f3f99f6d09</td>\n",
       "      <td>0</td>\n",
       "    </tr>\n",
       "    <tr>\n",
       "      <th>40590</th>\n",
       "      <td>Calcium/Stone 9/10009_1866_plasma.png</td>\n",
       "      <td>Calcium</td>\n",
       "      <td>9a49fed70c96239df6d1914c728a4933</td>\n",
       "      <td>0</td>\n",
       "    </tr>\n",
       "    <tr>\n",
       "      <th>25877</th>\n",
       "      <td>Calcium/Stone 34/10034_1020_plasma.png</td>\n",
       "      <td>Calcium</td>\n",
       "      <td>4a35a94b9b844a3df1026daf731b644c</td>\n",
       "      <td>0</td>\n",
       "    </tr>\n",
       "    <tr>\n",
       "      <th>17053</th>\n",
       "      <td>Calcium/Stone N1__/1001_1281_plasma.png</td>\n",
       "      <td>Calcium</td>\n",
       "      <td>33ffa16151c7942f6300284ac3443697</td>\n",
       "      <td>0</td>\n",
       "    </tr>\n",
       "  </tbody>\n",
       "</table>\n",
       "<p>5883 rows × 4 columns</p>\n",
       "</div>"
      ],
      "text/plain": [
       "                                                    Path               Type  \\\n",
       "41861            Calcium/Stone 10_/10010_1288_plasma.png            Calcium   \n",
       "22572              Calcium/Stone 16/10016_618_plasma.png            Calcium   \n",
       "32683             Calcium/Stone 18/10018_1435_plasma.png            Calcium   \n",
       "10682  Uric acid/Uric acid with calcium/Stone N2_/110...  Uric acid calcium   \n",
       "6141   Uric acid/Pure uric acid/Stone 33__/33_1330_pl...          Uric acid   \n",
       "...                                                  ...                ...   \n",
       "13568  Uric acid/Uric acid with calcium/Stone 32_/100...  Uric acid calcium   \n",
       "23759             Calcium/Stone 16/10016_1441_plasma.png            Calcium   \n",
       "40590              Calcium/Stone 9/10009_1866_plasma.png            Calcium   \n",
       "25877             Calcium/Stone 34/10034_1020_plasma.png            Calcium   \n",
       "17053            Calcium/Stone N1__/1001_1281_plasma.png            Calcium   \n",
       "\n",
       "                                   hash  label  \n",
       "41861  89202bd6a71bdf6b4134981aa9942b76      0  \n",
       "22572  3d356c42f9293bd82f33dd459a5375ee      0  \n",
       "32683  49af8ba08b4db0d2cecd7f191125d036      0  \n",
       "10682  db8c87d7905b72ba8ad52e1fc61ba528      2  \n",
       "6141   79d8af85d117fe7833e99b4aa6b17f10      1  \n",
       "...                                 ...    ...  \n",
       "13568  1630b9b14bdcd2e6a21d80c437c4cbdc      2  \n",
       "23759  e40c3cd48e88cfa8ecd1e2f3f99f6d09      0  \n",
       "40590  9a49fed70c96239df6d1914c728a4933      0  \n",
       "25877  4a35a94b9b844a3df1026daf731b644c      0  \n",
       "17053  33ffa16151c7942f6300284ac3443697      0  \n",
       "\n",
       "[5883 rows x 4 columns]"
      ]
     },
     "execution_count": 243,
     "metadata": {},
     "output_type": "execute_result"
    }
   ],
   "source": [
    "type_plasma_model.test_df"
   ]
  },
  {
   "cell_type": "code",
   "execution_count": 54,
   "id": "57885e57",
   "metadata": {},
   "outputs": [
    {
     "data": {
      "text/plain": [
       "{0: 'Calcium', 1: 'Cystine', 2: 'Uric acid', 3: 'Uric acid calcium'}"
      ]
     },
     "execution_count": 54,
     "metadata": {},
     "output_type": "execute_result"
    }
   ],
   "source": [
    "idx_info = type_plasma_model.idx_output()\n",
    "idx_info"
   ]
  },
  {
   "cell_type": "code",
   "execution_count": 53,
   "id": "c321cb1e",
   "metadata": {},
   "outputs": [
    {
     "name": "stderr",
     "output_type": "stream",
     "text": [
      "Epochs: 100%|██████████| 20/20 [23:36<00:00, 70.81s/it]\n"
     ]
    }
   ],
   "source": [
    "type_plasma_model.learn_model()"
   ]
  },
  {
   "cell_type": "code",
   "execution_count": 55,
   "id": "05e366c6",
   "metadata": {},
   "outputs": [],
   "source": [
    "type_plasma_model.clear_memory()"
   ]
  },
  {
   "cell_type": "code",
   "execution_count": 56,
   "id": "c07a9f92",
   "metadata": {},
   "outputs": [
    {
     "data": {
      "text/html": [
       "<div>\n",
       "<style scoped>\n",
       "    .dataframe tbody tr th:only-of-type {\n",
       "        vertical-align: middle;\n",
       "    }\n",
       "\n",
       "    .dataframe tbody tr th {\n",
       "        vertical-align: top;\n",
       "    }\n",
       "\n",
       "    .dataframe thead th {\n",
       "        text-align: right;\n",
       "    }\n",
       "</style>\n",
       "<table border=\"1\" class=\"dataframe\">\n",
       "  <thead>\n",
       "    <tr style=\"text-align: right;\">\n",
       "      <th></th>\n",
       "      <th>Path</th>\n",
       "      <th>Type</th>\n",
       "    </tr>\n",
       "  </thead>\n",
       "  <tbody>\n",
       "    <tr>\n",
       "      <th>0</th>\n",
       "      <td>Unclass/Stone 19_2_/10020_750_plasma.png</td>\n",
       "      <td>Unclass</td>\n",
       "    </tr>\n",
       "    <tr>\n",
       "      <th>1</th>\n",
       "      <td>Unclass/Stone 19_2_/10020_677_plasma.png</td>\n",
       "      <td>Unclass</td>\n",
       "    </tr>\n",
       "    <tr>\n",
       "      <th>2</th>\n",
       "      <td>Unclass/Stone 19_2_/10020_1031_plasma.png</td>\n",
       "      <td>Unclass</td>\n",
       "    </tr>\n",
       "    <tr>\n",
       "      <th>3</th>\n",
       "      <td>Unclass/Stone 19_2_/10020_1315_plasma.png</td>\n",
       "      <td>Unclass</td>\n",
       "    </tr>\n",
       "    <tr>\n",
       "      <th>4</th>\n",
       "      <td>Unclass/Stone 19_2_/10020_610_plasma.png</td>\n",
       "      <td>Unclass</td>\n",
       "    </tr>\n",
       "    <tr>\n",
       "      <th>...</th>\n",
       "      <td>...</td>\n",
       "      <td>...</td>\n",
       "    </tr>\n",
       "    <tr>\n",
       "      <th>19212</th>\n",
       "      <td>Unclass/Stone 11__/11_1054_plasma.png</td>\n",
       "      <td>Unclass</td>\n",
       "    </tr>\n",
       "    <tr>\n",
       "      <th>19213</th>\n",
       "      <td>Unclass/Stone 11__/11_535_plasma.png</td>\n",
       "      <td>Unclass</td>\n",
       "    </tr>\n",
       "    <tr>\n",
       "      <th>19214</th>\n",
       "      <td>Unclass/Stone 11__/11_61_plasma.png</td>\n",
       "      <td>Unclass</td>\n",
       "    </tr>\n",
       "    <tr>\n",
       "      <th>19215</th>\n",
       "      <td>Unclass/Stone 11__/11_920_plasma.png</td>\n",
       "      <td>Unclass</td>\n",
       "    </tr>\n",
       "    <tr>\n",
       "      <th>19216</th>\n",
       "      <td>Unclass/Stone 11__/11_1068_plasma.png</td>\n",
       "      <td>Unclass</td>\n",
       "    </tr>\n",
       "  </tbody>\n",
       "</table>\n",
       "<p>19217 rows × 2 columns</p>\n",
       "</div>"
      ],
      "text/plain": [
       "                                            Path     Type\n",
       "0       Unclass/Stone 19_2_/10020_750_plasma.png  Unclass\n",
       "1       Unclass/Stone 19_2_/10020_677_plasma.png  Unclass\n",
       "2      Unclass/Stone 19_2_/10020_1031_plasma.png  Unclass\n",
       "3      Unclass/Stone 19_2_/10020_1315_plasma.png  Unclass\n",
       "4       Unclass/Stone 19_2_/10020_610_plasma.png  Unclass\n",
       "...                                          ...      ...\n",
       "19212      Unclass/Stone 11__/11_1054_plasma.png  Unclass\n",
       "19213       Unclass/Stone 11__/11_535_plasma.png  Unclass\n",
       "19214        Unclass/Stone 11__/11_61_plasma.png  Unclass\n",
       "19215       Unclass/Stone 11__/11_920_plasma.png  Unclass\n",
       "19216      Unclass/Stone 11__/11_1068_plasma.png  Unclass\n",
       "\n",
       "[19217 rows x 2 columns]"
      ]
     },
     "execution_count": 56,
     "metadata": {},
     "output_type": "execute_result"
    }
   ],
   "source": [
    "Unclass_df"
   ]
  },
  {
   "cell_type": "code",
   "execution_count": 57,
   "id": "3711ca0d",
   "metadata": {},
   "outputs": [
    {
     "data": {
      "text/html": [
       "<div>\n",
       "<style scoped>\n",
       "    .dataframe tbody tr th:only-of-type {\n",
       "        vertical-align: middle;\n",
       "    }\n",
       "\n",
       "    .dataframe tbody tr th {\n",
       "        vertical-align: top;\n",
       "    }\n",
       "\n",
       "    .dataframe thead th {\n",
       "        text-align: right;\n",
       "    }\n",
       "</style>\n",
       "<table border=\"1\" class=\"dataframe\">\n",
       "  <thead>\n",
       "    <tr style=\"text-align: right;\">\n",
       "      <th></th>\n",
       "      <th>Path</th>\n",
       "      <th>Type</th>\n",
       "      <th>hash</th>\n",
       "      <th>label</th>\n",
       "    </tr>\n",
       "  </thead>\n",
       "  <tbody>\n",
       "    <tr>\n",
       "      <th>31636</th>\n",
       "      <td>Calcium/Stone 30/10030_649_plasma.png</td>\n",
       "      <td>Calcium</td>\n",
       "      <td>cbcc2a57e17669bcbfce00e080958357</td>\n",
       "      <td>0</td>\n",
       "    </tr>\n",
       "    <tr>\n",
       "      <th>11164</th>\n",
       "      <td>Uric acid/Uric acid with calcium/Stone 155_/10...</td>\n",
       "      <td>Uric acid calcium</td>\n",
       "      <td>39bd5e472ea034f004efe0797e9c72ea</td>\n",
       "      <td>3</td>\n",
       "    </tr>\n",
       "    <tr>\n",
       "      <th>1150</th>\n",
       "      <td>Cystine/Stone 36_/10036_516_plasma.png</td>\n",
       "      <td>Cystine</td>\n",
       "      <td>3c000d593eb69adba529d6175c3c45fd</td>\n",
       "      <td>1</td>\n",
       "    </tr>\n",
       "    <tr>\n",
       "      <th>12695</th>\n",
       "      <td>Uric acid/Uric acid with calcium/Stone N2_/110...</td>\n",
       "      <td>Uric acid calcium</td>\n",
       "      <td>c878ad82a0cd4ba5ad99721577f8eb58</td>\n",
       "      <td>3</td>\n",
       "    </tr>\n",
       "    <tr>\n",
       "      <th>32192</th>\n",
       "      <td>Calcium/Stone 10/10010_647_plasma.png</td>\n",
       "      <td>Calcium</td>\n",
       "      <td>634642adb6119bb6807121acfa9a118d</td>\n",
       "      <td>0</td>\n",
       "    </tr>\n",
       "    <tr>\n",
       "      <th>...</th>\n",
       "      <td>...</td>\n",
       "      <td>...</td>\n",
       "      <td>...</td>\n",
       "      <td>...</td>\n",
       "    </tr>\n",
       "    <tr>\n",
       "      <th>15098</th>\n",
       "      <td>Uric acid/Uric acid with calcium/Stone 28/1002...</td>\n",
       "      <td>Uric acid calcium</td>\n",
       "      <td>04884b5b65c13d09b2fd0d3a78bcc7b2</td>\n",
       "      <td>3</td>\n",
       "    </tr>\n",
       "    <tr>\n",
       "      <th>8904</th>\n",
       "      <td>Uric acid/Pure uric acid/Stone 13__/13_921_pla...</td>\n",
       "      <td>Uric acid</td>\n",
       "      <td>816518f3fe40571fee509fad49a3e676</td>\n",
       "      <td>2</td>\n",
       "    </tr>\n",
       "    <tr>\n",
       "      <th>21636</th>\n",
       "      <td>Calcium/Stone 34_/10034_942_plasma.png</td>\n",
       "      <td>Calcium</td>\n",
       "      <td>8723fe6ab407584b5415c76f84e46a76</td>\n",
       "      <td>0</td>\n",
       "    </tr>\n",
       "    <tr>\n",
       "      <th>2222</th>\n",
       "      <td>Cystine/Stone 153/153_990_plasma.png</td>\n",
       "      <td>Cystine</td>\n",
       "      <td>6692a98719cdf3916ae25ff07e458e79</td>\n",
       "      <td>1</td>\n",
       "    </tr>\n",
       "    <tr>\n",
       "      <th>3798</th>\n",
       "      <td>Uric acid/Pure uric acid/Stone 2_/10002_834_pl...</td>\n",
       "      <td>Uric acid</td>\n",
       "      <td>2b2b2ab2d33c58285a723528d2baf4e4</td>\n",
       "      <td>2</td>\n",
       "    </tr>\n",
       "  </tbody>\n",
       "</table>\n",
       "<p>6220 rows × 4 columns</p>\n",
       "</div>"
      ],
      "text/plain": [
       "                                                    Path               Type  \\\n",
       "31636              Calcium/Stone 30/10030_649_plasma.png            Calcium   \n",
       "11164  Uric acid/Uric acid with calcium/Stone 155_/10...  Uric acid calcium   \n",
       "1150              Cystine/Stone 36_/10036_516_plasma.png            Cystine   \n",
       "12695  Uric acid/Uric acid with calcium/Stone N2_/110...  Uric acid calcium   \n",
       "32192              Calcium/Stone 10/10010_647_plasma.png            Calcium   \n",
       "...                                                  ...                ...   \n",
       "15098  Uric acid/Uric acid with calcium/Stone 28/1002...  Uric acid calcium   \n",
       "8904   Uric acid/Pure uric acid/Stone 13__/13_921_pla...          Uric acid   \n",
       "21636             Calcium/Stone 34_/10034_942_plasma.png            Calcium   \n",
       "2222                Cystine/Stone 153/153_990_plasma.png            Cystine   \n",
       "3798   Uric acid/Pure uric acid/Stone 2_/10002_834_pl...          Uric acid   \n",
       "\n",
       "                                   hash  label  \n",
       "31636  cbcc2a57e17669bcbfce00e080958357      0  \n",
       "11164  39bd5e472ea034f004efe0797e9c72ea      3  \n",
       "1150   3c000d593eb69adba529d6175c3c45fd      1  \n",
       "12695  c878ad82a0cd4ba5ad99721577f8eb58      3  \n",
       "32192  634642adb6119bb6807121acfa9a118d      0  \n",
       "...                                 ...    ...  \n",
       "15098  04884b5b65c13d09b2fd0d3a78bcc7b2      3  \n",
       "8904   816518f3fe40571fee509fad49a3e676      2  \n",
       "21636  8723fe6ab407584b5415c76f84e46a76      0  \n",
       "2222   6692a98719cdf3916ae25ff07e458e79      1  \n",
       "3798   2b2b2ab2d33c58285a723528d2baf4e4      2  \n",
       "\n",
       "[6220 rows x 4 columns]"
      ]
     },
     "execution_count": 57,
     "metadata": {},
     "output_type": "execute_result"
    }
   ],
   "source": [
    "test_df = type_plasma_model.test_df\n",
    "test_df"
   ]
  },
  {
   "cell_type": "code",
   "execution_count": 58,
   "id": "c5da9559",
   "metadata": {},
   "outputs": [
    {
     "data": {
      "image/png": "[encoded data removed]",
      "text/plain": [
       "<Figure size 1200x400 with 3 Axes>"
      ]
     },
     "metadata": {},
     "output_type": "display_data"
    }
   ],
   "source": [
    "met_info = type_plasma_model.output_met()\n",
    "met_info"
   ]
  },
  {
   "cell_type": "code",
   "execution_count": 59,
   "id": "80184263",
   "metadata": {},
   "outputs": [
    {
     "data": {
      "text/plain": [
       "{0: 'Calcium', 1: 'Cystine', 2: 'Uric acid', 3: 'Uric acid calcium'}"
      ]
     },
     "execution_count": 59,
     "metadata": {},
     "output_type": "execute_result"
    }
   ],
   "source": [
    "idx_info = type_plasma_model.idx_output()\n",
    "idx_info"
   ]
  },
  {
   "cell_type": "code",
   "execution_count": 60,
   "id": "376263eb",
   "metadata": {},
   "outputs": [
    {
     "data": {
      "text/plain": [
       "4"
      ]
     },
     "execution_count": 60,
     "metadata": {},
     "output_type": "execute_result"
    }
   ],
   "source": [
    "len(idx_info)"
   ]
  },
  {
   "cell_type": "code",
   "execution_count": 61,
   "id": "c289f698",
   "metadata": {},
   "outputs": [],
   "source": [
    "from Prediction_tool import Predict\n",
    "from PIL import Image"
   ]
  },
  {
   "cell_type": "code",
   "execution_count": 62,
   "id": "84935fe8",
   "metadata": {},
   "outputs": [
    {
     "data": {
      "text/plain": [
       "'type_plasma_model.pth'"
      ]
     },
     "execution_count": 62,
     "metadata": {},
     "output_type": "execute_result"
    }
   ],
   "source": [
    "type_plasma_model_test_model = [\"best_model.pth\", \"averaged_model.pth\", \"type_plasma_model.pth\"][-1]\n",
    "type_plasma_model_test_model"
   ]
  },
  {
   "cell_type": "code",
   "execution_count": 63,
   "id": "a7502b42",
   "metadata": {},
   "outputs": [
    {
     "data": {
      "text/html": [
       "<div>\n",
       "<style scoped>\n",
       "    .dataframe tbody tr th:only-of-type {\n",
       "        vertical-align: middle;\n",
       "    }\n",
       "\n",
       "    .dataframe tbody tr th {\n",
       "        vertical-align: top;\n",
       "    }\n",
       "\n",
       "    .dataframe thead th {\n",
       "        text-align: right;\n",
       "    }\n",
       "</style>\n",
       "<table border=\"1\" class=\"dataframe\">\n",
       "  <thead>\n",
       "    <tr style=\"text-align: right;\">\n",
       "      <th></th>\n",
       "      <th>Path</th>\n",
       "      <th>Type</th>\n",
       "      <th>hash</th>\n",
       "      <th>label</th>\n",
       "    </tr>\n",
       "  </thead>\n",
       "  <tbody>\n",
       "    <tr>\n",
       "      <th>0</th>\n",
       "      <td>Calcium/Stone 30/10030_649_plasma.png</td>\n",
       "      <td>Calcium</td>\n",
       "      <td>cbcc2a57e17669bcbfce00e080958357</td>\n",
       "      <td>0</td>\n",
       "    </tr>\n",
       "    <tr>\n",
       "      <th>1</th>\n",
       "      <td>Uric acid/Uric acid with calcium/Stone 155_/10...</td>\n",
       "      <td>Uric acid calcium</td>\n",
       "      <td>39bd5e472ea034f004efe0797e9c72ea</td>\n",
       "      <td>3</td>\n",
       "    </tr>\n",
       "    <tr>\n",
       "      <th>2</th>\n",
       "      <td>Cystine/Stone 36_/10036_516_plasma.png</td>\n",
       "      <td>Cystine</td>\n",
       "      <td>3c000d593eb69adba529d6175c3c45fd</td>\n",
       "      <td>1</td>\n",
       "    </tr>\n",
       "    <tr>\n",
       "      <th>3</th>\n",
       "      <td>Uric acid/Uric acid with calcium/Stone N2_/110...</td>\n",
       "      <td>Uric acid calcium</td>\n",
       "      <td>c878ad82a0cd4ba5ad99721577f8eb58</td>\n",
       "      <td>3</td>\n",
       "    </tr>\n",
       "    <tr>\n",
       "      <th>4</th>\n",
       "      <td>Calcium/Stone 10/10010_647_plasma.png</td>\n",
       "      <td>Calcium</td>\n",
       "      <td>634642adb6119bb6807121acfa9a118d</td>\n",
       "      <td>0</td>\n",
       "    </tr>\n",
       "    <tr>\n",
       "      <th>...</th>\n",
       "      <td>...</td>\n",
       "      <td>...</td>\n",
       "      <td>...</td>\n",
       "      <td>...</td>\n",
       "    </tr>\n",
       "    <tr>\n",
       "      <th>6215</th>\n",
       "      <td>Uric acid/Uric acid with calcium/Stone 28/1002...</td>\n",
       "      <td>Uric acid calcium</td>\n",
       "      <td>04884b5b65c13d09b2fd0d3a78bcc7b2</td>\n",
       "      <td>3</td>\n",
       "    </tr>\n",
       "    <tr>\n",
       "      <th>6216</th>\n",
       "      <td>Uric acid/Pure uric acid/Stone 13__/13_921_pla...</td>\n",
       "      <td>Uric acid</td>\n",
       "      <td>816518f3fe40571fee509fad49a3e676</td>\n",
       "      <td>2</td>\n",
       "    </tr>\n",
       "    <tr>\n",
       "      <th>6217</th>\n",
       "      <td>Calcium/Stone 34_/10034_942_plasma.png</td>\n",
       "      <td>Calcium</td>\n",
       "      <td>8723fe6ab407584b5415c76f84e46a76</td>\n",
       "      <td>0</td>\n",
       "    </tr>\n",
       "    <tr>\n",
       "      <th>6218</th>\n",
       "      <td>Cystine/Stone 153/153_990_plasma.png</td>\n",
       "      <td>Cystine</td>\n",
       "      <td>6692a98719cdf3916ae25ff07e458e79</td>\n",
       "      <td>1</td>\n",
       "    </tr>\n",
       "    <tr>\n",
       "      <th>6219</th>\n",
       "      <td>Uric acid/Pure uric acid/Stone 2_/10002_834_pl...</td>\n",
       "      <td>Uric acid</td>\n",
       "      <td>2b2b2ab2d33c58285a723528d2baf4e4</td>\n",
       "      <td>2</td>\n",
       "    </tr>\n",
       "  </tbody>\n",
       "</table>\n",
       "<p>6220 rows × 4 columns</p>\n",
       "</div>"
      ],
      "text/plain": [
       "                                                   Path               Type  \\\n",
       "0                 Calcium/Stone 30/10030_649_plasma.png            Calcium   \n",
       "1     Uric acid/Uric acid with calcium/Stone 155_/10...  Uric acid calcium   \n",
       "2                Cystine/Stone 36_/10036_516_plasma.png            Cystine   \n",
       "3     Uric acid/Uric acid with calcium/Stone N2_/110...  Uric acid calcium   \n",
       "4                 Calcium/Stone 10/10010_647_plasma.png            Calcium   \n",
       "...                                                 ...                ...   \n",
       "6215  Uric acid/Uric acid with calcium/Stone 28/1002...  Uric acid calcium   \n",
       "6216  Uric acid/Pure uric acid/Stone 13__/13_921_pla...          Uric acid   \n",
       "6217             Calcium/Stone 34_/10034_942_plasma.png            Calcium   \n",
       "6218               Cystine/Stone 153/153_990_plasma.png            Cystine   \n",
       "6219  Uric acid/Pure uric acid/Stone 2_/10002_834_pl...          Uric acid   \n",
       "\n",
       "                                  hash  label  \n",
       "0     cbcc2a57e17669bcbfce00e080958357      0  \n",
       "1     39bd5e472ea034f004efe0797e9c72ea      3  \n",
       "2     3c000d593eb69adba529d6175c3c45fd      1  \n",
       "3     c878ad82a0cd4ba5ad99721577f8eb58      3  \n",
       "4     634642adb6119bb6807121acfa9a118d      0  \n",
       "...                                ...    ...  \n",
       "6215  04884b5b65c13d09b2fd0d3a78bcc7b2      3  \n",
       "6216  816518f3fe40571fee509fad49a3e676      2  \n",
       "6217  8723fe6ab407584b5415c76f84e46a76      0  \n",
       "6218  6692a98719cdf3916ae25ff07e458e79      1  \n",
       "6219  2b2b2ab2d33c58285a723528d2baf4e4      2  \n",
       "\n",
       "[6220 rows x 4 columns]"
      ]
     },
     "execution_count": 63,
     "metadata": {},
     "output_type": "execute_result"
    }
   ],
   "source": [
    "test_df = test_df.reset_index(drop=True)\n",
    "test_df"
   ]
  },
  {
   "cell_type": "code",
   "execution_count": 64,
   "id": "5f1e1014",
   "metadata": {},
   "outputs": [
    {
     "data": {
      "text/plain": [
       "Type\n",
       "Calcium              3671\n",
       "Uric acid calcium    1129\n",
       "Uric acid            1084\n",
       "Cystine               336\n",
       "Name: count, dtype: int64"
      ]
     },
     "execution_count": 64,
     "metadata": {},
     "output_type": "execute_result"
    }
   ],
   "source": [
    "test_df[\"Type\"].value_counts()"
   ]
  },
  {
   "cell_type": "code",
   "execution_count": 65,
   "id": "99fcbbf5",
   "metadata": {},
   "outputs": [
    {
     "data": {
      "text/plain": [
       "'Calcium/Stone 30/10030_649_plasma.png'"
      ]
     },
     "execution_count": 65,
     "metadata": {},
     "output_type": "execute_result"
    }
   ],
   "source": [
    "test_df.iloc[0].Path"
   ]
  },
  {
   "cell_type": "code",
   "execution_count": 66,
   "id": "d496c47b",
   "metadata": {},
   "outputs": [
    {
     "name": "stdout",
     "output_type": "stream",
     "text": [
      "Using device: cuda\n",
      "GPU: NVIDIA GeForce RTX 4070 Laptop GPU\n"
     ]
    },
    {
     "data": {
      "text/plain": [
       "{'predicted_class': 0,\n",
       " 'confidence': 0.9999984502792358,\n",
       " 'probabilities': array([9.9999845e-01, 1.5476184e-06, 3.1687557e-09, 1.3722813e-09],\n",
       "       dtype=float32)}"
      ]
     },
     "execution_count": 66,
     "metadata": {},
     "output_type": "execute_result"
    }
   ],
   "source": [
    "type_plasma_model_predict = Predict(num_classes=len(idx_info), model_path = type_plasma_model_test_model)\n",
    "type_plasma_model_predict_result = type_plasma_model_predict.predict_single_patch(test_df.iloc[0].Path)\n",
    "type_plasma_model_predict_result"
   ]
  },
  {
   "cell_type": "code",
   "execution_count": 67,
   "id": "3b6236f0",
   "metadata": {},
   "outputs": [
    {
     "data": {
      "text/plain": [
       "{0: 'Calcium', 1: 'Cystine', 2: 'Uric acid', 3: 'Uric acid calcium'}"
      ]
     },
     "execution_count": 67,
     "metadata": {},
     "output_type": "execute_result"
    }
   ],
   "source": [
    "idx_info"
   ]
  },
  {
   "cell_type": "code",
   "execution_count": 68,
   "id": "04b53967",
   "metadata": {},
   "outputs": [
    {
     "name": "stdout",
     "output_type": "stream",
     "text": [
      "Using device: cuda\n",
      "GPU: NVIDIA GeForce RTX 4070 Laptop GPU\n",
      "{'predicted_class': 0, 'confidence': 0.9999984502792358, 'probabilities': array([9.9999845e-01, 1.5476184e-06, 3.1687557e-09, 1.3722813e-09],\n",
      "      dtype=float32)}\n"
     ]
    }
   ],
   "source": [
    "# Укажите device='cuda' вместо 'gpu'\n",
    "type_plasma_model_predict = Predict(\n",
    "    num_classes=len(idx_info),\n",
    "    model_path=type_plasma_model_test_model,\n",
    "    device='cuda'  # Исправлено на 'cuda'\n",
    ")\n",
    "\n",
    "# Пример предсказания\n",
    "result = type_plasma_model_predict.predict_single_patch(test_df.iloc[0].Path)\n",
    "print(result)"
   ]
  },
  {
   "cell_type": "code",
   "execution_count": 69,
   "id": "07861ce6",
   "metadata": {},
   "outputs": [
    {
     "data": {
      "text/plain": [
       "{0: 'Calcium', 1: 'Cystine', 2: 'Uric acid', 3: 'Uric acid calcium'}"
      ]
     },
     "execution_count": 69,
     "metadata": {},
     "output_type": "execute_result"
    }
   ],
   "source": [
    "idx_info"
   ]
  },
  {
   "cell_type": "markdown",
   "id": "a7747aeb",
   "metadata": {},
   "source": [
    "# Теперь поработаем с test_df, заполним его"
   ]
  },
  {
   "cell_type": "code",
   "execution_count": 70,
   "id": "a10bc4a2",
   "metadata": {},
   "outputs": [],
   "source": [
    "from tqdm import tqdm"
   ]
  },
  {
   "cell_type": "code",
   "execution_count": 71,
   "id": "703d735e",
   "metadata": {},
   "outputs": [
    {
     "data": {
      "text/plain": [
       "Type\n",
       "Calcium              24469\n",
       "Uric acid calcium     7525\n",
       "Uric acid             7222\n",
       "Cystine               2244\n",
       "Name: count, dtype: int64"
      ]
     },
     "execution_count": 71,
     "metadata": {},
     "output_type": "execute_result"
    }
   ],
   "source": [
    "complited_data[\"Type\"].value_counts()"
   ]
  },
  {
   "cell_type": "code",
   "execution_count": 72,
   "id": "073ef3d4",
   "metadata": {},
   "outputs": [
    {
     "name": "stderr",
     "output_type": "stream",
     "text": [
      "Processing images: 100%|██████████| 6220/6220 [00:44<00:00, 139.19it/s]\n"
     ]
    }
   ],
   "source": [
    "for i, row in tqdm(test_df.iterrows(), total=len(test_df), desc=\"Processing images\"):\n",
    "    image_path = row[\"Path\"]\n",
    "    \n",
    "    result = type_plasma_model_predict_result = type_plasma_model_predict.predict_single_patch(image_path)\n",
    "    \n",
    "    predicted_label = result['predicted_class']\n",
    "    probabilities = result['probabilities'] \n",
    "    \n",
    "    test_df.at[i, 'Predicted_label'] = int(predicted_label)\n",
    "    test_df.at[i, 'Predicted_type'] = idx_info[predicted_label]\n",
    "    test_df.at[i, 'Confidence'] = result[\"confidence\"]\n",
    "    test_df.at[i, 'prob_Calcium'] = probabilities[0]\n",
    "    test_df.at[i, 'prob_Cystine'] = probabilities[1]\n",
    "    test_df.at[i, 'prob_Uric acid'] = probabilities[2]\n",
    "    test_df.at[i, 'prob_Uric acid calcium'] = probabilities[3]\n",
    "    \n",
    "\n",
    "    \n",
    "    \n",
    "    \n",
    "    \n"
   ]
  },
  {
   "cell_type": "code",
   "execution_count": 73,
   "id": "1357bc84",
   "metadata": {},
   "outputs": [],
   "source": [
    "test_df.to_excel(\"test_df.xlsx\")"
   ]
  },
  {
   "cell_type": "markdown",
   "id": "b0bc314e",
   "metadata": {},
   "source": [
    "# Посчитаем метрики"
   ]
  },
  {
   "cell_type": "code",
   "execution_count": 74,
   "id": "21df8b04",
   "metadata": {},
   "outputs": [
    {
     "data": {
      "image/png": "[encoded data removed]",
      "text/plain": [
       "<Figure size 640x480 with 2 Axes>"
      ]
     },
     "metadata": {},
     "output_type": "display_data"
    }
   ],
   "source": [
    "from sklearn.metrics import confusion_matrix, ConfusionMatrixDisplay\n",
    "import matplotlib.pyplot as plt\n",
    "\n",
    "cm = confusion_matrix(test_df['label'], test_df['Predicted_label'])\n",
    "disp = ConfusionMatrixDisplay(confusion_matrix=cm, \n",
    "                              display_labels=list(idx_info.values()))\n",
    "disp.plot(cmap='Blues', values_format='d')\n",
    "plt.title('Confusion Matrix')\n",
    "plt.show()"
   ]
  },
  {
   "cell_type": "code",
   "execution_count": 75,
   "id": "58b8db25",
   "metadata": {},
   "outputs": [
    {
     "data": {
      "text/plain": [
       "array([[3572,   68,   24,    7],\n",
       "       [  10,  315,    9,    2],\n",
       "       [   0,    5, 1075,    4],\n",
       "       [   1,    2,    0, 1126]])"
      ]
     },
     "execution_count": 75,
     "metadata": {},
     "output_type": "execute_result"
    }
   ],
   "source": [
    "cm"
   ]
  },
  {
   "cell_type": "code",
   "execution_count": 76,
   "id": "ebda340d",
   "metadata": {},
   "outputs": [
    {
     "data": {
      "image/png": "[encoded data removed]",
      "text/plain": [
       "<Figure size 640x480 with 2 Axes>"
      ]
     },
     "metadata": {},
     "output_type": "display_data"
    },
    {
     "name": "stdout",
     "output_type": "stream",
     "text": [
      "Normalized CM (row-wise):\n",
      "[[0.973 0.019 0.007 0.002]\n",
      " [0.03  0.938 0.027 0.006]\n",
      " [0.    0.005 0.992 0.004]\n",
      " [0.001 0.002 0.    0.997]]\n"
     ]
    }
   ],
   "source": [
    "\n",
    "\n",
    "# Рассчитываем обычную матрицу ошибок\n",
    "cm = confusion_matrix(test_df['label'], test_df['Predicted_label'])\n",
    "\n",
    "# Нормируем матрицу по строкам (верные метки)\n",
    "cm_normalized = cm.astype('float') / cm.sum(axis=1)[:, np.newaxis]\n",
    "\n",
    "# Создаем визуализацию с частотами\n",
    "disp = ConfusionMatrixDisplay(\n",
    "    confusion_matrix=cm_normalized,\n",
    "    display_labels=list(idx_info.values())\n",
    ")\n",
    "\n",
    "# Настраиваем формат отображения (два знака после запятой)\n",
    "disp.plot(cmap='Blues', values_format='.2f')  # Используйте '.1%' для процентов\n",
    "\n",
    "plt.title('Normalized Confusion Matrix (by row)')\n",
    "plt.show()\n",
    "\n",
    "# Выводим числовое представление матрицы (опционально)\n",
    "print(\"Normalized CM (row-wise):\")\n",
    "print(np.round(cm_normalized, 3))"
   ]
  },
  {
   "cell_type": "code",
   "execution_count": 77,
   "id": "b3edd785",
   "metadata": {},
   "outputs": [
    {
     "name": "stdout",
     "output_type": "stream",
     "text": [
      "                   precision    recall  f1-score   support\n",
      "\n",
      "          Calcium       1.00      0.97      0.98      3671\n",
      "          Cystine       0.81      0.94      0.87       336\n",
      "        Uric acid       0.97      0.99      0.98      1084\n",
      "Uric acid calcium       0.99      1.00      0.99      1129\n",
      "\n",
      "         accuracy                           0.98      6220\n",
      "        macro avg       0.94      0.97      0.96      6220\n",
      "     weighted avg       0.98      0.98      0.98      6220\n",
      "\n"
     ]
    }
   ],
   "source": [
    "from sklearn.metrics import classification_report\n",
    "\n",
    "print(classification_report(\n",
    "    test_df['label'],\n",
    "    test_df['Predicted_label'],\n",
    "    target_names=list(idx_info.values())\n",
    "))"
   ]
  },
  {
   "cell_type": "markdown",
   "id": "d8b124c3",
   "metadata": {},
   "source": [
    "#  Cystine Их очень мало!!!  Можно ли побольше выделить????"
   ]
  },
  {
   "cell_type": "code",
   "execution_count": 84,
   "id": "29b59826",
   "metadata": {},
   "outputs": [
    {
     "data": {
      "text/plain": [
       "(2245, 2)"
      ]
     },
     "execution_count": 84,
     "metadata": {},
     "output_type": "execute_result"
    }
   ],
   "source": [
    "Cystine_df.shape"
   ]
  },
  {
   "cell_type": "code",
   "execution_count": 85,
   "id": "e9210c3b",
   "metadata": {},
   "outputs": [
    {
     "data": {
      "image/png": "[encoded data removed]",
      "text/plain": [
       "<Figure size 1000x800 with 1 Axes>"
      ]
     },
     "metadata": {},
     "output_type": "display_data"
    }
   ],
   "source": [
    "from sklearn.metrics import precision_recall_curve, PrecisionRecallDisplay\n",
    "from sklearn.preprocessing import label_binarize\n",
    "\n",
    "# Преобразуем метки в one-hot encoding\n",
    "y_true = label_binarize(test_df['label'], classes=[0,1,2,3])\n",
    "y_score = test_df[['prob_Calcium', \"prob_Cystine\",'prob_Uric acid', 'prob_Uric acid calcium']].values\n",
    "\n",
    "# Создаем subplot для каждого класса\n",
    "fig, ax = plt.subplots(figsize=(10, 8))\n",
    "for i, cls in enumerate(idx_info.values()):\n",
    "    PrecisionRecallDisplay.from_predictions(\n",
    "        y_true[:, i],\n",
    "        y_score[:, i],\n",
    "        name=f\"{cls}\",\n",
    "        ax=ax\n",
    "    )\n",
    "ax.set_title(\"Precision-Recall Curve per Class\")\n",
    "ax.legend(loc='best')\n",
    "ax.grid()\n",
    "plt.show()"
   ]
  },
  {
   "cell_type": "code",
   "execution_count": 86,
   "id": "bec2c30f",
   "metadata": {},
   "outputs": [
    {
     "data": {
      "image/png": "[encoded data removed]",
      "text/plain": [
       "<Figure size 1000x800 with 1 Axes>"
      ]
     },
     "metadata": {},
     "output_type": "display_data"
    },
    {
     "name": "stdout",
     "output_type": "stream",
     "text": [
      "AUC Scores:\n",
      "Calcium: 0.9994\n",
      "Cystine: 0.9952\n",
      "Uric acid: 0.9996\n",
      "Uric acid calcium: 0.9999\n"
     ]
    }
   ],
   "source": [
    "from sklearn.metrics import roc_curve, auc, RocCurveDisplay\n",
    "from sklearn.preprocessing import label_binarize\n",
    "import matplotlib.pyplot as plt\n",
    "\n",
    "# Преобразуем метки в one-hot encoding\n",
    "y_true = label_binarize(test_df['label'], classes=[0,1,2,3])\n",
    "y_score = test_df[['prob_Calcium', \"prob_Cystine\",\n",
    "                   'prob_Uric acid', 'prob_Uric acid calcium']].values\n",
    "\n",
    "fig, ax = plt.subplots(figsize=(10, 8))\n",
    "\n",
    "# Создадим словарь для хранения AUC значений\n",
    "auc_scores = {}\n",
    "\n",
    "for i, cls in enumerate(idx_info.values()):\n",
    "    # Вычисляем ROC кривую и AUC\n",
    "    fpr, tpr, _ = roc_curve(y_true[:, i], y_score[:, i])\n",
    "    roc_auc = auc(fpr, tpr)\n",
    "    auc_scores[cls] = roc_auc\n",
    "    \n",
    "    # Строим кривую с подписью (включая AUC)\n",
    "    RocCurveDisplay(\n",
    "        fpr=fpr,\n",
    "        tpr=tpr,\n",
    "        roc_auc=roc_auc,\n",
    "        estimator_name=f\"{cls} (AUC={roc_auc:.2f})\"\n",
    "    ).plot(ax=ax)\n",
    "\n",
    "# Добавляем диагональ (random classifier)\n",
    "ax.plot([0, 1], [0, 1], 'k--', label=\"Random (AUC=0.50)\")\n",
    "\n",
    "ax.set_title(\"ROC Curves per Class\")\n",
    "ax.set_xlabel(\"False Positive Rate\")\n",
    "ax.set_ylabel(\"True Positive Rate\")\n",
    "ax.legend(loc='lower right')  # Лучшее расположение для ROC\n",
    "ax.grid()\n",
    "plt.show()\n",
    "\n",
    "# Дополнительно: выведем AUC значения\n",
    "print(\"AUC Scores:\")\n",
    "for cls, score in auc_scores.items():\n",
    "    print(f\"{cls}: {score:.4f}\")"
   ]
  },
  {
   "cell_type": "code",
   "execution_count": 87,
   "id": "8d838950",
   "metadata": {},
   "outputs": [
    {
     "data": {
      "image/png": "[encoded data removed]",
      "text/plain": [
       "<Figure size 1000x600 with 1 Axes>"
      ]
     },
     "metadata": {},
     "output_type": "display_data"
    }
   ],
   "source": [
    "import numpy as np\n",
    "\n",
    "# Вычисляем accuracy для каждого класса\n",
    "class_acc = {}\n",
    "for label, name in idx_info.items():\n",
    "    class_samples = test_df[test_df['label'] == label]\n",
    "    correct = (class_samples['label'] == class_samples['Predicted_label']).sum()\n",
    "    class_acc[name] = correct / len(class_samples)\n",
    "\n",
    "# Визуализация\n",
    "plt.figure(figsize=(10, 6))\n",
    "plt.bar(class_acc.keys(), class_acc.values(), color='skyblue')\n",
    "plt.axhline(y=test_df['label'].eq(test_df['Predicted_label']).mean(), \n",
    "            color='r', \n",
    "            linestyle='--', \n",
    "            label='Overall Accuracy')\n",
    "plt.ylabel('Accuracy')\n",
    "plt.title('Class-wise Accuracy')\n",
    "plt.ylim(0, 1.05)\n",
    "plt.legend()\n",
    "plt.show()"
   ]
  },
  {
   "cell_type": "code",
   "execution_count": 88,
   "id": "29038047",
   "metadata": {},
   "outputs": [],
   "source": [
    "test_df.to_excel(\"test_df.xlsx\")"
   ]
  },
  {
   "cell_type": "code",
   "execution_count": 109,
   "id": "ba7e0b1e",
   "metadata": {},
   "outputs": [],
   "source": [
    "#type_plasma_model.clear_memory()"
   ]
  },
  {
   "cell_type": "code",
   "execution_count": null,
   "id": "e204caa2",
   "metadata": {},
   "outputs": [],
   "source": []
  },
  {
   "cell_type": "code",
   "execution_count": 89,
   "id": "0257ac15",
   "metadata": {},
   "outputs": [
    {
     "data": {
      "text/html": [
       "<div>\n",
       "<style scoped>\n",
       "    .dataframe tbody tr th:only-of-type {\n",
       "        vertical-align: middle;\n",
       "    }\n",
       "\n",
       "    .dataframe tbody tr th {\n",
       "        vertical-align: top;\n",
       "    }\n",
       "\n",
       "    .dataframe thead th {\n",
       "        text-align: right;\n",
       "    }\n",
       "</style>\n",
       "<table border=\"1\" class=\"dataframe\">\n",
       "  <thead>\n",
       "    <tr style=\"text-align: right;\">\n",
       "      <th></th>\n",
       "      <th>Path</th>\n",
       "      <th>Type</th>\n",
       "    </tr>\n",
       "  </thead>\n",
       "  <tbody>\n",
       "    <tr>\n",
       "      <th>0</th>\n",
       "      <td>Unclass/Stone 19_2_/10020_750_plasma.png</td>\n",
       "      <td>Unclass</td>\n",
       "    </tr>\n",
       "    <tr>\n",
       "      <th>1</th>\n",
       "      <td>Unclass/Stone 19_2_/10020_677_plasma.png</td>\n",
       "      <td>Unclass</td>\n",
       "    </tr>\n",
       "    <tr>\n",
       "      <th>2</th>\n",
       "      <td>Unclass/Stone 19_2_/10020_1031_plasma.png</td>\n",
       "      <td>Unclass</td>\n",
       "    </tr>\n",
       "    <tr>\n",
       "      <th>3</th>\n",
       "      <td>Unclass/Stone 19_2_/10020_1315_plasma.png</td>\n",
       "      <td>Unclass</td>\n",
       "    </tr>\n",
       "    <tr>\n",
       "      <th>4</th>\n",
       "      <td>Unclass/Stone 19_2_/10020_610_plasma.png</td>\n",
       "      <td>Unclass</td>\n",
       "    </tr>\n",
       "    <tr>\n",
       "      <th>...</th>\n",
       "      <td>...</td>\n",
       "      <td>...</td>\n",
       "    </tr>\n",
       "    <tr>\n",
       "      <th>19212</th>\n",
       "      <td>Unclass/Stone 11__/11_1054_plasma.png</td>\n",
       "      <td>Unclass</td>\n",
       "    </tr>\n",
       "    <tr>\n",
       "      <th>19213</th>\n",
       "      <td>Unclass/Stone 11__/11_535_plasma.png</td>\n",
       "      <td>Unclass</td>\n",
       "    </tr>\n",
       "    <tr>\n",
       "      <th>19214</th>\n",
       "      <td>Unclass/Stone 11__/11_61_plasma.png</td>\n",
       "      <td>Unclass</td>\n",
       "    </tr>\n",
       "    <tr>\n",
       "      <th>19215</th>\n",
       "      <td>Unclass/Stone 11__/11_920_plasma.png</td>\n",
       "      <td>Unclass</td>\n",
       "    </tr>\n",
       "    <tr>\n",
       "      <th>19216</th>\n",
       "      <td>Unclass/Stone 11__/11_1068_plasma.png</td>\n",
       "      <td>Unclass</td>\n",
       "    </tr>\n",
       "  </tbody>\n",
       "</table>\n",
       "<p>19217 rows × 2 columns</p>\n",
       "</div>"
      ],
      "text/plain": [
       "                                            Path     Type\n",
       "0       Unclass/Stone 19_2_/10020_750_plasma.png  Unclass\n",
       "1       Unclass/Stone 19_2_/10020_677_plasma.png  Unclass\n",
       "2      Unclass/Stone 19_2_/10020_1031_plasma.png  Unclass\n",
       "3      Unclass/Stone 19_2_/10020_1315_plasma.png  Unclass\n",
       "4       Unclass/Stone 19_2_/10020_610_plasma.png  Unclass\n",
       "...                                          ...      ...\n",
       "19212      Unclass/Stone 11__/11_1054_plasma.png  Unclass\n",
       "19213       Unclass/Stone 11__/11_535_plasma.png  Unclass\n",
       "19214        Unclass/Stone 11__/11_61_plasma.png  Unclass\n",
       "19215       Unclass/Stone 11__/11_920_plasma.png  Unclass\n",
       "19216      Unclass/Stone 11__/11_1068_plasma.png  Unclass\n",
       "\n",
       "[19217 rows x 2 columns]"
      ]
     },
     "execution_count": 89,
     "metadata": {},
     "output_type": "execute_result"
    }
   ],
   "source": [
    "Unclass_df"
   ]
  },
  {
   "cell_type": "code",
   "execution_count": 90,
   "id": "8040625c",
   "metadata": {},
   "outputs": [
    {
     "name": "stderr",
     "output_type": "stream",
     "text": [
      "Processing images: 100%|██████████| 19217/19217 [02:15<00:00, 142.01it/s]\n"
     ]
    }
   ],
   "source": [
    "for i, row in tqdm(Unclass_df.iterrows(), total=len(Unclass_df), desc=\"Processing images\"):\n",
    "    image_path = row[\"Path\"]\n",
    "    \n",
    "    result = type_plasma_model_predict_result = type_plasma_model_predict.predict_single_patch(image_path)\n",
    "    \n",
    "    predicted_label = result['predicted_class']\n",
    "    probabilities = result['probabilities'] \n",
    "    \n",
    "    Unclass_df.at[i, 'Predicted_label'] = int(predicted_label)\n",
    "    Unclass_df.at[i, 'Predicted_type'] = idx_info[predicted_label]\n",
    "    Unclass_df.at[i, 'Confidence'] = result[\"confidence\"]\n",
    "    Unclass_df.at[i, 'prob_Calcium'] = probabilities[0]\n",
    "    Unclass_df.at[i, 'prob_Cystine'] = probabilities[1]\n",
    "    Unclass_df.at[i, 'prob_Uric acid'] = probabilities[2]\n",
    "    Unclass_df.at[i, 'prob_Uric acid calcium'] = probabilities[3]\n",
    "    "
   ]
  },
  {
   "cell_type": "code",
   "execution_count": 91,
   "id": "09fd284e",
   "metadata": {},
   "outputs": [],
   "source": [
    "Unclass_df.to_excel(\"Unclass_df.xlsx\")"
   ]
  },
  {
   "cell_type": "code",
   "execution_count": 92,
   "id": "b28176f9",
   "metadata": {},
   "outputs": [
    {
     "data": {
      "text/html": [
       "<div>\n",
       "<style scoped>\n",
       "    .dataframe tbody tr th:only-of-type {\n",
       "        vertical-align: middle;\n",
       "    }\n",
       "\n",
       "    .dataframe tbody tr th {\n",
       "        vertical-align: top;\n",
       "    }\n",
       "\n",
       "    .dataframe thead th {\n",
       "        text-align: right;\n",
       "    }\n",
       "</style>\n",
       "<table border=\"1\" class=\"dataframe\">\n",
       "  <thead>\n",
       "    <tr style=\"text-align: right;\">\n",
       "      <th></th>\n",
       "      <th>Path</th>\n",
       "      <th>Type</th>\n",
       "      <th>Predicted_label</th>\n",
       "      <th>Predicted_type</th>\n",
       "      <th>Confidence</th>\n",
       "      <th>prob_Calcium</th>\n",
       "      <th>prob_Cystine</th>\n",
       "      <th>prob_Uric acid</th>\n",
       "      <th>prob_Uric acid calcium</th>\n",
       "    </tr>\n",
       "  </thead>\n",
       "  <tbody>\n",
       "    <tr>\n",
       "      <th>0</th>\n",
       "      <td>Unclass/Stone 19_2_/10020_750_plasma.png</td>\n",
       "      <td>Unclass</td>\n",
       "      <td>0.0</td>\n",
       "      <td>Calcium</td>\n",
       "      <td>1.000000</td>\n",
       "      <td>1.000000</td>\n",
       "      <td>7.457368e-08</td>\n",
       "      <td>9.110155e-09</td>\n",
       "      <td>6.882418e-08</td>\n",
       "    </tr>\n",
       "    <tr>\n",
       "      <th>1</th>\n",
       "      <td>Unclass/Stone 19_2_/10020_677_plasma.png</td>\n",
       "      <td>Unclass</td>\n",
       "      <td>0.0</td>\n",
       "      <td>Calcium</td>\n",
       "      <td>1.000000</td>\n",
       "      <td>1.000000</td>\n",
       "      <td>1.082459e-07</td>\n",
       "      <td>7.840558e-09</td>\n",
       "      <td>1.020513e-07</td>\n",
       "    </tr>\n",
       "    <tr>\n",
       "      <th>2</th>\n",
       "      <td>Unclass/Stone 19_2_/10020_1031_plasma.png</td>\n",
       "      <td>Unclass</td>\n",
       "      <td>0.0</td>\n",
       "      <td>Calcium</td>\n",
       "      <td>0.999997</td>\n",
       "      <td>0.999997</td>\n",
       "      <td>9.792016e-07</td>\n",
       "      <td>1.588316e-06</td>\n",
       "      <td>8.545466e-07</td>\n",
       "    </tr>\n",
       "    <tr>\n",
       "      <th>3</th>\n",
       "      <td>Unclass/Stone 19_2_/10020_1315_plasma.png</td>\n",
       "      <td>Unclass</td>\n",
       "      <td>0.0</td>\n",
       "      <td>Calcium</td>\n",
       "      <td>0.999951</td>\n",
       "      <td>0.999951</td>\n",
       "      <td>1.133822e-05</td>\n",
       "      <td>2.827574e-06</td>\n",
       "      <td>3.441249e-05</td>\n",
       "    </tr>\n",
       "    <tr>\n",
       "      <th>4</th>\n",
       "      <td>Unclass/Stone 19_2_/10020_610_plasma.png</td>\n",
       "      <td>Unclass</td>\n",
       "      <td>0.0</td>\n",
       "      <td>Calcium</td>\n",
       "      <td>0.999999</td>\n",
       "      <td>0.999999</td>\n",
       "      <td>5.549502e-07</td>\n",
       "      <td>2.111723e-07</td>\n",
       "      <td>1.643471e-07</td>\n",
       "    </tr>\n",
       "    <tr>\n",
       "      <th>...</th>\n",
       "      <td>...</td>\n",
       "      <td>...</td>\n",
       "      <td>...</td>\n",
       "      <td>...</td>\n",
       "      <td>...</td>\n",
       "      <td>...</td>\n",
       "      <td>...</td>\n",
       "      <td>...</td>\n",
       "      <td>...</td>\n",
       "    </tr>\n",
       "    <tr>\n",
       "      <th>19212</th>\n",
       "      <td>Unclass/Stone 11__/11_1054_plasma.png</td>\n",
       "      <td>Unclass</td>\n",
       "      <td>0.0</td>\n",
       "      <td>Calcium</td>\n",
       "      <td>0.999983</td>\n",
       "      <td>0.999983</td>\n",
       "      <td>1.621462e-05</td>\n",
       "      <td>5.146208e-07</td>\n",
       "      <td>4.641220e-07</td>\n",
       "    </tr>\n",
       "    <tr>\n",
       "      <th>19213</th>\n",
       "      <td>Unclass/Stone 11__/11_535_plasma.png</td>\n",
       "      <td>Unclass</td>\n",
       "      <td>0.0</td>\n",
       "      <td>Calcium</td>\n",
       "      <td>0.999731</td>\n",
       "      <td>0.999731</td>\n",
       "      <td>2.931250e-06</td>\n",
       "      <td>5.189738e-07</td>\n",
       "      <td>2.653853e-04</td>\n",
       "    </tr>\n",
       "    <tr>\n",
       "      <th>19214</th>\n",
       "      <td>Unclass/Stone 11__/11_61_plasma.png</td>\n",
       "      <td>Unclass</td>\n",
       "      <td>1.0</td>\n",
       "      <td>Cystine</td>\n",
       "      <td>0.442263</td>\n",
       "      <td>0.250069</td>\n",
       "      <td>4.422629e-01</td>\n",
       "      <td>2.194309e-01</td>\n",
       "      <td>8.823746e-02</td>\n",
       "    </tr>\n",
       "    <tr>\n",
       "      <th>19215</th>\n",
       "      <td>Unclass/Stone 11__/11_920_plasma.png</td>\n",
       "      <td>Unclass</td>\n",
       "      <td>0.0</td>\n",
       "      <td>Calcium</td>\n",
       "      <td>1.000000</td>\n",
       "      <td>1.000000</td>\n",
       "      <td>5.391418e-08</td>\n",
       "      <td>1.739066e-08</td>\n",
       "      <td>8.316107e-08</td>\n",
       "    </tr>\n",
       "    <tr>\n",
       "      <th>19216</th>\n",
       "      <td>Unclass/Stone 11__/11_1068_plasma.png</td>\n",
       "      <td>Unclass</td>\n",
       "      <td>0.0</td>\n",
       "      <td>Calcium</td>\n",
       "      <td>0.999984</td>\n",
       "      <td>0.999984</td>\n",
       "      <td>1.536179e-05</td>\n",
       "      <td>4.207087e-07</td>\n",
       "      <td>5.571879e-07</td>\n",
       "    </tr>\n",
       "  </tbody>\n",
       "</table>\n",
       "<p>19217 rows × 9 columns</p>\n",
       "</div>"
      ],
      "text/plain": [
       "                                            Path     Type  Predicted_label  \\\n",
       "0       Unclass/Stone 19_2_/10020_750_plasma.png  Unclass              0.0   \n",
       "1       Unclass/Stone 19_2_/10020_677_plasma.png  Unclass              0.0   \n",
       "2      Unclass/Stone 19_2_/10020_1031_plasma.png  Unclass              0.0   \n",
       "3      Unclass/Stone 19_2_/10020_1315_plasma.png  Unclass              0.0   \n",
       "4       Unclass/Stone 19_2_/10020_610_plasma.png  Unclass              0.0   \n",
       "...                                          ...      ...              ...   \n",
       "19212      Unclass/Stone 11__/11_1054_plasma.png  Unclass              0.0   \n",
       "19213       Unclass/Stone 11__/11_535_plasma.png  Unclass              0.0   \n",
       "19214        Unclass/Stone 11__/11_61_plasma.png  Unclass              1.0   \n",
       "19215       Unclass/Stone 11__/11_920_plasma.png  Unclass              0.0   \n",
       "19216      Unclass/Stone 11__/11_1068_plasma.png  Unclass              0.0   \n",
       "\n",
       "      Predicted_type  Confidence  prob_Calcium  prob_Cystine  prob_Uric acid  \\\n",
       "0            Calcium    1.000000      1.000000  7.457368e-08    9.110155e-09   \n",
       "1            Calcium    1.000000      1.000000  1.082459e-07    7.840558e-09   \n",
       "2            Calcium    0.999997      0.999997  9.792016e-07    1.588316e-06   \n",
       "3            Calcium    0.999951      0.999951  1.133822e-05    2.827574e-06   \n",
       "4            Calcium    0.999999      0.999999  5.549502e-07    2.111723e-07   \n",
       "...              ...         ...           ...           ...             ...   \n",
       "19212        Calcium    0.999983      0.999983  1.621462e-05    5.146208e-07   \n",
       "19213        Calcium    0.999731      0.999731  2.931250e-06    5.189738e-07   \n",
       "19214        Cystine    0.442263      0.250069  4.422629e-01    2.194309e-01   \n",
       "19215        Calcium    1.000000      1.000000  5.391418e-08    1.739066e-08   \n",
       "19216        Calcium    0.999984      0.999984  1.536179e-05    4.207087e-07   \n",
       "\n",
       "       prob_Uric acid calcium  \n",
       "0                6.882418e-08  \n",
       "1                1.020513e-07  \n",
       "2                8.545466e-07  \n",
       "3                3.441249e-05  \n",
       "4                1.643471e-07  \n",
       "...                       ...  \n",
       "19212            4.641220e-07  \n",
       "19213            2.653853e-04  \n",
       "19214            8.823746e-02  \n",
       "19215            8.316107e-08  \n",
       "19216            5.571879e-07  \n",
       "\n",
       "[19217 rows x 9 columns]"
      ]
     },
     "execution_count": 92,
     "metadata": {},
     "output_type": "execute_result"
    }
   ],
   "source": [
    "Unclass_df"
   ]
  },
  {
   "cell_type": "markdown",
   "id": "9d591859",
   "metadata": {},
   "source": [
    "Predicted_label\n",
    "0.0    2887\n",
    "1.0     571\n",
    "2.0     507\n",
    "3.0     242\n",
    "Name: count, dtype: int64"
   ]
  },
  {
   "cell_type": "code",
   "execution_count": 94,
   "id": "74773228",
   "metadata": {},
   "outputs": [
    {
     "data": {
      "text/plain": [
       "Predicted_label\n",
       "0.0    17340\n",
       "1.0     1436\n",
       "3.0      374\n",
       "2.0       67\n",
       "Name: count, dtype: int64"
      ]
     },
     "execution_count": 94,
     "metadata": {},
     "output_type": "execute_result"
    }
   ],
   "source": [
    "Unclass_df[\"Predicted_label\"].value_counts()"
   ]
  }
 ],
 "metadata": {
  "kernelspec": {
   "display_name": "base",
   "language": "python",
   "name": "python3"
  },
  "language_info": {
   "codemirror_mode": {
    "name": "ipython",
    "version": 3
   },
   "file_extension": ".py",
   "mimetype": "text/x-python",
   "name": "python",
   "nbconvert_exporter": "python",
   "pygments_lexer": "ipython3",
   "version": "3.13.5"
  }
 },
 "nbformat": 4,
 "nbformat_minor": 5
}
