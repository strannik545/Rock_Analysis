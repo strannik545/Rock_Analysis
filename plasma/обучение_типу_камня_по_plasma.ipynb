{
 "cells": [
  {
   "cell_type": "markdown",
   "id": "381ef6cc",
   "metadata": {},
   "source": [
    "#  Импортируем необходимые либы"
   ]
  },
  {
   "cell_type": "code",
   "execution_count": 1,
   "id": "705ae72a",
   "metadata": {},
   "outputs": [],
   "source": [
    "import pandas as pd \n",
    "import numpy as np \n",
    "import os\n",
    "import cv2\n",
    "import math"
   ]
  },
  {
   "cell_type": "code",
   "execution_count": 2,
   "id": "eaaf9c91",
   "metadata": {},
   "outputs": [
    {
     "data": {
      "text/plain": [
       "['Classification_library.py',\n",
       " 'pp_tool.py',\n",
       " 'Cystine',\n",
       " 'type_plasma_model.pth',\n",
       " 'Uric acid',\n",
       " 'averaged_model.pth',\n",
       " 'lol.py',\n",
       " 'Unclass',\n",
       " '__pycache__',\n",
       " 'test_df.xlsx',\n",
       " 'Unclass_df.xlsx',\n",
       " 'Calcium',\n",
       " 'Classification_library.py:Zone.Identifier',\n",
       " 'Prediction_tool.py',\n",
       " 'temp_fold_0.pth',\n",
       " 'o',\n",
       " 'обучение_типу_камня_по_plasma.ipynb',\n",
       " 'p_tool.py',\n",
       " 'best_model.pth',\n",
       " 'Prediction_tool.py:Zone.Identifier']"
      ]
     },
     "execution_count": 2,
     "metadata": {},
     "output_type": "execute_result"
    }
   ],
   "source": [
    "dir_files = os.listdir(\".\")\n",
    "dir_files"
   ]
  },
  {
   "cell_type": "markdown",
   "id": "7e052479",
   "metadata": {},
   "source": [
    "# функция для поиска в глубину png файлов"
   ]
  },
  {
   "cell_type": "code",
   "execution_count": 3,
   "id": "06c83c09",
   "metadata": {},
   "outputs": [],
   "source": [
    "def get_png_files(path='.'):\n",
    "    png_files = []\n",
    "    \n",
    "    def dfs_search(current_path):\n",
    "        try:\n",
    "            for entry in os.listdir(current_path):\n",
    "                full_path = os.path.join(current_path, entry)\n",
    "                if os.path.isfile(full_path):\n",
    "                    if full_path.lower().endswith('.png'):\n",
    "                        png_files.append(full_path)\n",
    "                elif os.path.isdir(full_path):\n",
    "                    dfs_search(full_path)\n",
    "        except PermissionError:\n",
    "            pass  #пропускаем директории, к которым нет доступа\n",
    "    \n",
    "    dfs_search(path)\n",
    "    return png_files"
   ]
  },
  {
   "cell_type": "markdown",
   "id": "4d32edf9",
   "metadata": {},
   "source": [
    "# Цистиновые"
   ]
  },
  {
   "cell_type": "code",
   "execution_count": 4,
   "id": "e31094ca",
   "metadata": {},
   "outputs": [
    {
     "name": "stdout",
     "output_type": "stream",
     "text": [
      "Found 409 PNG files:\n"
     ]
    }
   ],
   "source": [
    "Cystine_files = get_png_files('Cystine')\n",
    "print(f\"Found {len(Cystine_files)} PNG files:\")"
   ]
  },
  {
   "cell_type": "markdown",
   "id": "0f80b9d4",
   "metadata": {},
   "source": [
    "# Урататные"
   ]
  },
  {
   "cell_type": "code",
   "execution_count": 5,
   "id": "06f3ff1c",
   "metadata": {},
   "outputs": [
    {
     "data": {
      "text/plain": [
       "['Pure uric acid', 'Uric acid with calcium']"
      ]
     },
     "execution_count": 5,
     "metadata": {},
     "output_type": "execute_result"
    }
   ],
   "source": [
    "os.listdir(\"Uric acid\")"
   ]
  },
  {
   "cell_type": "code",
   "execution_count": 6,
   "id": "70145155",
   "metadata": {},
   "outputs": [
    {
     "name": "stdout",
     "output_type": "stream",
     "text": [
      "Found 3274 PNG files:\n"
     ]
    }
   ],
   "source": [
    "Uric_acid_files = get_png_files('Uric acid/Pure uric acid')\n",
    "print(f\"Found {len(Uric_acid_files)} PNG files:\")"
   ]
  },
  {
   "cell_type": "code",
   "execution_count": 7,
   "id": "0576081f",
   "metadata": {},
   "outputs": [
    {
     "name": "stdout",
     "output_type": "stream",
     "text": [
      "Found 692 PNG files:\n"
     ]
    }
   ],
   "source": [
    "Uric_acid_calcium_files = get_png_files('Uric acid/Uric acid with calcium')\n",
    "print(f\"Found {len(Uric_acid_calcium_files)} PNG files:\")"
   ]
  },
  {
   "cell_type": "markdown",
   "id": "f395678a",
   "metadata": {},
   "source": [
    "# Неклассифицированные"
   ]
  },
  {
   "cell_type": "code",
   "execution_count": 8,
   "id": "7a1719ac",
   "metadata": {},
   "outputs": [
    {
     "name": "stdout",
     "output_type": "stream",
     "text": [
      "Found 4207 PNG files:\n"
     ]
    }
   ],
   "source": [
    "Unclass_files = get_png_files('Unclass')\n",
    "print(f\"Found {len(Unclass_files)} PNG files:\")"
   ]
  },
  {
   "cell_type": "markdown",
   "id": "efe8d43b",
   "metadata": {},
   "source": [
    "# Кальциевые"
   ]
  },
  {
   "cell_type": "code",
   "execution_count": 9,
   "id": "1e4a0e98",
   "metadata": {},
   "outputs": [
    {
     "name": "stdout",
     "output_type": "stream",
     "text": [
      "Found 7144 PNG files:\n"
     ]
    }
   ],
   "source": [
    "Calcium_files = get_png_files('Calcium')\n",
    "print(f\"Found {len(Calcium_files)} PNG files:\")"
   ]
  },
  {
   "cell_type": "code",
   "execution_count": 10,
   "id": "3255c0cd",
   "metadata": {},
   "outputs": [],
   "source": [
    "# функция по прочистке от сплошных изображений\n",
    "def del_solid_color_images(path):\n",
    "    image = cv2.imread(path)\n",
    "    if image is None:\n",
    "        return 0\n",
    "        \n",
    "    # Проверяем, все ли пиксели одинаковы в каждом канале\n",
    "    if len(image.shape) == 3:  # Цветное изображение (BGR)\n",
    "        b, g, r = cv2.split(image)\n",
    "        if (\n",
    "            np.all(b == b[0,0]) and \n",
    "            np.all(g == g[0,0]) and \n",
    "            np.all(r == r[0,0])\n",
    "        ):\n",
    "            os.remove(path)\n",
    "            return 1\n",
    "    \n",
    "    # Для одноканальных изображений (оттенки серого)\n",
    "    elif len(image.shape) == 2:  \n",
    "        if np.all(image == image[0,0]):\n",
    "            os.remove(path)\n",
    "            return 1\n",
    "            \n",
    "    return 0"
   ]
  },
  {
   "cell_type": "markdown",
   "id": "8b44a7f7",
   "metadata": {},
   "source": [
    "# Цистиновые"
   ]
  },
  {
   "cell_type": "code",
   "execution_count": 11,
   "id": "b0c6b68b",
   "metadata": {},
   "outputs": [
    {
     "data": {
      "text/plain": [
       "0"
      ]
     },
     "execution_count": 11,
     "metadata": {},
     "output_type": "execute_result"
    }
   ],
   "source": [
    "Cystine_files_del_count = 0\n",
    "\n",
    "for path in Cystine_files:\n",
    "    Cystine_files_del_count += del_solid_color_images(path=path)\n",
    "\n",
    "Cystine_files_del_count"
   ]
  },
  {
   "cell_type": "code",
   "execution_count": 12,
   "id": "3298d820",
   "metadata": {},
   "outputs": [
    {
     "name": "stdout",
     "output_type": "stream",
     "text": [
      "Found 409 PNG files:\n"
     ]
    }
   ],
   "source": [
    "Cystine_files = get_png_files('Cystine')\n",
    "print(f\"Found {len(Cystine_files)} PNG files:\")"
   ]
  },
  {
   "cell_type": "code",
   "execution_count": 13,
   "id": "4a746199",
   "metadata": {},
   "outputs": [
    {
     "data": {
      "text/html": [
       "<div>\n",
       "<style scoped>\n",
       "    .dataframe tbody tr th:only-of-type {\n",
       "        vertical-align: middle;\n",
       "    }\n",
       "\n",
       "    .dataframe tbody tr th {\n",
       "        vertical-align: top;\n",
       "    }\n",
       "\n",
       "    .dataframe thead th {\n",
       "        text-align: right;\n",
       "    }\n",
       "</style>\n",
       "<table border=\"1\" class=\"dataframe\">\n",
       "  <thead>\n",
       "    <tr style=\"text-align: right;\">\n",
       "      <th></th>\n",
       "      <th>Path</th>\n",
       "      <th>Type</th>\n",
       "    </tr>\n",
       "  </thead>\n",
       "  <tbody>\n",
       "    <tr>\n",
       "      <th>0</th>\n",
       "      <td>Cystine/Stone 36/36_570_plasma.png</td>\n",
       "      <td>Cystine</td>\n",
       "    </tr>\n",
       "    <tr>\n",
       "      <th>1</th>\n",
       "      <td>Cystine/Stone 36/36_530_plasma.png</td>\n",
       "      <td>Cystine</td>\n",
       "    </tr>\n",
       "    <tr>\n",
       "      <th>2</th>\n",
       "      <td>Cystine/Stone 36/10036_1000_plasma.png</td>\n",
       "      <td>Cystine</td>\n",
       "    </tr>\n",
       "    <tr>\n",
       "      <th>3</th>\n",
       "      <td>Cystine/Stone 36/10036_500_plasma.png</td>\n",
       "      <td>Cystine</td>\n",
       "    </tr>\n",
       "    <tr>\n",
       "      <th>4</th>\n",
       "      <td>Cystine/Stone 36/10036_510_plasma.png</td>\n",
       "      <td>Cystine</td>\n",
       "    </tr>\n",
       "    <tr>\n",
       "      <th>...</th>\n",
       "      <td>...</td>\n",
       "      <td>...</td>\n",
       "    </tr>\n",
       "    <tr>\n",
       "      <th>404</th>\n",
       "      <td>Cystine/Stone 153/153_210_plasma.png</td>\n",
       "      <td>Cystine</td>\n",
       "    </tr>\n",
       "    <tr>\n",
       "      <th>405</th>\n",
       "      <td>Cystine/Stone 153/10153_210_plasma.png</td>\n",
       "      <td>Cystine</td>\n",
       "    </tr>\n",
       "    <tr>\n",
       "      <th>406</th>\n",
       "      <td>Cystine/Stone 153/10153_70_plasma.png</td>\n",
       "      <td>Cystine</td>\n",
       "    </tr>\n",
       "    <tr>\n",
       "      <th>407</th>\n",
       "      <td>Cystine/Stone 153/153_830_plasma.png</td>\n",
       "      <td>Cystine</td>\n",
       "    </tr>\n",
       "    <tr>\n",
       "      <th>408</th>\n",
       "      <td>Cystine/Stone 153/10153_230_plasma.png</td>\n",
       "      <td>Cystine</td>\n",
       "    </tr>\n",
       "  </tbody>\n",
       "</table>\n",
       "<p>409 rows × 2 columns</p>\n",
       "</div>"
      ],
      "text/plain": [
       "                                       Path     Type\n",
       "0        Cystine/Stone 36/36_570_plasma.png  Cystine\n",
       "1        Cystine/Stone 36/36_530_plasma.png  Cystine\n",
       "2    Cystine/Stone 36/10036_1000_plasma.png  Cystine\n",
       "3     Cystine/Stone 36/10036_500_plasma.png  Cystine\n",
       "4     Cystine/Stone 36/10036_510_plasma.png  Cystine\n",
       "..                                      ...      ...\n",
       "404    Cystine/Stone 153/153_210_plasma.png  Cystine\n",
       "405  Cystine/Stone 153/10153_210_plasma.png  Cystine\n",
       "406   Cystine/Stone 153/10153_70_plasma.png  Cystine\n",
       "407    Cystine/Stone 153/153_830_plasma.png  Cystine\n",
       "408  Cystine/Stone 153/10153_230_plasma.png  Cystine\n",
       "\n",
       "[409 rows x 2 columns]"
      ]
     },
     "execution_count": 13,
     "metadata": {},
     "output_type": "execute_result"
    }
   ],
   "source": [
    "Cystine_df = pd.DataFrame(columns=[\"Path\", \"Type\"])\n",
    "Cystine_df[\"Path\"] = Cystine_files\n",
    "Cystine_df[\"Type\"] = \"Cystine\"\n",
    "Cystine_df"
   ]
  },
  {
   "cell_type": "markdown",
   "id": "a8291f8d",
   "metadata": {},
   "source": [
    "# Урататные"
   ]
  },
  {
   "cell_type": "code",
   "execution_count": 14,
   "id": "c00f3585",
   "metadata": {},
   "outputs": [
    {
     "data": {
      "text/plain": [
       "0"
      ]
     },
     "execution_count": 14,
     "metadata": {},
     "output_type": "execute_result"
    }
   ],
   "source": [
    "Uric_acid_files_del_count = 0\n",
    "\n",
    "for path in Uric_acid_files:\n",
    "    Uric_acid_files_del_count += del_solid_color_images(path=path)\n",
    "\n",
    "Uric_acid_files_del_count\n",
    "    "
   ]
  },
  {
   "cell_type": "code",
   "execution_count": 15,
   "id": "a466e5a3",
   "metadata": {},
   "outputs": [
    {
     "name": "stdout",
     "output_type": "stream",
     "text": [
      "Found 3274 PNG files:\n"
     ]
    }
   ],
   "source": [
    "Uric_acid_files = get_png_files('Uric acid/Pure uric acid')\n",
    "print(f\"Found {len(Uric_acid_files)} PNG files:\")"
   ]
  },
  {
   "cell_type": "code",
   "execution_count": 16,
   "id": "3341f288",
   "metadata": {},
   "outputs": [
    {
     "data": {
      "text/html": [
       "<div>\n",
       "<style scoped>\n",
       "    .dataframe tbody tr th:only-of-type {\n",
       "        vertical-align: middle;\n",
       "    }\n",
       "\n",
       "    .dataframe tbody tr th {\n",
       "        vertical-align: top;\n",
       "    }\n",
       "\n",
       "    .dataframe thead th {\n",
       "        text-align: right;\n",
       "    }\n",
       "</style>\n",
       "<table border=\"1\" class=\"dataframe\">\n",
       "  <thead>\n",
       "    <tr style=\"text-align: right;\">\n",
       "      <th></th>\n",
       "      <th>Path</th>\n",
       "      <th>Type</th>\n",
       "    </tr>\n",
       "  </thead>\n",
       "  <tbody>\n",
       "    <tr>\n",
       "      <th>0</th>\n",
       "      <td>Uric acid/Pure uric acid/Stone 33/10033_1270_p...</td>\n",
       "      <td>Uric acid</td>\n",
       "    </tr>\n",
       "    <tr>\n",
       "      <th>1</th>\n",
       "      <td>Uric acid/Pure uric acid/Stone 33/10033_910_pl...</td>\n",
       "      <td>Uric acid</td>\n",
       "    </tr>\n",
       "    <tr>\n",
       "      <th>2</th>\n",
       "      <td>Uric acid/Pure uric acid/Stone 33/10033_1470_p...</td>\n",
       "      <td>Uric acid</td>\n",
       "    </tr>\n",
       "    <tr>\n",
       "      <th>3</th>\n",
       "      <td>Uric acid/Pure uric acid/Stone 33/10033_1740_p...</td>\n",
       "      <td>Uric acid</td>\n",
       "    </tr>\n",
       "    <tr>\n",
       "      <th>4</th>\n",
       "      <td>Uric acid/Pure uric acid/Stone 33/10033_1080_p...</td>\n",
       "      <td>Uric acid</td>\n",
       "    </tr>\n",
       "    <tr>\n",
       "      <th>...</th>\n",
       "      <td>...</td>\n",
       "      <td>...</td>\n",
       "    </tr>\n",
       "    <tr>\n",
       "      <th>3269</th>\n",
       "      <td>Uric acid/Pure uric acid/Stone 13/10013_2036_p...</td>\n",
       "      <td>Uric acid</td>\n",
       "    </tr>\n",
       "    <tr>\n",
       "      <th>3270</th>\n",
       "      <td>Uric acid/Pure uric acid/Stone 13/10013_1787_p...</td>\n",
       "      <td>Uric acid</td>\n",
       "    </tr>\n",
       "    <tr>\n",
       "      <th>3271</th>\n",
       "      <td>Uric acid/Pure uric acid/Stone 13/10013_161_pl...</td>\n",
       "      <td>Uric acid</td>\n",
       "    </tr>\n",
       "    <tr>\n",
       "      <th>3272</th>\n",
       "      <td>Uric acid/Pure uric acid/Stone 13/10013_2225_p...</td>\n",
       "      <td>Uric acid</td>\n",
       "    </tr>\n",
       "    <tr>\n",
       "      <th>3273</th>\n",
       "      <td>Uric acid/Pure uric acid/Stone 13/10013_2306_p...</td>\n",
       "      <td>Uric acid</td>\n",
       "    </tr>\n",
       "  </tbody>\n",
       "</table>\n",
       "<p>3274 rows × 2 columns</p>\n",
       "</div>"
      ],
      "text/plain": [
       "                                                   Path       Type\n",
       "0     Uric acid/Pure uric acid/Stone 33/10033_1270_p...  Uric acid\n",
       "1     Uric acid/Pure uric acid/Stone 33/10033_910_pl...  Uric acid\n",
       "2     Uric acid/Pure uric acid/Stone 33/10033_1470_p...  Uric acid\n",
       "3     Uric acid/Pure uric acid/Stone 33/10033_1740_p...  Uric acid\n",
       "4     Uric acid/Pure uric acid/Stone 33/10033_1080_p...  Uric acid\n",
       "...                                                 ...        ...\n",
       "3269  Uric acid/Pure uric acid/Stone 13/10013_2036_p...  Uric acid\n",
       "3270  Uric acid/Pure uric acid/Stone 13/10013_1787_p...  Uric acid\n",
       "3271  Uric acid/Pure uric acid/Stone 13/10013_161_pl...  Uric acid\n",
       "3272  Uric acid/Pure uric acid/Stone 13/10013_2225_p...  Uric acid\n",
       "3273  Uric acid/Pure uric acid/Stone 13/10013_2306_p...  Uric acid\n",
       "\n",
       "[3274 rows x 2 columns]"
      ]
     },
     "execution_count": 16,
     "metadata": {},
     "output_type": "execute_result"
    }
   ],
   "source": [
    "Uric_acid_df = pd.DataFrame(columns=[\"Path\", \"Type\"])\n",
    "Uric_acid_df[\"Path\"] = Uric_acid_files\n",
    "Uric_acid_df[\"Type\"] = \"Uric acid\"\n",
    "Uric_acid_df"
   ]
  },
  {
   "cell_type": "code",
   "execution_count": 17,
   "id": "2fccf94a",
   "metadata": {},
   "outputs": [
    {
     "data": {
      "text/plain": [
       "0"
      ]
     },
     "execution_count": 17,
     "metadata": {},
     "output_type": "execute_result"
    }
   ],
   "source": [
    "Uric_acid_calcium_files_del_count = 0\n",
    "\n",
    "for path in Uric_acid_calcium_files:\n",
    "    Uric_acid_calcium_files_del_count += del_solid_color_images(path=path)\n",
    "\n",
    "Uric_acid_calcium_files_del_count"
   ]
  },
  {
   "cell_type": "code",
   "execution_count": 18,
   "id": "83119a39",
   "metadata": {},
   "outputs": [
    {
     "name": "stdout",
     "output_type": "stream",
     "text": [
      "Found 692 PNG files:\n"
     ]
    }
   ],
   "source": [
    "Uric_acid_calcium_files = get_png_files('Uric acid/Uric acid with calcium')\n",
    "print(f\"Found {len(Uric_acid_calcium_files)} PNG files:\")"
   ]
  },
  {
   "cell_type": "code",
   "execution_count": 19,
   "id": "49d3cfa1",
   "metadata": {},
   "outputs": [
    {
     "data": {
      "text/html": [
       "<div>\n",
       "<style scoped>\n",
       "    .dataframe tbody tr th:only-of-type {\n",
       "        vertical-align: middle;\n",
       "    }\n",
       "\n",
       "    .dataframe tbody tr th {\n",
       "        vertical-align: top;\n",
       "    }\n",
       "\n",
       "    .dataframe thead th {\n",
       "        text-align: right;\n",
       "    }\n",
       "</style>\n",
       "<table border=\"1\" class=\"dataframe\">\n",
       "  <thead>\n",
       "    <tr style=\"text-align: right;\">\n",
       "      <th></th>\n",
       "      <th>Path</th>\n",
       "      <th>Type</th>\n",
       "    </tr>\n",
       "  </thead>\n",
       "  <tbody>\n",
       "    <tr>\n",
       "      <th>0</th>\n",
       "      <td>Uric acid/Uric acid with calcium/Stone 32/1003...</td>\n",
       "      <td>Uric acid calcium</td>\n",
       "    </tr>\n",
       "    <tr>\n",
       "      <th>1</th>\n",
       "      <td>Uric acid/Uric acid with calcium/Stone 32/1003...</td>\n",
       "      <td>Uric acid calcium</td>\n",
       "    </tr>\n",
       "    <tr>\n",
       "      <th>2</th>\n",
       "      <td>Uric acid/Uric acid with calcium/Stone 32/1003...</td>\n",
       "      <td>Uric acid calcium</td>\n",
       "    </tr>\n",
       "    <tr>\n",
       "      <th>3</th>\n",
       "      <td>Uric acid/Uric acid with calcium/Stone 32/1003...</td>\n",
       "      <td>Uric acid calcium</td>\n",
       "    </tr>\n",
       "    <tr>\n",
       "      <th>4</th>\n",
       "      <td>Uric acid/Uric acid with calcium/Stone 32/1003...</td>\n",
       "      <td>Uric acid calcium</td>\n",
       "    </tr>\n",
       "    <tr>\n",
       "      <th>...</th>\n",
       "      <td>...</td>\n",
       "      <td>...</td>\n",
       "    </tr>\n",
       "    <tr>\n",
       "      <th>687</th>\n",
       "      <td>Uric acid/Uric acid with calcium/Stone 28/1002...</td>\n",
       "      <td>Uric acid calcium</td>\n",
       "    </tr>\n",
       "    <tr>\n",
       "      <th>688</th>\n",
       "      <td>Uric acid/Uric acid with calcium/Stone 28/1002...</td>\n",
       "      <td>Uric acid calcium</td>\n",
       "    </tr>\n",
       "    <tr>\n",
       "      <th>689</th>\n",
       "      <td>Uric acid/Uric acid with calcium/Stone 28/1002...</td>\n",
       "      <td>Uric acid calcium</td>\n",
       "    </tr>\n",
       "    <tr>\n",
       "      <th>690</th>\n",
       "      <td>Uric acid/Uric acid with calcium/Stone 28/1002...</td>\n",
       "      <td>Uric acid calcium</td>\n",
       "    </tr>\n",
       "    <tr>\n",
       "      <th>691</th>\n",
       "      <td>Uric acid/Uric acid with calcium/Stone 28/1002...</td>\n",
       "      <td>Uric acid calcium</td>\n",
       "    </tr>\n",
       "  </tbody>\n",
       "</table>\n",
       "<p>692 rows × 2 columns</p>\n",
       "</div>"
      ],
      "text/plain": [
       "                                                  Path               Type\n",
       "0    Uric acid/Uric acid with calcium/Stone 32/1003...  Uric acid calcium\n",
       "1    Uric acid/Uric acid with calcium/Stone 32/1003...  Uric acid calcium\n",
       "2    Uric acid/Uric acid with calcium/Stone 32/1003...  Uric acid calcium\n",
       "3    Uric acid/Uric acid with calcium/Stone 32/1003...  Uric acid calcium\n",
       "4    Uric acid/Uric acid with calcium/Stone 32/1003...  Uric acid calcium\n",
       "..                                                 ...                ...\n",
       "687  Uric acid/Uric acid with calcium/Stone 28/1002...  Uric acid calcium\n",
       "688  Uric acid/Uric acid with calcium/Stone 28/1002...  Uric acid calcium\n",
       "689  Uric acid/Uric acid with calcium/Stone 28/1002...  Uric acid calcium\n",
       "690  Uric acid/Uric acid with calcium/Stone 28/1002...  Uric acid calcium\n",
       "691  Uric acid/Uric acid with calcium/Stone 28/1002...  Uric acid calcium\n",
       "\n",
       "[692 rows x 2 columns]"
      ]
     },
     "execution_count": 19,
     "metadata": {},
     "output_type": "execute_result"
    }
   ],
   "source": [
    "Uric_acid_calcium_df = pd.DataFrame(columns=[\"Path\", \"Type\"])\n",
    "Uric_acid_calcium_df[\"Path\"] = Uric_acid_calcium_files\n",
    "Uric_acid_calcium_df[\"Type\"] = \"Uric acid calcium\"\n",
    "Uric_acid_calcium_df"
   ]
  },
  {
   "cell_type": "markdown",
   "id": "0cb5287c",
   "metadata": {},
   "source": [
    "# Неклассифицированные"
   ]
  },
  {
   "cell_type": "code",
   "execution_count": 20,
   "id": "95679719",
   "metadata": {},
   "outputs": [
    {
     "data": {
      "text/plain": [
       "0"
      ]
     },
     "execution_count": 20,
     "metadata": {},
     "output_type": "execute_result"
    }
   ],
   "source": [
    "Unclass_files_del_count = 0\n",
    "\n",
    "for path in Unclass_files:\n",
    "    Unclass_files_del_count += del_solid_color_images(path=path)\n",
    "\n",
    "Unclass_files_del_count"
   ]
  },
  {
   "cell_type": "code",
   "execution_count": 21,
   "id": "72cb83ba",
   "metadata": {},
   "outputs": [
    {
     "name": "stdout",
     "output_type": "stream",
     "text": [
      "Found 4207 PNG files:\n"
     ]
    }
   ],
   "source": [
    "Unclass_files = get_png_files('Unclass')\n",
    "print(f\"Found {len(Unclass_files)} PNG files:\")"
   ]
  },
  {
   "cell_type": "code",
   "execution_count": 22,
   "id": "cce645d6",
   "metadata": {},
   "outputs": [
    {
     "data": {
      "text/html": [
       "<div>\n",
       "<style scoped>\n",
       "    .dataframe tbody tr th:only-of-type {\n",
       "        vertical-align: middle;\n",
       "    }\n",
       "\n",
       "    .dataframe tbody tr th {\n",
       "        vertical-align: top;\n",
       "    }\n",
       "\n",
       "    .dataframe thead th {\n",
       "        text-align: right;\n",
       "    }\n",
       "</style>\n",
       "<table border=\"1\" class=\"dataframe\">\n",
       "  <thead>\n",
       "    <tr style=\"text-align: right;\">\n",
       "      <th></th>\n",
       "      <th>Path</th>\n",
       "      <th>Type</th>\n",
       "    </tr>\n",
       "  </thead>\n",
       "  <tbody>\n",
       "    <tr>\n",
       "      <th>0</th>\n",
       "      <td>Unclass/Stone 37/10037_760_plasma.png</td>\n",
       "      <td>Unclass</td>\n",
       "    </tr>\n",
       "    <tr>\n",
       "      <th>1</th>\n",
       "      <td>Unclass/Stone 37/10037_1110_plasma.png</td>\n",
       "      <td>Unclass</td>\n",
       "    </tr>\n",
       "    <tr>\n",
       "      <th>2</th>\n",
       "      <td>Unclass/Stone 37/10037_1060_plasma.png</td>\n",
       "      <td>Unclass</td>\n",
       "    </tr>\n",
       "    <tr>\n",
       "      <th>3</th>\n",
       "      <td>Unclass/Stone 37/10037_1490_plasma.png</td>\n",
       "      <td>Unclass</td>\n",
       "    </tr>\n",
       "    <tr>\n",
       "      <th>4</th>\n",
       "      <td>Unclass/Stone 37/10037_1450_plasma.png</td>\n",
       "      <td>Unclass</td>\n",
       "    </tr>\n",
       "    <tr>\n",
       "      <th>...</th>\n",
       "      <td>...</td>\n",
       "      <td>...</td>\n",
       "    </tr>\n",
       "    <tr>\n",
       "      <th>4202</th>\n",
       "      <td>Unclass/Stone 82/10082_750_plasma.png</td>\n",
       "      <td>Unclass</td>\n",
       "    </tr>\n",
       "    <tr>\n",
       "      <th>4203</th>\n",
       "      <td>Unclass/Stone 82/10082_1540_plasma.png</td>\n",
       "      <td>Unclass</td>\n",
       "    </tr>\n",
       "    <tr>\n",
       "      <th>4204</th>\n",
       "      <td>Unclass/Stone 82/10082_560_plasma.png</td>\n",
       "      <td>Unclass</td>\n",
       "    </tr>\n",
       "    <tr>\n",
       "      <th>4205</th>\n",
       "      <td>Unclass/Stone 82/10082_500_plasma.png</td>\n",
       "      <td>Unclass</td>\n",
       "    </tr>\n",
       "    <tr>\n",
       "      <th>4206</th>\n",
       "      <td>Unclass/Stone 82/10082_1170_plasma.png</td>\n",
       "      <td>Unclass</td>\n",
       "    </tr>\n",
       "  </tbody>\n",
       "</table>\n",
       "<p>4207 rows × 2 columns</p>\n",
       "</div>"
      ],
      "text/plain": [
       "                                        Path     Type\n",
       "0      Unclass/Stone 37/10037_760_plasma.png  Unclass\n",
       "1     Unclass/Stone 37/10037_1110_plasma.png  Unclass\n",
       "2     Unclass/Stone 37/10037_1060_plasma.png  Unclass\n",
       "3     Unclass/Stone 37/10037_1490_plasma.png  Unclass\n",
       "4     Unclass/Stone 37/10037_1450_plasma.png  Unclass\n",
       "...                                      ...      ...\n",
       "4202   Unclass/Stone 82/10082_750_plasma.png  Unclass\n",
       "4203  Unclass/Stone 82/10082_1540_plasma.png  Unclass\n",
       "4204   Unclass/Stone 82/10082_560_plasma.png  Unclass\n",
       "4205   Unclass/Stone 82/10082_500_plasma.png  Unclass\n",
       "4206  Unclass/Stone 82/10082_1170_plasma.png  Unclass\n",
       "\n",
       "[4207 rows x 2 columns]"
      ]
     },
     "execution_count": 22,
     "metadata": {},
     "output_type": "execute_result"
    }
   ],
   "source": [
    "Unclass_df = pd.DataFrame(columns=[\"Path\", \"Type\"])\n",
    "Unclass_df[\"Path\"] = Unclass_files\n",
    "Unclass_df[\"Type\"] = \"Unclass\"\n",
    "Unclass_df"
   ]
  },
  {
   "cell_type": "markdown",
   "id": "17d9ad05",
   "metadata": {},
   "source": [
    "# Кальциевые"
   ]
  },
  {
   "cell_type": "code",
   "execution_count": 23,
   "id": "837af819",
   "metadata": {},
   "outputs": [
    {
     "data": {
      "text/plain": [
       "0"
      ]
     },
     "execution_count": 23,
     "metadata": {},
     "output_type": "execute_result"
    }
   ],
   "source": [
    "Calcium_files_del_count = 0\n",
    "\n",
    "for path in Calcium_files:\n",
    "    Calcium_files_del_count += del_solid_color_images(path=path)\n",
    "\n",
    "Calcium_files_del_count"
   ]
  },
  {
   "cell_type": "code",
   "execution_count": 24,
   "id": "2b9120a7",
   "metadata": {},
   "outputs": [
    {
     "name": "stdout",
     "output_type": "stream",
     "text": [
      "Found 7144 PNG files:\n"
     ]
    }
   ],
   "source": [
    "Calcium_files = get_png_files('Calcium')\n",
    "print(f\"Found {len(Calcium_files)} PNG files:\")"
   ]
  },
  {
   "cell_type": "code",
   "execution_count": 25,
   "id": "789b5bb4",
   "metadata": {},
   "outputs": [
    {
     "data": {
      "text/html": [
       "<div>\n",
       "<style scoped>\n",
       "    .dataframe tbody tr th:only-of-type {\n",
       "        vertical-align: middle;\n",
       "    }\n",
       "\n",
       "    .dataframe tbody tr th {\n",
       "        vertical-align: top;\n",
       "    }\n",
       "\n",
       "    .dataframe thead th {\n",
       "        text-align: right;\n",
       "    }\n",
       "</style>\n",
       "<table border=\"1\" class=\"dataframe\">\n",
       "  <thead>\n",
       "    <tr style=\"text-align: right;\">\n",
       "      <th></th>\n",
       "      <th>Path</th>\n",
       "      <th>Type</th>\n",
       "    </tr>\n",
       "  </thead>\n",
       "  <tbody>\n",
       "    <tr>\n",
       "      <th>0</th>\n",
       "      <td>Calcium/Stone 52/10052_570_plasma.png</td>\n",
       "      <td>Calcium</td>\n",
       "    </tr>\n",
       "    <tr>\n",
       "      <th>1</th>\n",
       "      <td>Calcium/Stone 52/10052_580_plasma.png</td>\n",
       "      <td>Calcium</td>\n",
       "    </tr>\n",
       "    <tr>\n",
       "      <th>2</th>\n",
       "      <td>Calcium/Stone 52/10052_790_plasma.png</td>\n",
       "      <td>Calcium</td>\n",
       "    </tr>\n",
       "    <tr>\n",
       "      <th>3</th>\n",
       "      <td>Calcium/Stone 52/10052_710_plasma.png</td>\n",
       "      <td>Calcium</td>\n",
       "    </tr>\n",
       "    <tr>\n",
       "      <th>4</th>\n",
       "      <td>Calcium/Stone 52/10052_1000_plasma.png</td>\n",
       "      <td>Calcium</td>\n",
       "    </tr>\n",
       "    <tr>\n",
       "      <th>...</th>\n",
       "      <td>...</td>\n",
       "      <td>...</td>\n",
       "    </tr>\n",
       "    <tr>\n",
       "      <th>7139</th>\n",
       "      <td>Calcium/Stone N1/11001_810_plasma.png</td>\n",
       "      <td>Calcium</td>\n",
       "    </tr>\n",
       "    <tr>\n",
       "      <th>7140</th>\n",
       "      <td>Calcium/Stone N1/11001_460_plasma.png</td>\n",
       "      <td>Calcium</td>\n",
       "    </tr>\n",
       "    <tr>\n",
       "      <th>7141</th>\n",
       "      <td>Calcium/Stone N1/11001_880_plasma.png</td>\n",
       "      <td>Calcium</td>\n",
       "    </tr>\n",
       "    <tr>\n",
       "      <th>7142</th>\n",
       "      <td>Calcium/Stone N1/11001_1240_plasma.png</td>\n",
       "      <td>Calcium</td>\n",
       "    </tr>\n",
       "    <tr>\n",
       "      <th>7143</th>\n",
       "      <td>Calcium/Stone N1/11001_1090_plasma.png</td>\n",
       "      <td>Calcium</td>\n",
       "    </tr>\n",
       "  </tbody>\n",
       "</table>\n",
       "<p>7144 rows × 2 columns</p>\n",
       "</div>"
      ],
      "text/plain": [
       "                                        Path     Type\n",
       "0      Calcium/Stone 52/10052_570_plasma.png  Calcium\n",
       "1      Calcium/Stone 52/10052_580_plasma.png  Calcium\n",
       "2      Calcium/Stone 52/10052_790_plasma.png  Calcium\n",
       "3      Calcium/Stone 52/10052_710_plasma.png  Calcium\n",
       "4     Calcium/Stone 52/10052_1000_plasma.png  Calcium\n",
       "...                                      ...      ...\n",
       "7139   Calcium/Stone N1/11001_810_plasma.png  Calcium\n",
       "7140   Calcium/Stone N1/11001_460_plasma.png  Calcium\n",
       "7141   Calcium/Stone N1/11001_880_plasma.png  Calcium\n",
       "7142  Calcium/Stone N1/11001_1240_plasma.png  Calcium\n",
       "7143  Calcium/Stone N1/11001_1090_plasma.png  Calcium\n",
       "\n",
       "[7144 rows x 2 columns]"
      ]
     },
     "execution_count": 25,
     "metadata": {},
     "output_type": "execute_result"
    }
   ],
   "source": [
    "Calcium_df = pd.DataFrame(columns=[\"Path\", \"Type\"])\n",
    "Calcium_df[\"Path\"] = Calcium_files\n",
    "Calcium_df[\"Type\"] = \"Calcium\"\n",
    "Calcium_df"
   ]
  },
  {
   "cell_type": "markdown",
   "id": "29f97d65",
   "metadata": {},
   "source": [
    "# Соберем датафрейм со всеми камнями"
   ]
  },
  {
   "cell_type": "code",
   "execution_count": 26,
   "id": "da1d7dbb",
   "metadata": {},
   "outputs": [
    {
     "data": {
      "text/plain": [
       "(409, 2)"
      ]
     },
     "execution_count": 26,
     "metadata": {},
     "output_type": "execute_result"
    }
   ],
   "source": [
    "Cystine_df.shape"
   ]
  },
  {
   "cell_type": "code",
   "execution_count": 27,
   "id": "f69f1b0d",
   "metadata": {},
   "outputs": [
    {
     "data": {
      "text/plain": [
       "(3274, 2)"
      ]
     },
     "execution_count": 27,
     "metadata": {},
     "output_type": "execute_result"
    }
   ],
   "source": [
    "Uric_acid_df.shape"
   ]
  },
  {
   "cell_type": "code",
   "execution_count": 28,
   "id": "aa03e7ea",
   "metadata": {},
   "outputs": [
    {
     "data": {
      "text/plain": [
       "(692, 2)"
      ]
     },
     "execution_count": 28,
     "metadata": {},
     "output_type": "execute_result"
    }
   ],
   "source": [
    "Uric_acid_calcium_df.shape"
   ]
  },
  {
   "cell_type": "code",
   "execution_count": 29,
   "id": "e139d78e",
   "metadata": {},
   "outputs": [
    {
     "data": {
      "text/plain": [
       "(7144, 2)"
      ]
     },
     "execution_count": 29,
     "metadata": {},
     "output_type": "execute_result"
    }
   ],
   "source": [
    "Calcium_df.shape"
   ]
  },
  {
   "cell_type": "code",
   "execution_count": 30,
   "id": "f68091ed",
   "metadata": {},
   "outputs": [],
   "source": [
    "complited_data = pd.concat([Uric_acid_df, Uric_acid_calcium_df, Calcium_df], ignore_index=True)"
   ]
  },
  {
   "cell_type": "code",
   "execution_count": 31,
   "id": "b01dc349",
   "metadata": {},
   "outputs": [
    {
     "data": {
      "text/html": [
       "<div>\n",
       "<style scoped>\n",
       "    .dataframe tbody tr th:only-of-type {\n",
       "        vertical-align: middle;\n",
       "    }\n",
       "\n",
       "    .dataframe tbody tr th {\n",
       "        vertical-align: top;\n",
       "    }\n",
       "\n",
       "    .dataframe thead th {\n",
       "        text-align: right;\n",
       "    }\n",
       "</style>\n",
       "<table border=\"1\" class=\"dataframe\">\n",
       "  <thead>\n",
       "    <tr style=\"text-align: right;\">\n",
       "      <th></th>\n",
       "      <th>Path</th>\n",
       "      <th>Type</th>\n",
       "    </tr>\n",
       "  </thead>\n",
       "  <tbody>\n",
       "  </tbody>\n",
       "</table>\n",
       "</div>"
      ],
      "text/plain": [
       "Empty DataFrame\n",
       "Columns: [Path, Type]\n",
       "Index: []"
      ]
     },
     "execution_count": 31,
     "metadata": {},
     "output_type": "execute_result"
    }
   ],
   "source": [
    "complited_data[complited_data[\"Type\"] == 'Cystine']"
   ]
  },
  {
   "cell_type": "code",
   "execution_count": 32,
   "id": "bc8a4e77",
   "metadata": {},
   "outputs": [
    {
     "data": {
      "text/html": [
       "<div>\n",
       "<style scoped>\n",
       "    .dataframe tbody tr th:only-of-type {\n",
       "        vertical-align: middle;\n",
       "    }\n",
       "\n",
       "    .dataframe tbody tr th {\n",
       "        vertical-align: top;\n",
       "    }\n",
       "\n",
       "    .dataframe thead th {\n",
       "        text-align: right;\n",
       "    }\n",
       "</style>\n",
       "<table border=\"1\" class=\"dataframe\">\n",
       "  <thead>\n",
       "    <tr style=\"text-align: right;\">\n",
       "      <th></th>\n",
       "      <th>Path</th>\n",
       "      <th>Type</th>\n",
       "    </tr>\n",
       "  </thead>\n",
       "  <tbody>\n",
       "    <tr>\n",
       "      <th>0</th>\n",
       "      <td>Uric acid/Pure uric acid/Stone 33/10033_1270_p...</td>\n",
       "      <td>Uric acid</td>\n",
       "    </tr>\n",
       "    <tr>\n",
       "      <th>1</th>\n",
       "      <td>Uric acid/Pure uric acid/Stone 33/10033_910_pl...</td>\n",
       "      <td>Uric acid</td>\n",
       "    </tr>\n",
       "    <tr>\n",
       "      <th>2</th>\n",
       "      <td>Uric acid/Pure uric acid/Stone 33/10033_1470_p...</td>\n",
       "      <td>Uric acid</td>\n",
       "    </tr>\n",
       "    <tr>\n",
       "      <th>3</th>\n",
       "      <td>Uric acid/Pure uric acid/Stone 33/10033_1740_p...</td>\n",
       "      <td>Uric acid</td>\n",
       "    </tr>\n",
       "    <tr>\n",
       "      <th>4</th>\n",
       "      <td>Uric acid/Pure uric acid/Stone 33/10033_1080_p...</td>\n",
       "      <td>Uric acid</td>\n",
       "    </tr>\n",
       "    <tr>\n",
       "      <th>...</th>\n",
       "      <td>...</td>\n",
       "      <td>...</td>\n",
       "    </tr>\n",
       "    <tr>\n",
       "      <th>11105</th>\n",
       "      <td>Calcium/Stone N1/11001_810_plasma.png</td>\n",
       "      <td>Calcium</td>\n",
       "    </tr>\n",
       "    <tr>\n",
       "      <th>11106</th>\n",
       "      <td>Calcium/Stone N1/11001_460_plasma.png</td>\n",
       "      <td>Calcium</td>\n",
       "    </tr>\n",
       "    <tr>\n",
       "      <th>11107</th>\n",
       "      <td>Calcium/Stone N1/11001_880_plasma.png</td>\n",
       "      <td>Calcium</td>\n",
       "    </tr>\n",
       "    <tr>\n",
       "      <th>11108</th>\n",
       "      <td>Calcium/Stone N1/11001_1240_plasma.png</td>\n",
       "      <td>Calcium</td>\n",
       "    </tr>\n",
       "    <tr>\n",
       "      <th>11109</th>\n",
       "      <td>Calcium/Stone N1/11001_1090_plasma.png</td>\n",
       "      <td>Calcium</td>\n",
       "    </tr>\n",
       "  </tbody>\n",
       "</table>\n",
       "<p>11110 rows × 2 columns</p>\n",
       "</div>"
      ],
      "text/plain": [
       "                                                    Path       Type\n",
       "0      Uric acid/Pure uric acid/Stone 33/10033_1270_p...  Uric acid\n",
       "1      Uric acid/Pure uric acid/Stone 33/10033_910_pl...  Uric acid\n",
       "2      Uric acid/Pure uric acid/Stone 33/10033_1470_p...  Uric acid\n",
       "3      Uric acid/Pure uric acid/Stone 33/10033_1740_p...  Uric acid\n",
       "4      Uric acid/Pure uric acid/Stone 33/10033_1080_p...  Uric acid\n",
       "...                                                  ...        ...\n",
       "11105              Calcium/Stone N1/11001_810_plasma.png    Calcium\n",
       "11106              Calcium/Stone N1/11001_460_plasma.png    Calcium\n",
       "11107              Calcium/Stone N1/11001_880_plasma.png    Calcium\n",
       "11108             Calcium/Stone N1/11001_1240_plasma.png    Calcium\n",
       "11109             Calcium/Stone N1/11001_1090_plasma.png    Calcium\n",
       "\n",
       "[11110 rows x 2 columns]"
      ]
     },
     "execution_count": 32,
     "metadata": {},
     "output_type": "execute_result"
    }
   ],
   "source": [
    "complited_data"
   ]
  },
  {
   "cell_type": "code",
   "execution_count": 33,
   "id": "01700570",
   "metadata": {},
   "outputs": [
    {
     "data": {
      "text/plain": [
       "Type\n",
       "Calcium              7144\n",
       "Uric acid            3274\n",
       "Uric acid calcium     692\n",
       "Name: count, dtype: int64"
      ]
     },
     "execution_count": 33,
     "metadata": {},
     "output_type": "execute_result"
    }
   ],
   "source": [
    "complited_data[\"Type\"].value_counts()"
   ]
  },
  {
   "cell_type": "code",
   "execution_count": 34,
   "id": "73f8939a",
   "metadata": {},
   "outputs": [
    {
     "data": {
      "text/plain": [
       "array(['Uric acid', 'Uric acid calcium', 'Calcium'], dtype=object)"
      ]
     },
     "execution_count": 34,
     "metadata": {},
     "output_type": "execute_result"
    }
   ],
   "source": [
    "complited_data[\"Type\"].unique()"
   ]
  },
  {
   "cell_type": "code",
   "execution_count": 35,
   "id": "8cd5648c",
   "metadata": {},
   "outputs": [],
   "source": [
    "from Classification_library import Learning_rocks"
   ]
  },
  {
   "cell_type": "code",
   "execution_count": 36,
   "id": "75257fb6",
   "metadata": {},
   "outputs": [
    {
     "name": "stdout",
     "output_type": "stream",
     "text": [
      "Выбрано устройство: cuda\n"
     ]
    }
   ],
   "source": [
    "device = 'cuda'\n",
    "print(f\"Выбрано устройство: {device}\")  \n",
    "\n",
    "BATCH_SIZE = 128\n",
    "NUM_EPOCHS = 20\n",
    "NUM_WORKERS = 16"
   ]
  },
  {
   "cell_type": "code",
   "execution_count": 37,
   "id": "56bdb0a6",
   "metadata": {},
   "outputs": [],
   "source": [
    "idx_info = {0: 'Calcium', 1: 'Cystine', 2: 'Uric acid', 3: 'Uric acid calcium'}"
   ]
  },
  {
   "cell_type": "code",
   "execution_count": 38,
   "id": "44863a30",
   "metadata": {},
   "outputs": [],
   "source": [
    "minor_classes = [list(idx_info.values()).index('Cystine'), \n",
    "                 list(idx_info.values()).index('Uric acid calcium')]"
   ]
  },
  {
   "cell_type": "code",
   "execution_count": 39,
   "id": "7e62e3bc",
   "metadata": {},
   "outputs": [
    {
     "data": {
      "text/plain": [
       "Type\n",
       "Calcium              7144\n",
       "Uric acid            3274\n",
       "Uric acid calcium     692\n",
       "Name: count, dtype: int64"
      ]
     },
     "execution_count": 39,
     "metadata": {},
     "output_type": "execute_result"
    }
   ],
   "source": [
    "complited_data[\"Type\"].value_counts()"
   ]
  },
  {
   "cell_type": "code",
   "execution_count": 40,
   "id": "4fe05c0a",
   "metadata": {},
   "outputs": [
    {
     "name": "stdout",
     "output_type": "stream",
     "text": [
      "Minor classes: None\n",
      "Sample label: 1, type: <class 'numpy.int64'>\n"
     ]
    }
   ],
   "source": [
    "type_plasma_model = Learning_rocks(df = complited_data, device = device, model_name = f'type_plasma_model.pth', BATCH_SIZE = BATCH_SIZE, num_ep = NUM_EPOCHS, num_workers=NUM_WORKERS, minor_classes=minor_classes,\n",
    "    focal_gamma=2.0, major_aug= False, aug=False)\n",
    "\n"
   ]
  },
  {
   "cell_type": "code",
   "execution_count": 41,
   "id": "b03ebca5",
   "metadata": {},
   "outputs": [
    {
     "name": "stdout",
     "output_type": "stream",
     "text": [
      "\n",
      "==============================\n",
      "Training Fold 1/5\n",
      "==============================\n"
     ]
    },
    {
     "name": "stderr",
     "output_type": "stream",
     "text": [
      "Epochs:   0%|          | 0/20 [00:00<?, ?it/s]/home/wsl/miniconda3/lib/python3.13/site-packages/torch/optim/lr_scheduler.py:172: UserWarning: Seems like `optimizer.step()` has been overridden after learning rate scheduler initialization. Please, make sure to call `optimizer.step()` before `lr_scheduler.step()`. See more details at https://pytorch.org/docs/stable/optim.html#how-to-adjust-learning-rate\n",
      "  warnings.warn(\n",
      "Epochs: 100%|██████████| 20/20 [04:58<00:00, 14.93s/it]\n"
     ]
    },
    {
     "name": "stdout",
     "output_type": "stream",
     "text": [
      "New best model found in fold 1 with recall: 0.8528\n",
      "\n",
      "==============================\n",
      "Training Fold 2/5\n",
      "==============================\n"
     ]
    },
    {
     "name": "stderr",
     "output_type": "stream",
     "text": [
      "Epochs:   0%|          | 0/20 [00:00<?, ?it/s]/home/wsl/miniconda3/lib/python3.13/site-packages/torch/optim/lr_scheduler.py:172: UserWarning: Seems like `optimizer.step()` has been overridden after learning rate scheduler initialization. Please, make sure to call `optimizer.step()` before `lr_scheduler.step()`. See more details at https://pytorch.org/docs/stable/optim.html#how-to-adjust-learning-rate\n",
      "  warnings.warn(\n",
      "Epochs: 100%|██████████| 20/20 [04:51<00:00, 14.58s/it]\n"
     ]
    },
    {
     "name": "stdout",
     "output_type": "stream",
     "text": [
      "New best model found in fold 2 with recall: 0.9983\n",
      "\n",
      "==============================\n",
      "Training Fold 3/5\n",
      "==============================\n"
     ]
    },
    {
     "name": "stderr",
     "output_type": "stream",
     "text": [
      "Epochs:   0%|          | 0/20 [00:00<?, ?it/s]/home/wsl/miniconda3/lib/python3.13/site-packages/torch/optim/lr_scheduler.py:172: UserWarning: Seems like `optimizer.step()` has been overridden after learning rate scheduler initialization. Please, make sure to call `optimizer.step()` before `lr_scheduler.step()`. See more details at https://pytorch.org/docs/stable/optim.html#how-to-adjust-learning-rate\n",
      "  warnings.warn(\n",
      "Epochs: 100%|██████████| 20/20 [04:52<00:00, 14.62s/it]\n"
     ]
    },
    {
     "name": "stdout",
     "output_type": "stream",
     "text": [
      "\n",
      "==============================\n",
      "Training Fold 4/5\n",
      "==============================\n"
     ]
    },
    {
     "name": "stderr",
     "output_type": "stream",
     "text": [
      "Epochs:   0%|          | 0/20 [00:00<?, ?it/s]/home/wsl/miniconda3/lib/python3.13/site-packages/torch/optim/lr_scheduler.py:172: UserWarning: Seems like `optimizer.step()` has been overridden after learning rate scheduler initialization. Please, make sure to call `optimizer.step()` before `lr_scheduler.step()`. See more details at https://pytorch.org/docs/stable/optim.html#how-to-adjust-learning-rate\n",
      "  warnings.warn(\n",
      "Epochs: 100%|██████████| 20/20 [04:54<00:00, 14.70s/it]\n"
     ]
    },
    {
     "name": "stdout",
     "output_type": "stream",
     "text": [
      "\n",
      "==============================\n",
      "Training Fold 5/5\n",
      "==============================\n"
     ]
    },
    {
     "name": "stderr",
     "output_type": "stream",
     "text": [
      "Epochs:   0%|          | 0/20 [00:00<?, ?it/s]/home/wsl/miniconda3/lib/python3.13/site-packages/torch/optim/lr_scheduler.py:172: UserWarning: Seems like `optimizer.step()` has been overridden after learning rate scheduler initialization. Please, make sure to call `optimizer.step()` before `lr_scheduler.step()`. See more details at https://pytorch.org/docs/stable/optim.html#how-to-adjust-learning-rate\n",
      "  warnings.warn(\n",
      "Epochs: 100%|██████████| 20/20 [05:01<00:00, 15.07s/it]"
     ]
    },
    {
     "name": "stdout",
     "output_type": "stream",
     "text": [
      "\n",
      "K-Fold Validation Results:\n",
      "----------------------------------------\n",
      "Best model from fold 2 with recall: 0.9983\n",
      "Mean val_loss: 0.3417 ± 0.5023\n",
      "Mean val_accuracy: 0.8433 ± 0.2290\n",
      "Mean val_recall: 0.9044 ± 0.1235\n"
     ]
    },
    {
     "name": "stderr",
     "output_type": "stream",
     "text": [
      "\n"
     ]
    }
   ],
   "source": [
    "best_models, metrics = type_plasma_model.kfold_validation_best(n_splits=5, save_best_path = \"best_model.pth\")"
   ]
  },
  {
   "cell_type": "code",
   "execution_count": 42,
   "id": "d3c2037a",
   "metadata": {},
   "outputs": [
    {
     "data": {
      "text/plain": [
       "167"
      ]
     },
     "execution_count": 42,
     "metadata": {},
     "output_type": "execute_result"
    }
   ],
   "source": [
    "best_models.__len__()"
   ]
  },
  {
   "cell_type": "code",
   "execution_count": 43,
   "id": "310d3a13",
   "metadata": {},
   "outputs": [],
   "source": [
    "import copy"
   ]
  },
  {
   "cell_type": "code",
   "execution_count": 44,
   "id": "7c6168be",
   "metadata": {},
   "outputs": [],
   "source": [
    "from Classification_library import *"
   ]
  },
  {
   "cell_type": "code",
   "execution_count": 97,
   "id": "5d1a013a",
   "metadata": {},
   "outputs": [],
   "source": [
    "def average_models(models, num):\n",
    "    avg_model = copy.deepcopy(models[0])\n",
    "    for key in avg_model.keys():\n",
    "        avg_model[key] = torch.stack([\n",
    "            model[key].float() for model in models\n",
    "        ]).mean(0)\n",
    "    return avg_model\n"
   ]
  },
  {
   "cell_type": "code",
   "execution_count": 98,
   "id": "891d9223",
   "metadata": {},
   "outputs": [],
   "source": [
    "def average_models(models):\n",
    "    \"\"\"Усреднение весов моделей\"\"\"\n",
    "    avg_model = copy.deepcopy(models[0])\n",
    "    for key in avg_model.keys():\n",
    "        avg_model[key] = torch.stack([\n",
    "            model[key].float() for model in models\n",
    "        ]).mean(0)\n",
    "    return avg_model\n",
    "\n",
    "# Загрузка усредненной модели\n",
    "final_model = CustomNet(num_classes=type_plasma_model.count_of_classes).to('cuda')\n",
    "final_model.load_state_dict(average_models(best_models))\n",
    "torch.save(final_model.state_dict(), 'averaged_model.pth')"
   ]
  },
  {
   "cell_type": "code",
   "execution_count": 99,
   "id": "a10aad6b",
   "metadata": {},
   "outputs": [],
   "source": [
    "\n",
    "def select_best_model(models, metrics):\n",
    "    \"\"\"Выбор лучшей модели на основе метрик\"\"\"\n",
    "    # Находим индекс модели с лучшей метрикой\n",
    "    best_idx = np.argmax(metrics)\n",
    "    print(f\"Selected best model with index {best_idx} and metric value {metrics[best_idx]:.4f}\")\n",
    "    return models[best_idx]"
   ]
  },
  {
   "cell_type": "code",
   "execution_count": 42,
   "id": "05cd6a01",
   "metadata": {},
   "outputs": [
    {
     "ename": "NameError",
     "evalue": "name 'select_best_model' is not defined",
     "output_type": "error",
     "traceback": [
      "\u001b[31m---------------------------------------------------------------------------\u001b[39m",
      "\u001b[31mNameError\u001b[39m                                 Traceback (most recent call last)",
      "\u001b[36mCell\u001b[39m\u001b[36m \u001b[39m\u001b[32mIn[42]\u001b[39m\u001b[32m, line 1\u001b[39m\n\u001b[32m----> \u001b[39m\u001b[32m1\u001b[39m best_model_state = \u001b[43mselect_best_model\u001b[49m(best_models, fold_metrics)\n\u001b[32m      3\u001b[39m \u001b[38;5;66;03m# Сохранение лучшей модели\u001b[39;00m\n\u001b[32m      4\u001b[39m torch.save({\n\u001b[32m      5\u001b[39m     \u001b[33m'\u001b[39m\u001b[33mmodel_state_dict\u001b[39m\u001b[33m'\u001b[39m: best_model_state,\n\u001b[32m      6\u001b[39m     \u001b[33m'\u001b[39m\u001b[33mfold_metrics\u001b[39m\u001b[33m'\u001b[39m: fold_metrics,\n\u001b[32m      7\u001b[39m     \u001b[33m'\u001b[39m\u001b[33mbest_index\u001b[39m\u001b[33m'\u001b[39m: np.argmax(fold_metrics)\n\u001b[32m      8\u001b[39m }, \u001b[33m'\u001b[39m\u001b[33mbest_single_model.pth\u001b[39m\u001b[33m'\u001b[39m)\n",
      "\u001b[31mNameError\u001b[39m: name 'select_best_model' is not defined"
     ]
    }
   ],
   "source": [
    "best_model_state = select_best_model(best_models, fold_metrics)\n",
    "\n",
    "# Сохранение лучшей модели\n",
    "torch.save({\n",
    "    'model_state_dict': best_model_state,\n",
    "    'fold_metrics': fold_metrics,\n",
    "    'best_index': np.argmax(fold_metrics)\n",
    "}, 'best_single_model.pth')"
   ]
  },
  {
   "cell_type": "code",
   "execution_count": 41,
   "id": "4e6fd2eb",
   "metadata": {},
   "outputs": [
    {
     "name": "stdout",
     "output_type": "stream",
     "text": [
      "Minor classes: None\n",
      "Sample label: 1, type: <class 'numpy.int64'>\n"
     ]
    }
   ],
   "source": [
    "type_plasma_model = Learning_rocks(df = complited_data, device = device, model_name = f'type_plasma_model.pth', BATCH_SIZE = BATCH_SIZE, num_ep = NUM_EPOCHS, num_workers=NUM_WORKERS,)"
   ]
  },
  {
   "cell_type": "code",
   "execution_count": 43,
   "id": "e6e258c7",
   "metadata": {},
   "outputs": [
    {
     "data": {
      "text/plain": [
       "{0: 'Calcium', 1: 'Uric acid', 2: 'Uric acid calcium'}"
      ]
     },
     "execution_count": 43,
     "metadata": {},
     "output_type": "execute_result"
    }
   ],
   "source": [
    "idx_info = type_plasma_model.idx_output()\n",
    "idx_info"
   ]
  },
  {
   "cell_type": "code",
   "execution_count": 44,
   "id": "55845322",
   "metadata": {},
   "outputs": [
    {
     "data": {
      "text/plain": [
       "Type\n",
       "Calcium              7144\n",
       "Uric acid            3274\n",
       "Uric acid calcium     692\n",
       "Name: count, dtype: int64"
      ]
     },
     "execution_count": 44,
     "metadata": {},
     "output_type": "execute_result"
    }
   ],
   "source": [
    "complited_data['Type'].value_counts()"
   ]
  },
  {
   "cell_type": "code",
   "execution_count": 45,
   "id": "63eed7f2",
   "metadata": {},
   "outputs": [
    {
     "data": {
      "text/html": [
       "<div>\n",
       "<style scoped>\n",
       "    .dataframe tbody tr th:only-of-type {\n",
       "        vertical-align: middle;\n",
       "    }\n",
       "\n",
       "    .dataframe tbody tr th {\n",
       "        vertical-align: top;\n",
       "    }\n",
       "\n",
       "    .dataframe thead th {\n",
       "        text-align: right;\n",
       "    }\n",
       "</style>\n",
       "<table border=\"1\" class=\"dataframe\">\n",
       "  <thead>\n",
       "    <tr style=\"text-align: right;\">\n",
       "      <th></th>\n",
       "      <th>Path</th>\n",
       "      <th>Type</th>\n",
       "      <th>label</th>\n",
       "    </tr>\n",
       "  </thead>\n",
       "  <tbody>\n",
       "    <tr>\n",
       "      <th>5900</th>\n",
       "      <td>Calcium/Stone 10/10010_469_plasma.png</td>\n",
       "      <td>Calcium</td>\n",
       "      <td>0</td>\n",
       "    </tr>\n",
       "    <tr>\n",
       "      <th>9909</th>\n",
       "      <td>Calcium/Stone 9/10009_1847_plasma.png</td>\n",
       "      <td>Calcium</td>\n",
       "      <td>0</td>\n",
       "    </tr>\n",
       "    <tr>\n",
       "      <th>5780</th>\n",
       "      <td>Calcium/Stone 30/10030_1500_plasma.png</td>\n",
       "      <td>Calcium</td>\n",
       "      <td>0</td>\n",
       "    </tr>\n",
       "    <tr>\n",
       "      <th>8376</th>\n",
       "      <td>Calcium/Stone 18/10018_1474_plasma.png</td>\n",
       "      <td>Calcium</td>\n",
       "      <td>0</td>\n",
       "    </tr>\n",
       "    <tr>\n",
       "      <th>3072</th>\n",
       "      <td>Uric acid/Pure uric acid/Stone 13/10013_1712_p...</td>\n",
       "      <td>Uric acid</td>\n",
       "      <td>1</td>\n",
       "    </tr>\n",
       "    <tr>\n",
       "      <th>...</th>\n",
       "      <td>...</td>\n",
       "      <td>...</td>\n",
       "      <td>...</td>\n",
       "    </tr>\n",
       "    <tr>\n",
       "      <th>2862</th>\n",
       "      <td>Uric acid/Pure uric acid/Stone 13/10013_1721_p...</td>\n",
       "      <td>Uric acid</td>\n",
       "      <td>1</td>\n",
       "    </tr>\n",
       "    <tr>\n",
       "      <th>6115</th>\n",
       "      <td>Calcium/Stone 10/10010_1359_plasma.png</td>\n",
       "      <td>Calcium</td>\n",
       "      <td>0</td>\n",
       "    </tr>\n",
       "    <tr>\n",
       "      <th>3348</th>\n",
       "      <td>Uric acid/Uric acid with calcium/Stone 32/1003...</td>\n",
       "      <td>Uric acid calcium</td>\n",
       "      <td>2</td>\n",
       "    </tr>\n",
       "    <tr>\n",
       "      <th>2741</th>\n",
       "      <td>Uric acid/Pure uric acid/Stone 13/10013_1485_p...</td>\n",
       "      <td>Uric acid</td>\n",
       "      <td>1</td>\n",
       "    </tr>\n",
       "    <tr>\n",
       "      <th>5734</th>\n",
       "      <td>Calcium/Stone 30/10030_1110_plasma.png</td>\n",
       "      <td>Calcium</td>\n",
       "      <td>0</td>\n",
       "    </tr>\n",
       "  </tbody>\n",
       "</table>\n",
       "<p>7776 rows × 3 columns</p>\n",
       "</div>"
      ],
      "text/plain": [
       "                                                   Path               Type  \\\n",
       "5900              Calcium/Stone 10/10010_469_plasma.png            Calcium   \n",
       "9909              Calcium/Stone 9/10009_1847_plasma.png            Calcium   \n",
       "5780             Calcium/Stone 30/10030_1500_plasma.png            Calcium   \n",
       "8376             Calcium/Stone 18/10018_1474_plasma.png            Calcium   \n",
       "3072  Uric acid/Pure uric acid/Stone 13/10013_1712_p...          Uric acid   \n",
       "...                                                 ...                ...   \n",
       "2862  Uric acid/Pure uric acid/Stone 13/10013_1721_p...          Uric acid   \n",
       "6115             Calcium/Stone 10/10010_1359_plasma.png            Calcium   \n",
       "3348  Uric acid/Uric acid with calcium/Stone 32/1003...  Uric acid calcium   \n",
       "2741  Uric acid/Pure uric acid/Stone 13/10013_1485_p...          Uric acid   \n",
       "5734             Calcium/Stone 30/10030_1110_plasma.png            Calcium   \n",
       "\n",
       "      label  \n",
       "5900      0  \n",
       "9909      0  \n",
       "5780      0  \n",
       "8376      0  \n",
       "3072      1  \n",
       "...     ...  \n",
       "2862      1  \n",
       "6115      0  \n",
       "3348      2  \n",
       "2741      1  \n",
       "5734      0  \n",
       "\n",
       "[7776 rows x 3 columns]"
      ]
     },
     "execution_count": 45,
     "metadata": {},
     "output_type": "execute_result"
    }
   ],
   "source": [
    "type_plasma_model.train_df"
   ]
  },
  {
   "cell_type": "code",
   "execution_count": 46,
   "id": "1012b8b6",
   "metadata": {},
   "outputs": [
    {
     "data": {
      "text/html": [
       "<div>\n",
       "<style scoped>\n",
       "    .dataframe tbody tr th:only-of-type {\n",
       "        vertical-align: middle;\n",
       "    }\n",
       "\n",
       "    .dataframe tbody tr th {\n",
       "        vertical-align: top;\n",
       "    }\n",
       "\n",
       "    .dataframe thead th {\n",
       "        text-align: right;\n",
       "    }\n",
       "</style>\n",
       "<table border=\"1\" class=\"dataframe\">\n",
       "  <thead>\n",
       "    <tr style=\"text-align: right;\">\n",
       "      <th></th>\n",
       "      <th>Path</th>\n",
       "      <th>Type</th>\n",
       "      <th>label</th>\n",
       "    </tr>\n",
       "  </thead>\n",
       "  <tbody>\n",
       "    <tr>\n",
       "      <th>7724</th>\n",
       "      <td>Calcium/Stone 18/10018_1657_plasma.png</td>\n",
       "      <td>Calcium</td>\n",
       "      <td>0</td>\n",
       "    </tr>\n",
       "    <tr>\n",
       "      <th>3470</th>\n",
       "      <td>Uric acid/Uric acid with calcium/Stone 32/1003...</td>\n",
       "      <td>Uric acid calcium</td>\n",
       "      <td>2</td>\n",
       "    </tr>\n",
       "    <tr>\n",
       "      <th>9764</th>\n",
       "      <td>Calcium/Stone 9/10009_1909_plasma.png</td>\n",
       "      <td>Calcium</td>\n",
       "      <td>0</td>\n",
       "    </tr>\n",
       "    <tr>\n",
       "      <th>2953</th>\n",
       "      <td>Uric acid/Pure uric acid/Stone 13/10013_757_pl...</td>\n",
       "      <td>Uric acid</td>\n",
       "      <td>1</td>\n",
       "    </tr>\n",
       "    <tr>\n",
       "      <th>8841</th>\n",
       "      <td>Calcium/Stone 18/10018_1396_plasma.png</td>\n",
       "      <td>Calcium</td>\n",
       "      <td>0</td>\n",
       "    </tr>\n",
       "    <tr>\n",
       "      <th>...</th>\n",
       "      <td>...</td>\n",
       "      <td>...</td>\n",
       "      <td>...</td>\n",
       "    </tr>\n",
       "    <tr>\n",
       "      <th>1625</th>\n",
       "      <td>Uric acid/Pure uric acid/Stone 13/10013_1035_p...</td>\n",
       "      <td>Uric acid</td>\n",
       "      <td>1</td>\n",
       "    </tr>\n",
       "    <tr>\n",
       "      <th>8068</th>\n",
       "      <td>Calcium/Stone 18/10018_1618_plasma.png</td>\n",
       "      <td>Calcium</td>\n",
       "      <td>0</td>\n",
       "    </tr>\n",
       "    <tr>\n",
       "      <th>6729</th>\n",
       "      <td>Calcium/Stone 10/10010_555_plasma.png</td>\n",
       "      <td>Calcium</td>\n",
       "      <td>0</td>\n",
       "    </tr>\n",
       "    <tr>\n",
       "      <th>7661</th>\n",
       "      <td>Calcium/Stone 18/10018_314_plasma.png</td>\n",
       "      <td>Calcium</td>\n",
       "      <td>0</td>\n",
       "    </tr>\n",
       "    <tr>\n",
       "      <th>5464</th>\n",
       "      <td>Calcium/Stone 16/10016_373_plasma.png</td>\n",
       "      <td>Calcium</td>\n",
       "      <td>0</td>\n",
       "    </tr>\n",
       "  </tbody>\n",
       "</table>\n",
       "<p>1667 rows × 3 columns</p>\n",
       "</div>"
      ],
      "text/plain": [
       "                                                   Path               Type  \\\n",
       "7724             Calcium/Stone 18/10018_1657_plasma.png            Calcium   \n",
       "3470  Uric acid/Uric acid with calcium/Stone 32/1003...  Uric acid calcium   \n",
       "9764              Calcium/Stone 9/10009_1909_plasma.png            Calcium   \n",
       "2953  Uric acid/Pure uric acid/Stone 13/10013_757_pl...          Uric acid   \n",
       "8841             Calcium/Stone 18/10018_1396_plasma.png            Calcium   \n",
       "...                                                 ...                ...   \n",
       "1625  Uric acid/Pure uric acid/Stone 13/10013_1035_p...          Uric acid   \n",
       "8068             Calcium/Stone 18/10018_1618_plasma.png            Calcium   \n",
       "6729              Calcium/Stone 10/10010_555_plasma.png            Calcium   \n",
       "7661              Calcium/Stone 18/10018_314_plasma.png            Calcium   \n",
       "5464              Calcium/Stone 16/10016_373_plasma.png            Calcium   \n",
       "\n",
       "      label  \n",
       "7724      0  \n",
       "3470      2  \n",
       "9764      0  \n",
       "2953      1  \n",
       "8841      0  \n",
       "...     ...  \n",
       "1625      1  \n",
       "8068      0  \n",
       "6729      0  \n",
       "7661      0  \n",
       "5464      0  \n",
       "\n",
       "[1667 rows x 3 columns]"
      ]
     },
     "execution_count": 46,
     "metadata": {},
     "output_type": "execute_result"
    }
   ],
   "source": [
    "type_plasma_model.val_df"
   ]
  },
  {
   "cell_type": "code",
   "execution_count": 47,
   "id": "63c3d588",
   "metadata": {},
   "outputs": [
    {
     "data": {
      "text/html": [
       "<div>\n",
       "<style scoped>\n",
       "    .dataframe tbody tr th:only-of-type {\n",
       "        vertical-align: middle;\n",
       "    }\n",
       "\n",
       "    .dataframe tbody tr th {\n",
       "        vertical-align: top;\n",
       "    }\n",
       "\n",
       "    .dataframe thead th {\n",
       "        text-align: right;\n",
       "    }\n",
       "</style>\n",
       "<table border=\"1\" class=\"dataframe\">\n",
       "  <thead>\n",
       "    <tr style=\"text-align: right;\">\n",
       "      <th></th>\n",
       "      <th>Path</th>\n",
       "      <th>Type</th>\n",
       "      <th>label</th>\n",
       "    </tr>\n",
       "  </thead>\n",
       "  <tbody>\n",
       "    <tr>\n",
       "      <th>9527</th>\n",
       "      <td>Calcium/Stone 9/10009_495_plasma.png</td>\n",
       "      <td>Calcium</td>\n",
       "      <td>0</td>\n",
       "    </tr>\n",
       "    <tr>\n",
       "      <th>7686</th>\n",
       "      <td>Calcium/Stone 18/10018_658_plasma.png</td>\n",
       "      <td>Calcium</td>\n",
       "      <td>0</td>\n",
       "    </tr>\n",
       "    <tr>\n",
       "      <th>2386</th>\n",
       "      <td>Uric acid/Pure uric acid/Stone 13/10013_2244_p...</td>\n",
       "      <td>Uric acid</td>\n",
       "      <td>1</td>\n",
       "    </tr>\n",
       "    <tr>\n",
       "      <th>9738</th>\n",
       "      <td>Calcium/Stone 9/10009_1696_plasma.png</td>\n",
       "      <td>Calcium</td>\n",
       "      <td>0</td>\n",
       "    </tr>\n",
       "    <tr>\n",
       "      <th>9836</th>\n",
       "      <td>Calcium/Stone 9/10009_1864_plasma.png</td>\n",
       "      <td>Calcium</td>\n",
       "      <td>0</td>\n",
       "    </tr>\n",
       "    <tr>\n",
       "      <th>...</th>\n",
       "      <td>...</td>\n",
       "      <td>...</td>\n",
       "      <td>...</td>\n",
       "    </tr>\n",
       "    <tr>\n",
       "      <th>9383</th>\n",
       "      <td>Calcium/Stone 9/10009_1453_plasma.png</td>\n",
       "      <td>Calcium</td>\n",
       "      <td>0</td>\n",
       "    </tr>\n",
       "    <tr>\n",
       "      <th>9403</th>\n",
       "      <td>Calcium/Stone 9/10009_508_plasma.png</td>\n",
       "      <td>Calcium</td>\n",
       "      <td>0</td>\n",
       "    </tr>\n",
       "    <tr>\n",
       "      <th>10229</th>\n",
       "      <td>Calcium/Stone 9/10009_1715_plasma.png</td>\n",
       "      <td>Calcium</td>\n",
       "      <td>0</td>\n",
       "    </tr>\n",
       "    <tr>\n",
       "      <th>250</th>\n",
       "      <td>Uric acid/Pure uric acid/Stone 2/10002_910_pla...</td>\n",
       "      <td>Uric acid</td>\n",
       "      <td>1</td>\n",
       "    </tr>\n",
       "    <tr>\n",
       "      <th>1612</th>\n",
       "      <td>Uric acid/Pure uric acid/Stone 13/10013_478_pl...</td>\n",
       "      <td>Uric acid</td>\n",
       "      <td>1</td>\n",
       "    </tr>\n",
       "  </tbody>\n",
       "</table>\n",
       "<p>1667 rows × 3 columns</p>\n",
       "</div>"
      ],
      "text/plain": [
       "                                                    Path       Type  label\n",
       "9527                Calcium/Stone 9/10009_495_plasma.png    Calcium      0\n",
       "7686               Calcium/Stone 18/10018_658_plasma.png    Calcium      0\n",
       "2386   Uric acid/Pure uric acid/Stone 13/10013_2244_p...  Uric acid      1\n",
       "9738               Calcium/Stone 9/10009_1696_plasma.png    Calcium      0\n",
       "9836               Calcium/Stone 9/10009_1864_plasma.png    Calcium      0\n",
       "...                                                  ...        ...    ...\n",
       "9383               Calcium/Stone 9/10009_1453_plasma.png    Calcium      0\n",
       "9403                Calcium/Stone 9/10009_508_plasma.png    Calcium      0\n",
       "10229              Calcium/Stone 9/10009_1715_plasma.png    Calcium      0\n",
       "250    Uric acid/Pure uric acid/Stone 2/10002_910_pla...  Uric acid      1\n",
       "1612   Uric acid/Pure uric acid/Stone 13/10013_478_pl...  Uric acid      1\n",
       "\n",
       "[1667 rows x 3 columns]"
      ]
     },
     "execution_count": 47,
     "metadata": {},
     "output_type": "execute_result"
    }
   ],
   "source": [
    "type_plasma_model.test_df"
   ]
  },
  {
   "cell_type": "code",
   "execution_count": 48,
   "id": "57885e57",
   "metadata": {},
   "outputs": [
    {
     "data": {
      "text/plain": [
       "{0: 'Calcium', 1: 'Uric acid', 2: 'Uric acid calcium'}"
      ]
     },
     "execution_count": 48,
     "metadata": {},
     "output_type": "execute_result"
    }
   ],
   "source": [
    "idx_info = type_plasma_model.idx_output()\n",
    "idx_info"
   ]
  },
  {
   "cell_type": "code",
   "execution_count": 49,
   "id": "c321cb1e",
   "metadata": {},
   "outputs": [
    {
     "name": "stderr",
     "output_type": "stream",
     "text": [
      "Epochs:   0%|          | 0/20 [00:01<?, ?it/s]\n",
      "Exception in thread Thread-205 (_pin_memory_loop):\n"
     ]
    },
    {
     "ename": "KeyboardInterrupt",
     "evalue": "",
     "output_type": "error",
     "traceback": [
      "\u001b[31m---------------------------------------------------------------------------\u001b[39m",
      "\u001b[31mKeyboardInterrupt\u001b[39m                         Traceback (most recent call last)",
      "\u001b[36mCell\u001b[39m\u001b[36m \u001b[39m\u001b[32mIn[49]\u001b[39m\u001b[32m, line 1\u001b[39m\n\u001b[32m----> \u001b[39m\u001b[32m1\u001b[39m \u001b[43mtype_plasma_model\u001b[49m\u001b[43m.\u001b[49m\u001b[43mlearn_model\u001b[49m\u001b[43m(\u001b[49m\u001b[43m)\u001b[49m\n",
      "\u001b[36mFile \u001b[39m\u001b[32m~/Rock_Rips_Base_2/Rock_Rips_Base_2/Classification_library.py:391\u001b[39m, in \u001b[36mLearning_rocks.learn_model\u001b[39m\u001b[34m(self)\u001b[39m\n\u001b[32m    389\u001b[39m \u001b[38;5;28mself\u001b[39m.model.train()\n\u001b[32m    390\u001b[39m train_loss = \u001b[32m0.0\u001b[39m\n\u001b[32m--> \u001b[39m\u001b[32m391\u001b[39m \u001b[43m\u001b[49m\u001b[38;5;28;43;01mfor\u001b[39;49;00m\u001b[43m \u001b[49m\u001b[43minputs\u001b[49m\u001b[43m,\u001b[49m\u001b[43m \u001b[49m\u001b[43mlabels\u001b[49m\u001b[43m \u001b[49m\u001b[38;5;129;43;01min\u001b[39;49;00m\u001b[43m \u001b[49m\u001b[38;5;28;43mself\u001b[39;49m\u001b[43m.\u001b[49m\u001b[43mtrain_loader\u001b[49m\u001b[43m:\u001b[49m\n\u001b[32m    392\u001b[39m \u001b[43m    \u001b[49m\u001b[38;5;28;43;01mif\u001b[39;49;00m\u001b[43m \u001b[49m\u001b[38;5;28;43mself\u001b[39;49m\u001b[43m.\u001b[49m\u001b[43mdevice\u001b[49m\u001b[43m \u001b[49m\u001b[43m==\u001b[49m\u001b[43m \u001b[49m\u001b[33;43m'\u001b[39;49m\u001b[33;43mcpu\u001b[39;49m\u001b[33;43m'\u001b[39;49m\u001b[43m:\u001b[49m\n\u001b[32m    393\u001b[39m \u001b[43m        \u001b[49m\u001b[43minputs\u001b[49m\u001b[43m,\u001b[49m\u001b[43m \u001b[49m\u001b[43mlabels\u001b[49m\u001b[43m \u001b[49m\u001b[43m=\u001b[49m\u001b[43m \u001b[49m\u001b[43minputs\u001b[49m\u001b[43m,\u001b[49m\u001b[43m \u001b[49m\u001b[43mlabels\u001b[49m\n",
      "\u001b[36mFile \u001b[39m\u001b[32m~/miniconda3/lib/python3.13/site-packages/torch/utils/data/dataloader.py:733\u001b[39m, in \u001b[36m_BaseDataLoaderIter.__next__\u001b[39m\u001b[34m(self)\u001b[39m\n\u001b[32m    730\u001b[39m \u001b[38;5;28;01mif\u001b[39;00m \u001b[38;5;28mself\u001b[39m._sampler_iter \u001b[38;5;129;01mis\u001b[39;00m \u001b[38;5;28;01mNone\u001b[39;00m:\n\u001b[32m    731\u001b[39m     \u001b[38;5;66;03m# TODO(https://github.com/pytorch/pytorch/issues/76750)\u001b[39;00m\n\u001b[32m    732\u001b[39m     \u001b[38;5;28mself\u001b[39m._reset()  \u001b[38;5;66;03m# type: ignore[call-arg]\u001b[39;00m\n\u001b[32m--> \u001b[39m\u001b[32m733\u001b[39m data = \u001b[38;5;28;43mself\u001b[39;49m\u001b[43m.\u001b[49m\u001b[43m_next_data\u001b[49m\u001b[43m(\u001b[49m\u001b[43m)\u001b[49m\n\u001b[32m    734\u001b[39m \u001b[38;5;28mself\u001b[39m._num_yielded += \u001b[32m1\u001b[39m\n\u001b[32m    735\u001b[39m \u001b[38;5;28;01mif\u001b[39;00m (\n\u001b[32m    736\u001b[39m     \u001b[38;5;28mself\u001b[39m._dataset_kind == _DatasetKind.Iterable\n\u001b[32m    737\u001b[39m     \u001b[38;5;129;01mand\u001b[39;00m \u001b[38;5;28mself\u001b[39m._IterableDataset_len_called \u001b[38;5;129;01mis\u001b[39;00m \u001b[38;5;129;01mnot\u001b[39;00m \u001b[38;5;28;01mNone\u001b[39;00m\n\u001b[32m    738\u001b[39m     \u001b[38;5;129;01mand\u001b[39;00m \u001b[38;5;28mself\u001b[39m._num_yielded > \u001b[38;5;28mself\u001b[39m._IterableDataset_len_called\n\u001b[32m    739\u001b[39m ):\n",
      "\u001b[36mFile \u001b[39m\u001b[32m~/miniconda3/lib/python3.13/site-packages/torch/utils/data/dataloader.py:1491\u001b[39m, in \u001b[36m_MultiProcessingDataLoaderIter._next_data\u001b[39m\u001b[34m(self)\u001b[39m\n\u001b[32m   1488\u001b[39m     \u001b[38;5;28;01mreturn\u001b[39;00m \u001b[38;5;28mself\u001b[39m._process_data(data, worker_id)\n\u001b[32m   1490\u001b[39m \u001b[38;5;28;01massert\u001b[39;00m \u001b[38;5;129;01mnot\u001b[39;00m \u001b[38;5;28mself\u001b[39m._shutdown \u001b[38;5;129;01mand\u001b[39;00m \u001b[38;5;28mself\u001b[39m._tasks_outstanding > \u001b[32m0\u001b[39m\n\u001b[32m-> \u001b[39m\u001b[32m1491\u001b[39m idx, data = \u001b[38;5;28;43mself\u001b[39;49m\u001b[43m.\u001b[49m\u001b[43m_get_data\u001b[49m\u001b[43m(\u001b[49m\u001b[43m)\u001b[49m\n\u001b[32m   1492\u001b[39m \u001b[38;5;28mself\u001b[39m._tasks_outstanding -= \u001b[32m1\u001b[39m\n\u001b[32m   1493\u001b[39m \u001b[38;5;28;01mif\u001b[39;00m \u001b[38;5;28mself\u001b[39m._dataset_kind == _DatasetKind.Iterable:\n\u001b[32m   1494\u001b[39m     \u001b[38;5;66;03m# Check for _IterableDatasetStopIteration\u001b[39;00m\n",
      "\u001b[36mFile \u001b[39m\u001b[32m~/miniconda3/lib/python3.13/site-packages/torch/utils/data/dataloader.py:1443\u001b[39m, in \u001b[36m_MultiProcessingDataLoaderIter._get_data\u001b[39m\u001b[34m(self)\u001b[39m\n\u001b[32m   1441\u001b[39m \u001b[38;5;28;01melif\u001b[39;00m \u001b[38;5;28mself\u001b[39m._pin_memory:\n\u001b[32m   1442\u001b[39m     \u001b[38;5;28;01mwhile\u001b[39;00m \u001b[38;5;28mself\u001b[39m._pin_memory_thread.is_alive():\n\u001b[32m-> \u001b[39m\u001b[32m1443\u001b[39m         success, data = \u001b[38;5;28;43mself\u001b[39;49m\u001b[43m.\u001b[49m\u001b[43m_try_get_data\u001b[49m\u001b[43m(\u001b[49m\u001b[43m)\u001b[49m\n\u001b[32m   1444\u001b[39m         \u001b[38;5;28;01mif\u001b[39;00m success:\n\u001b[32m   1445\u001b[39m             \u001b[38;5;28;01mreturn\u001b[39;00m data\n",
      "\u001b[36mFile \u001b[39m\u001b[32m~/miniconda3/lib/python3.13/site-packages/torch/utils/data/dataloader.py:1284\u001b[39m, in \u001b[36m_MultiProcessingDataLoaderIter._try_get_data\u001b[39m\u001b[34m(self, timeout)\u001b[39m\n\u001b[32m   1271\u001b[39m \u001b[38;5;28;01mdef\u001b[39;00m\u001b[38;5;250m \u001b[39m\u001b[34m_try_get_data\u001b[39m(\u001b[38;5;28mself\u001b[39m, timeout=_utils.MP_STATUS_CHECK_INTERVAL):\n\u001b[32m   1272\u001b[39m     \u001b[38;5;66;03m# Tries to fetch data from `self._data_queue` once for a given timeout.\u001b[39;00m\n\u001b[32m   1273\u001b[39m     \u001b[38;5;66;03m# This can also be used as inner loop of fetching without timeout, with\u001b[39;00m\n\u001b[32m   (...)\u001b[39m\u001b[32m   1281\u001b[39m     \u001b[38;5;66;03m# Returns a 2-tuple:\u001b[39;00m\n\u001b[32m   1282\u001b[39m     \u001b[38;5;66;03m#   (bool: whether successfully get data, any: data if successful else None)\u001b[39;00m\n\u001b[32m   1283\u001b[39m     \u001b[38;5;28;01mtry\u001b[39;00m:\n\u001b[32m-> \u001b[39m\u001b[32m1284\u001b[39m         data = \u001b[38;5;28;43mself\u001b[39;49m\u001b[43m.\u001b[49m\u001b[43m_data_queue\u001b[49m\u001b[43m.\u001b[49m\u001b[43mget\u001b[49m\u001b[43m(\u001b[49m\u001b[43mtimeout\u001b[49m\u001b[43m=\u001b[49m\u001b[43mtimeout\u001b[49m\u001b[43m)\u001b[49m\n\u001b[32m   1285\u001b[39m         \u001b[38;5;28;01mreturn\u001b[39;00m (\u001b[38;5;28;01mTrue\u001b[39;00m, data)\n\u001b[32m   1286\u001b[39m     \u001b[38;5;28;01mexcept\u001b[39;00m \u001b[38;5;167;01mException\u001b[39;00m \u001b[38;5;28;01mas\u001b[39;00m e:\n\u001b[32m   1287\u001b[39m         \u001b[38;5;66;03m# At timeout and error, we manually check whether any worker has\u001b[39;00m\n\u001b[32m   1288\u001b[39m         \u001b[38;5;66;03m# failed. Note that this is the only mechanism for Windows to detect\u001b[39;00m\n\u001b[32m   1289\u001b[39m         \u001b[38;5;66;03m# worker failures.\u001b[39;00m\n",
      "\u001b[36mFile \u001b[39m\u001b[32m~/miniconda3/lib/python3.13/queue.py:213\u001b[39m, in \u001b[36mQueue.get\u001b[39m\u001b[34m(self, block, timeout)\u001b[39m\n\u001b[32m    211\u001b[39m \u001b[38;5;28;01mif\u001b[39;00m remaining <= \u001b[32m0.0\u001b[39m:\n\u001b[32m    212\u001b[39m     \u001b[38;5;28;01mraise\u001b[39;00m Empty\n\u001b[32m--> \u001b[39m\u001b[32m213\u001b[39m \u001b[38;5;28;43mself\u001b[39;49m\u001b[43m.\u001b[49m\u001b[43mnot_empty\u001b[49m\u001b[43m.\u001b[49m\u001b[43mwait\u001b[49m\u001b[43m(\u001b[49m\u001b[43mremaining\u001b[49m\u001b[43m)\u001b[49m\n\u001b[32m    214\u001b[39m \u001b[38;5;28;01mif\u001b[39;00m \u001b[38;5;28mself\u001b[39m.is_shutdown \u001b[38;5;129;01mand\u001b[39;00m \u001b[38;5;129;01mnot\u001b[39;00m \u001b[38;5;28mself\u001b[39m._qsize():\n\u001b[32m    215\u001b[39m     \u001b[38;5;28;01mraise\u001b[39;00m ShutDown\n",
      "\u001b[36mFile \u001b[39m\u001b[32m~/miniconda3/lib/python3.13/threading.py:363\u001b[39m, in \u001b[36mCondition.wait\u001b[39m\u001b[34m(self, timeout)\u001b[39m\n\u001b[32m    361\u001b[39m \u001b[38;5;28;01melse\u001b[39;00m:\n\u001b[32m    362\u001b[39m     \u001b[38;5;28;01mif\u001b[39;00m timeout > \u001b[32m0\u001b[39m:\n\u001b[32m--> \u001b[39m\u001b[32m363\u001b[39m         gotit = \u001b[43mwaiter\u001b[49m\u001b[43m.\u001b[49m\u001b[43macquire\u001b[49m\u001b[43m(\u001b[49m\u001b[38;5;28;43;01mTrue\u001b[39;49;00m\u001b[43m,\u001b[49m\u001b[43m \u001b[49m\u001b[43mtimeout\u001b[49m\u001b[43m)\u001b[49m\n\u001b[32m    364\u001b[39m     \u001b[38;5;28;01melse\u001b[39;00m:\n\u001b[32m    365\u001b[39m         gotit = waiter.acquire(\u001b[38;5;28;01mFalse\u001b[39;00m)\n",
      "\u001b[31mKeyboardInterrupt\u001b[39m: "
     ]
    },
    {
     "name": "stderr",
     "output_type": "stream",
     "text": [
      "Traceback (most recent call last):\n",
      "  File \u001b[35m\"/home/wsl/miniconda3/lib/python3.13/threading.py\"\u001b[0m, line \u001b[35m1043\u001b[0m, in \u001b[35m_bootstrap_inner\u001b[0m\n",
      "    \u001b[31mself.run\u001b[0m\u001b[1;31m()\u001b[0m\n",
      "    \u001b[31m~~~~~~~~\u001b[0m\u001b[1;31m^^\u001b[0m\n",
      "  File \u001b[35m\"/home/wsl/miniconda3/lib/python3.13/site-packages/ipykernel/ipkernel.py\"\u001b[0m, line \u001b[35m766\u001b[0m, in \u001b[35mrun_closure\u001b[0m\n",
      "    \u001b[31m_threading_Thread_run\u001b[0m\u001b[1;31m(self)\u001b[0m\n",
      "    \u001b[31m~~~~~~~~~~~~~~~~~~~~~\u001b[0m\u001b[1;31m^^^^^^\u001b[0m\n",
      "  File \u001b[35m\"/home/wsl/miniconda3/lib/python3.13/threading.py\"\u001b[0m, line \u001b[35m994\u001b[0m, in \u001b[35mrun\u001b[0m\n",
      "    \u001b[31mself._target\u001b[0m\u001b[1;31m(*self._args, **self._kwargs)\u001b[0m\n",
      "    \u001b[31m~~~~~~~~~~~~\u001b[0m\u001b[1;31m^^^^^^^^^^^^^^^^^^^^^^^^^^^^^\u001b[0m\n",
      "  File \u001b[35m\"/home/wsl/miniconda3/lib/python3.13/site-packages/torch/utils/data/_utils/pin_memory.py\"\u001b[0m, line \u001b[35m61\u001b[0m, in \u001b[35m_pin_memory_loop\u001b[0m\n",
      "    \u001b[31mdo_one_step\u001b[0m\u001b[1;31m()\u001b[0m\n",
      "    \u001b[31m~~~~~~~~~~~\u001b[0m\u001b[1;31m^^\u001b[0m\n",
      "  File \u001b[35m\"/home/wsl/miniconda3/lib/python3.13/site-packages/torch/utils/data/_utils/pin_memory.py\"\u001b[0m, line \u001b[35m37\u001b[0m, in \u001b[35mdo_one_step\u001b[0m\n",
      "    r = in_queue.get(timeout=MP_STATUS_CHECK_INTERVAL)\n",
      "  File \u001b[35m\"/home/wsl/miniconda3/lib/python3.13/multiprocessing/queues.py\"\u001b[0m, line \u001b[35m120\u001b[0m, in \u001b[35mget\u001b[0m\n",
      "    return \u001b[31m_ForkingPickler.loads\u001b[0m\u001b[1;31m(res)\u001b[0m\n",
      "           \u001b[31m~~~~~~~~~~~~~~~~~~~~~\u001b[0m\u001b[1;31m^^^^^\u001b[0m\n",
      "  File \u001b[35m\"/home/wsl/miniconda3/lib/python3.13/site-packages/torch/multiprocessing/reductions.py\"\u001b[0m, line \u001b[35m541\u001b[0m, in \u001b[35mrebuild_storage_fd\u001b[0m\n",
      "    fd = df.detach()\n",
      "  File \u001b[35m\"/home/wsl/miniconda3/lib/python3.13/multiprocessing/resource_sharer.py\"\u001b[0m, line \u001b[35m57\u001b[0m, in \u001b[35mdetach\u001b[0m\n",
      "    with \u001b[31m_resource_sharer.get_connection\u001b[0m\u001b[1;31m(self._id)\u001b[0m as conn:\n",
      "         \u001b[31m~~~~~~~~~~~~~~~~~~~~~~~~~~~~~~~\u001b[0m\u001b[1;31m^^^^^^^^^^\u001b[0m\n",
      "  File \u001b[35m\"/home/wsl/miniconda3/lib/python3.13/multiprocessing/resource_sharer.py\"\u001b[0m, line \u001b[35m86\u001b[0m, in \u001b[35mget_connection\u001b[0m\n",
      "    c = Client(address, authkey=process.current_process().authkey)\n",
      "  File \u001b[35m\"/home/wsl/miniconda3/lib/python3.13/multiprocessing/connection.py\"\u001b[0m, line \u001b[35m519\u001b[0m, in \u001b[35mClient\u001b[0m\n",
      "    c = SocketClient(address)\n",
      "  File \u001b[35m\"/home/wsl/miniconda3/lib/python3.13/multiprocessing/connection.py\"\u001b[0m, line \u001b[35m647\u001b[0m, in \u001b[35mSocketClient\u001b[0m\n",
      "    \u001b[31ms.connect\u001b[0m\u001b[1;31m(address)\u001b[0m\n",
      "    \u001b[31m~~~~~~~~~\u001b[0m\u001b[1;31m^^^^^^^^^\u001b[0m\n",
      "\u001b[1;35mFileNotFoundError\u001b[0m: \u001b[35m[Errno 2] No such file or directory\u001b[0m\n"
     ]
    }
   ],
   "source": [
    "type_plasma_model.learn_model()"
   ]
  },
  {
   "cell_type": "code",
   "execution_count": 49,
   "id": "05e366c6",
   "metadata": {},
   "outputs": [],
   "source": [
    "type_plasma_model.clear_memory()"
   ]
  },
  {
   "cell_type": "code",
   "execution_count": 50,
   "id": "c07a9f92",
   "metadata": {},
   "outputs": [
    {
     "data": {
      "text/html": [
       "<div>\n",
       "<style scoped>\n",
       "    .dataframe tbody tr th:only-of-type {\n",
       "        vertical-align: middle;\n",
       "    }\n",
       "\n",
       "    .dataframe tbody tr th {\n",
       "        vertical-align: top;\n",
       "    }\n",
       "\n",
       "    .dataframe thead th {\n",
       "        text-align: right;\n",
       "    }\n",
       "</style>\n",
       "<table border=\"1\" class=\"dataframe\">\n",
       "  <thead>\n",
       "    <tr style=\"text-align: right;\">\n",
       "      <th></th>\n",
       "      <th>Path</th>\n",
       "      <th>Type</th>\n",
       "    </tr>\n",
       "  </thead>\n",
       "  <tbody>\n",
       "    <tr>\n",
       "      <th>0</th>\n",
       "      <td>Unclass/Stone 37/10037_760_plasma.png</td>\n",
       "      <td>Unclass</td>\n",
       "    </tr>\n",
       "    <tr>\n",
       "      <th>1</th>\n",
       "      <td>Unclass/Stone 37/10037_1110_plasma.png</td>\n",
       "      <td>Unclass</td>\n",
       "    </tr>\n",
       "    <tr>\n",
       "      <th>2</th>\n",
       "      <td>Unclass/Stone 37/10037_1060_plasma.png</td>\n",
       "      <td>Unclass</td>\n",
       "    </tr>\n",
       "    <tr>\n",
       "      <th>3</th>\n",
       "      <td>Unclass/Stone 37/10037_1490_plasma.png</td>\n",
       "      <td>Unclass</td>\n",
       "    </tr>\n",
       "    <tr>\n",
       "      <th>4</th>\n",
       "      <td>Unclass/Stone 37/10037_1450_plasma.png</td>\n",
       "      <td>Unclass</td>\n",
       "    </tr>\n",
       "    <tr>\n",
       "      <th>...</th>\n",
       "      <td>...</td>\n",
       "      <td>...</td>\n",
       "    </tr>\n",
       "    <tr>\n",
       "      <th>4202</th>\n",
       "      <td>Unclass/Stone 82/10082_750_plasma.png</td>\n",
       "      <td>Unclass</td>\n",
       "    </tr>\n",
       "    <tr>\n",
       "      <th>4203</th>\n",
       "      <td>Unclass/Stone 82/10082_1540_plasma.png</td>\n",
       "      <td>Unclass</td>\n",
       "    </tr>\n",
       "    <tr>\n",
       "      <th>4204</th>\n",
       "      <td>Unclass/Stone 82/10082_560_plasma.png</td>\n",
       "      <td>Unclass</td>\n",
       "    </tr>\n",
       "    <tr>\n",
       "      <th>4205</th>\n",
       "      <td>Unclass/Stone 82/10082_500_plasma.png</td>\n",
       "      <td>Unclass</td>\n",
       "    </tr>\n",
       "    <tr>\n",
       "      <th>4206</th>\n",
       "      <td>Unclass/Stone 82/10082_1170_plasma.png</td>\n",
       "      <td>Unclass</td>\n",
       "    </tr>\n",
       "  </tbody>\n",
       "</table>\n",
       "<p>4207 rows × 2 columns</p>\n",
       "</div>"
      ],
      "text/plain": [
       "                                        Path     Type\n",
       "0      Unclass/Stone 37/10037_760_plasma.png  Unclass\n",
       "1     Unclass/Stone 37/10037_1110_plasma.png  Unclass\n",
       "2     Unclass/Stone 37/10037_1060_plasma.png  Unclass\n",
       "3     Unclass/Stone 37/10037_1490_plasma.png  Unclass\n",
       "4     Unclass/Stone 37/10037_1450_plasma.png  Unclass\n",
       "...                                      ...      ...\n",
       "4202   Unclass/Stone 82/10082_750_plasma.png  Unclass\n",
       "4203  Unclass/Stone 82/10082_1540_plasma.png  Unclass\n",
       "4204   Unclass/Stone 82/10082_560_plasma.png  Unclass\n",
       "4205   Unclass/Stone 82/10082_500_plasma.png  Unclass\n",
       "4206  Unclass/Stone 82/10082_1170_plasma.png  Unclass\n",
       "\n",
       "[4207 rows x 2 columns]"
      ]
     },
     "execution_count": 50,
     "metadata": {},
     "output_type": "execute_result"
    }
   ],
   "source": [
    "Unclass_df"
   ]
  },
  {
   "cell_type": "code",
   "execution_count": 50,
   "id": "3711ca0d",
   "metadata": {},
   "outputs": [
    {
     "data": {
      "text/html": [
       "<div>\n",
       "<style scoped>\n",
       "    .dataframe tbody tr th:only-of-type {\n",
       "        vertical-align: middle;\n",
       "    }\n",
       "\n",
       "    .dataframe tbody tr th {\n",
       "        vertical-align: top;\n",
       "    }\n",
       "\n",
       "    .dataframe thead th {\n",
       "        text-align: right;\n",
       "    }\n",
       "</style>\n",
       "<table border=\"1\" class=\"dataframe\">\n",
       "  <thead>\n",
       "    <tr style=\"text-align: right;\">\n",
       "      <th></th>\n",
       "      <th>Path</th>\n",
       "      <th>Type</th>\n",
       "      <th>label</th>\n",
       "    </tr>\n",
       "  </thead>\n",
       "  <tbody>\n",
       "    <tr>\n",
       "      <th>9527</th>\n",
       "      <td>Calcium/Stone 9/10009_495_plasma.png</td>\n",
       "      <td>Calcium</td>\n",
       "      <td>0</td>\n",
       "    </tr>\n",
       "    <tr>\n",
       "      <th>7686</th>\n",
       "      <td>Calcium/Stone 18/10018_658_plasma.png</td>\n",
       "      <td>Calcium</td>\n",
       "      <td>0</td>\n",
       "    </tr>\n",
       "    <tr>\n",
       "      <th>2386</th>\n",
       "      <td>Uric acid/Pure uric acid/Stone 13/10013_2244_p...</td>\n",
       "      <td>Uric acid</td>\n",
       "      <td>1</td>\n",
       "    </tr>\n",
       "    <tr>\n",
       "      <th>9738</th>\n",
       "      <td>Calcium/Stone 9/10009_1696_plasma.png</td>\n",
       "      <td>Calcium</td>\n",
       "      <td>0</td>\n",
       "    </tr>\n",
       "    <tr>\n",
       "      <th>9836</th>\n",
       "      <td>Calcium/Stone 9/10009_1864_plasma.png</td>\n",
       "      <td>Calcium</td>\n",
       "      <td>0</td>\n",
       "    </tr>\n",
       "    <tr>\n",
       "      <th>...</th>\n",
       "      <td>...</td>\n",
       "      <td>...</td>\n",
       "      <td>...</td>\n",
       "    </tr>\n",
       "    <tr>\n",
       "      <th>9383</th>\n",
       "      <td>Calcium/Stone 9/10009_1453_plasma.png</td>\n",
       "      <td>Calcium</td>\n",
       "      <td>0</td>\n",
       "    </tr>\n",
       "    <tr>\n",
       "      <th>9403</th>\n",
       "      <td>Calcium/Stone 9/10009_508_plasma.png</td>\n",
       "      <td>Calcium</td>\n",
       "      <td>0</td>\n",
       "    </tr>\n",
       "    <tr>\n",
       "      <th>10229</th>\n",
       "      <td>Calcium/Stone 9/10009_1715_plasma.png</td>\n",
       "      <td>Calcium</td>\n",
       "      <td>0</td>\n",
       "    </tr>\n",
       "    <tr>\n",
       "      <th>250</th>\n",
       "      <td>Uric acid/Pure uric acid/Stone 2/10002_910_pla...</td>\n",
       "      <td>Uric acid</td>\n",
       "      <td>1</td>\n",
       "    </tr>\n",
       "    <tr>\n",
       "      <th>1612</th>\n",
       "      <td>Uric acid/Pure uric acid/Stone 13/10013_478_pl...</td>\n",
       "      <td>Uric acid</td>\n",
       "      <td>1</td>\n",
       "    </tr>\n",
       "  </tbody>\n",
       "</table>\n",
       "<p>1667 rows × 3 columns</p>\n",
       "</div>"
      ],
      "text/plain": [
       "                                                    Path       Type  label\n",
       "9527                Calcium/Stone 9/10009_495_plasma.png    Calcium      0\n",
       "7686               Calcium/Stone 18/10018_658_plasma.png    Calcium      0\n",
       "2386   Uric acid/Pure uric acid/Stone 13/10013_2244_p...  Uric acid      1\n",
       "9738               Calcium/Stone 9/10009_1696_plasma.png    Calcium      0\n",
       "9836               Calcium/Stone 9/10009_1864_plasma.png    Calcium      0\n",
       "...                                                  ...        ...    ...\n",
       "9383               Calcium/Stone 9/10009_1453_plasma.png    Calcium      0\n",
       "9403                Calcium/Stone 9/10009_508_plasma.png    Calcium      0\n",
       "10229              Calcium/Stone 9/10009_1715_plasma.png    Calcium      0\n",
       "250    Uric acid/Pure uric acid/Stone 2/10002_910_pla...  Uric acid      1\n",
       "1612   Uric acid/Pure uric acid/Stone 13/10013_478_pl...  Uric acid      1\n",
       "\n",
       "[1667 rows x 3 columns]"
      ]
     },
     "execution_count": 50,
     "metadata": {},
     "output_type": "execute_result"
    }
   ],
   "source": [
    "test_df = type_plasma_model.test_df\n",
    "test_df"
   ]
  },
  {
   "cell_type": "code",
   "execution_count": 51,
   "id": "c5da9559",
   "metadata": {},
   "outputs": [
    {
     "data": {
      "image/png": "[encoded data removed]",
      "text/plain": [
       "<Figure size 1200x400 with 3 Axes>"
      ]
     },
     "metadata": {},
     "output_type": "display_data"
    }
   ],
   "source": [
    "met_info = type_plasma_model.output_met()\n",
    "met_info"
   ]
  },
  {
   "cell_type": "code",
   "execution_count": 52,
   "id": "80184263",
   "metadata": {},
   "outputs": [
    {
     "data": {
      "text/plain": [
       "{0: 'Calcium', 1: 'Uric acid', 2: 'Uric acid calcium'}"
      ]
     },
     "execution_count": 52,
     "metadata": {},
     "output_type": "execute_result"
    }
   ],
   "source": [
    "idx_info = type_plasma_model.idx_output()\n",
    "idx_info"
   ]
  },
  {
   "cell_type": "code",
   "execution_count": 53,
   "id": "376263eb",
   "metadata": {},
   "outputs": [
    {
     "data": {
      "text/plain": [
       "3"
      ]
     },
     "execution_count": 53,
     "metadata": {},
     "output_type": "execute_result"
    }
   ],
   "source": [
    "len(idx_info)"
   ]
  },
  {
   "cell_type": "code",
   "execution_count": 81,
   "id": "c289f698",
   "metadata": {},
   "outputs": [],
   "source": [
    "from Prediction_tool import Predict\n",
    "from PIL import Image"
   ]
  },
  {
   "cell_type": "code",
   "execution_count": 82,
   "id": "84935fe8",
   "metadata": {},
   "outputs": [],
   "source": [
    "type_plasma_model_test_model = \"best_model.pth\"#\"averaged_model.pth\" #\"type_plasma_model.pth\""
   ]
  },
  {
   "cell_type": "code",
   "execution_count": 83,
   "id": "a7502b42",
   "metadata": {},
   "outputs": [
    {
     "data": {
      "text/html": [
       "<div>\n",
       "<style scoped>\n",
       "    .dataframe tbody tr th:only-of-type {\n",
       "        vertical-align: middle;\n",
       "    }\n",
       "\n",
       "    .dataframe tbody tr th {\n",
       "        vertical-align: top;\n",
       "    }\n",
       "\n",
       "    .dataframe thead th {\n",
       "        text-align: right;\n",
       "    }\n",
       "</style>\n",
       "<table border=\"1\" class=\"dataframe\">\n",
       "  <thead>\n",
       "    <tr style=\"text-align: right;\">\n",
       "      <th></th>\n",
       "      <th>Path</th>\n",
       "      <th>Type</th>\n",
       "      <th>label</th>\n",
       "      <th>Predicted_label</th>\n",
       "      <th>Predicted_type</th>\n",
       "      <th>Confidence</th>\n",
       "      <th>prob_Calcium</th>\n",
       "      <th>prob_Uric acid</th>\n",
       "      <th>prob_Uric acid calcium</th>\n",
       "    </tr>\n",
       "  </thead>\n",
       "  <tbody>\n",
       "    <tr>\n",
       "      <th>0</th>\n",
       "      <td>Calcium/Stone 9/10009_495_plasma.png</td>\n",
       "      <td>Calcium</td>\n",
       "      <td>0</td>\n",
       "      <td>0.0</td>\n",
       "      <td>Calcium</td>\n",
       "      <td>0.999339</td>\n",
       "      <td>0.999339</td>\n",
       "      <td>0.000219</td>\n",
       "      <td>0.000442</td>\n",
       "    </tr>\n",
       "    <tr>\n",
       "      <th>1</th>\n",
       "      <td>Calcium/Stone 18/10018_658_plasma.png</td>\n",
       "      <td>Calcium</td>\n",
       "      <td>0</td>\n",
       "      <td>0.0</td>\n",
       "      <td>Calcium</td>\n",
       "      <td>0.992559</td>\n",
       "      <td>0.992559</td>\n",
       "      <td>0.006169</td>\n",
       "      <td>0.001273</td>\n",
       "    </tr>\n",
       "    <tr>\n",
       "      <th>2</th>\n",
       "      <td>Uric acid/Pure uric acid/Stone 13/10013_2244_p...</td>\n",
       "      <td>Uric acid</td>\n",
       "      <td>1</td>\n",
       "      <td>1.0</td>\n",
       "      <td>Uric acid</td>\n",
       "      <td>0.977806</td>\n",
       "      <td>0.005954</td>\n",
       "      <td>0.977806</td>\n",
       "      <td>0.016240</td>\n",
       "    </tr>\n",
       "    <tr>\n",
       "      <th>3</th>\n",
       "      <td>Calcium/Stone 9/10009_1696_plasma.png</td>\n",
       "      <td>Calcium</td>\n",
       "      <td>0</td>\n",
       "      <td>0.0</td>\n",
       "      <td>Calcium</td>\n",
       "      <td>0.999914</td>\n",
       "      <td>0.999914</td>\n",
       "      <td>0.000022</td>\n",
       "      <td>0.000064</td>\n",
       "    </tr>\n",
       "    <tr>\n",
       "      <th>4</th>\n",
       "      <td>Calcium/Stone 9/10009_1864_plasma.png</td>\n",
       "      <td>Calcium</td>\n",
       "      <td>0</td>\n",
       "      <td>0.0</td>\n",
       "      <td>Calcium</td>\n",
       "      <td>0.994529</td>\n",
       "      <td>0.994529</td>\n",
       "      <td>0.004016</td>\n",
       "      <td>0.001455</td>\n",
       "    </tr>\n",
       "    <tr>\n",
       "      <th>...</th>\n",
       "      <td>...</td>\n",
       "      <td>...</td>\n",
       "      <td>...</td>\n",
       "      <td>...</td>\n",
       "      <td>...</td>\n",
       "      <td>...</td>\n",
       "      <td>...</td>\n",
       "      <td>...</td>\n",
       "      <td>...</td>\n",
       "    </tr>\n",
       "    <tr>\n",
       "      <th>1662</th>\n",
       "      <td>Calcium/Stone 9/10009_1453_plasma.png</td>\n",
       "      <td>Calcium</td>\n",
       "      <td>0</td>\n",
       "      <td>0.0</td>\n",
       "      <td>Calcium</td>\n",
       "      <td>0.999918</td>\n",
       "      <td>0.999918</td>\n",
       "      <td>0.000035</td>\n",
       "      <td>0.000046</td>\n",
       "    </tr>\n",
       "    <tr>\n",
       "      <th>1663</th>\n",
       "      <td>Calcium/Stone 9/10009_508_plasma.png</td>\n",
       "      <td>Calcium</td>\n",
       "      <td>0</td>\n",
       "      <td>0.0</td>\n",
       "      <td>Calcium</td>\n",
       "      <td>0.999010</td>\n",
       "      <td>0.999010</td>\n",
       "      <td>0.000448</td>\n",
       "      <td>0.000542</td>\n",
       "    </tr>\n",
       "    <tr>\n",
       "      <th>1664</th>\n",
       "      <td>Calcium/Stone 9/10009_1715_plasma.png</td>\n",
       "      <td>Calcium</td>\n",
       "      <td>0</td>\n",
       "      <td>0.0</td>\n",
       "      <td>Calcium</td>\n",
       "      <td>0.998184</td>\n",
       "      <td>0.998184</td>\n",
       "      <td>0.000570</td>\n",
       "      <td>0.001246</td>\n",
       "    </tr>\n",
       "    <tr>\n",
       "      <th>1665</th>\n",
       "      <td>Uric acid/Pure uric acid/Stone 2/10002_910_pla...</td>\n",
       "      <td>Uric acid</td>\n",
       "      <td>1</td>\n",
       "      <td>0.0</td>\n",
       "      <td>Calcium</td>\n",
       "      <td>0.606026</td>\n",
       "      <td>0.606026</td>\n",
       "      <td>0.282985</td>\n",
       "      <td>0.110989</td>\n",
       "    </tr>\n",
       "    <tr>\n",
       "      <th>1666</th>\n",
       "      <td>Uric acid/Pure uric acid/Stone 13/10013_478_pl...</td>\n",
       "      <td>Uric acid</td>\n",
       "      <td>1</td>\n",
       "      <td>1.0</td>\n",
       "      <td>Uric acid</td>\n",
       "      <td>0.965870</td>\n",
       "      <td>0.009882</td>\n",
       "      <td>0.965870</td>\n",
       "      <td>0.024249</td>\n",
       "    </tr>\n",
       "  </tbody>\n",
       "</table>\n",
       "<p>1667 rows × 9 columns</p>\n",
       "</div>"
      ],
      "text/plain": [
       "                                                   Path       Type  label  \\\n",
       "0                  Calcium/Stone 9/10009_495_plasma.png    Calcium      0   \n",
       "1                 Calcium/Stone 18/10018_658_plasma.png    Calcium      0   \n",
       "2     Uric acid/Pure uric acid/Stone 13/10013_2244_p...  Uric acid      1   \n",
       "3                 Calcium/Stone 9/10009_1696_plasma.png    Calcium      0   \n",
       "4                 Calcium/Stone 9/10009_1864_plasma.png    Calcium      0   \n",
       "...                                                 ...        ...    ...   \n",
       "1662              Calcium/Stone 9/10009_1453_plasma.png    Calcium      0   \n",
       "1663               Calcium/Stone 9/10009_508_plasma.png    Calcium      0   \n",
       "1664              Calcium/Stone 9/10009_1715_plasma.png    Calcium      0   \n",
       "1665  Uric acid/Pure uric acid/Stone 2/10002_910_pla...  Uric acid      1   \n",
       "1666  Uric acid/Pure uric acid/Stone 13/10013_478_pl...  Uric acid      1   \n",
       "\n",
       "      Predicted_label Predicted_type  Confidence  prob_Calcium  \\\n",
       "0                 0.0        Calcium    0.999339      0.999339   \n",
       "1                 0.0        Calcium    0.992559      0.992559   \n",
       "2                 1.0      Uric acid    0.977806      0.005954   \n",
       "3                 0.0        Calcium    0.999914      0.999914   \n",
       "4                 0.0        Calcium    0.994529      0.994529   \n",
       "...               ...            ...         ...           ...   \n",
       "1662              0.0        Calcium    0.999918      0.999918   \n",
       "1663              0.0        Calcium    0.999010      0.999010   \n",
       "1664              0.0        Calcium    0.998184      0.998184   \n",
       "1665              0.0        Calcium    0.606026      0.606026   \n",
       "1666              1.0      Uric acid    0.965870      0.009882   \n",
       "\n",
       "      prob_Uric acid  prob_Uric acid calcium  \n",
       "0           0.000219                0.000442  \n",
       "1           0.006169                0.001273  \n",
       "2           0.977806                0.016240  \n",
       "3           0.000022                0.000064  \n",
       "4           0.004016                0.001455  \n",
       "...              ...                     ...  \n",
       "1662        0.000035                0.000046  \n",
       "1663        0.000448                0.000542  \n",
       "1664        0.000570                0.001246  \n",
       "1665        0.282985                0.110989  \n",
       "1666        0.965870                0.024249  \n",
       "\n",
       "[1667 rows x 9 columns]"
      ]
     },
     "execution_count": 83,
     "metadata": {},
     "output_type": "execute_result"
    }
   ],
   "source": [
    "test_df = test_df.reset_index(drop=True)\n",
    "test_df"
   ]
  },
  {
   "cell_type": "code",
   "execution_count": 84,
   "id": "5f1e1014",
   "metadata": {},
   "outputs": [
    {
     "data": {
      "text/plain": [
       "Type\n",
       "Calcium              1072\n",
       "Uric acid             491\n",
       "Uric acid calcium     104\n",
       "Name: count, dtype: int64"
      ]
     },
     "execution_count": 84,
     "metadata": {},
     "output_type": "execute_result"
    }
   ],
   "source": [
    "test_df[\"Type\"].value_counts()"
   ]
  },
  {
   "cell_type": "code",
   "execution_count": 85,
   "id": "99fcbbf5",
   "metadata": {},
   "outputs": [
    {
     "data": {
      "text/plain": [
       "'Calcium/Stone 9/10009_495_plasma.png'"
      ]
     },
     "execution_count": 85,
     "metadata": {},
     "output_type": "execute_result"
    }
   ],
   "source": [
    "test_df.iloc[0].Path"
   ]
  },
  {
   "cell_type": "code",
   "execution_count": 86,
   "id": "d496c47b",
   "metadata": {},
   "outputs": [
    {
     "name": "stdout",
     "output_type": "stream",
     "text": [
      "Using device: cuda\n",
      "GPU: NVIDIA GeForce RTX 4070 Laptop GPU\n"
     ]
    },
    {
     "data": {
      "text/plain": [
       "{'predicted_class': 0,\n",
       " 'confidence': 0.9993388056755066,\n",
       " 'probabilities': array([9.9933881e-01, 2.1901024e-04, 4.4218212e-04], dtype=float32)}"
      ]
     },
     "execution_count": 86,
     "metadata": {},
     "output_type": "execute_result"
    }
   ],
   "source": [
    "type_plasma_model_predict = Predict(num_classes=len(idx_info), model_path = type_plasma_model_test_model)\n",
    "type_plasma_model_predict_result = type_plasma_model_predict.predict_single_patch(test_df.iloc[0].Path)\n",
    "type_plasma_model_predict_result"
   ]
  },
  {
   "cell_type": "code",
   "execution_count": 87,
   "id": "3b6236f0",
   "metadata": {},
   "outputs": [
    {
     "data": {
      "text/plain": [
       "{0: 'Calcium', 1: 'Uric acid', 2: 'Uric acid calcium'}"
      ]
     },
     "execution_count": 87,
     "metadata": {},
     "output_type": "execute_result"
    }
   ],
   "source": [
    "idx_info"
   ]
  },
  {
   "cell_type": "code",
   "execution_count": 88,
   "id": "04b53967",
   "metadata": {},
   "outputs": [
    {
     "name": "stdout",
     "output_type": "stream",
     "text": [
      "Using device: cuda\n",
      "GPU: NVIDIA GeForce RTX 4070 Laptop GPU\n",
      "{'predicted_class': 0, 'confidence': 0.9993388056755066, 'probabilities': array([9.9933881e-01, 2.1901024e-04, 4.4218212e-04], dtype=float32)}\n"
     ]
    }
   ],
   "source": [
    "# Укажите device='cuda' вместо 'gpu'\n",
    "type_plasma_model_predict = Predict(\n",
    "    num_classes=len(idx_info),\n",
    "    model_path=type_plasma_model_test_model,\n",
    "    device='cuda'  # Исправлено на 'cuda'\n",
    ")\n",
    "\n",
    "# Пример предсказания\n",
    "result = type_plasma_model_predict.predict_single_patch(test_df.iloc[0].Path)\n",
    "print(result)"
   ]
  },
  {
   "cell_type": "code",
   "execution_count": 89,
   "id": "07861ce6",
   "metadata": {},
   "outputs": [
    {
     "data": {
      "text/plain": [
       "{0: 'Calcium', 1: 'Uric acid', 2: 'Uric acid calcium'}"
      ]
     },
     "execution_count": 89,
     "metadata": {},
     "output_type": "execute_result"
    }
   ],
   "source": [
    "idx_info"
   ]
  },
  {
   "cell_type": "markdown",
   "id": "a7747aeb",
   "metadata": {},
   "source": [
    "# Теперь поработаем с test_df, заполним его"
   ]
  },
  {
   "cell_type": "code",
   "execution_count": 90,
   "id": "a10bc4a2",
   "metadata": {},
   "outputs": [],
   "source": [
    "from tqdm import tqdm"
   ]
  },
  {
   "cell_type": "code",
   "execution_count": 91,
   "id": "703d735e",
   "metadata": {},
   "outputs": [
    {
     "data": {
      "text/plain": [
       "Type\n",
       "Calcium              7144\n",
       "Uric acid            3274\n",
       "Uric acid calcium     692\n",
       "Name: count, dtype: int64"
      ]
     },
     "execution_count": 91,
     "metadata": {},
     "output_type": "execute_result"
    }
   ],
   "source": [
    "complited_data[\"Type\"].value_counts()"
   ]
  },
  {
   "cell_type": "code",
   "execution_count": 92,
   "id": "073ef3d4",
   "metadata": {},
   "outputs": [
    {
     "name": "stderr",
     "output_type": "stream",
     "text": [
      "Processing images: 100%|██████████| 1667/1667 [00:08<00:00, 190.05it/s]\n"
     ]
    }
   ],
   "source": [
    "for i, row in tqdm(test_df.iterrows(), total=len(test_df), desc=\"Processing images\"):\n",
    "    image_path = row[\"Path\"]\n",
    "    \n",
    "    result = type_plasma_model_predict_result = type_plasma_model_predict.predict_single_patch(image_path)\n",
    "    \n",
    "    predicted_label = result['predicted_class']\n",
    "    probabilities = result['probabilities'] \n",
    "    \n",
    "    test_df.at[i, 'Predicted_label'] = int(predicted_label)\n",
    "    test_df.at[i, 'Predicted_type'] = idx_info[predicted_label]\n",
    "    test_df.at[i, 'Confidence'] = result[\"confidence\"]\n",
    "    test_df.at[i, 'prob_Calcium'] = probabilities[0]\n",
    "    #test_df.at[i, 'prob_Cystine'] = probabilities[1]\n",
    "    test_df.at[i, 'prob_Uric acid'] = probabilities[1]\n",
    "    test_df.at[i, 'prob_Uric acid calcium'] = probabilities[2]\n",
    "    \n",
    "\n",
    "    \n",
    "    \n",
    "    \n",
    "    \n"
   ]
  },
  {
   "cell_type": "code",
   "execution_count": 67,
   "id": "1357bc84",
   "metadata": {},
   "outputs": [
    {
     "data": {
      "text/html": [
       "<div>\n",
       "<style scoped>\n",
       "    .dataframe tbody tr th:only-of-type {\n",
       "        vertical-align: middle;\n",
       "    }\n",
       "\n",
       "    .dataframe tbody tr th {\n",
       "        vertical-align: top;\n",
       "    }\n",
       "\n",
       "    .dataframe thead th {\n",
       "        text-align: right;\n",
       "    }\n",
       "</style>\n",
       "<table border=\"1\" class=\"dataframe\">\n",
       "  <thead>\n",
       "    <tr style=\"text-align: right;\">\n",
       "      <th></th>\n",
       "      <th>Path</th>\n",
       "      <th>Type</th>\n",
       "      <th>label</th>\n",
       "      <th>Predicted_label</th>\n",
       "      <th>Predicted_type</th>\n",
       "      <th>Confidence</th>\n",
       "      <th>prob_Calcium</th>\n",
       "      <th>prob_Uric acid</th>\n",
       "      <th>prob_Uric acid calcium</th>\n",
       "    </tr>\n",
       "  </thead>\n",
       "  <tbody>\n",
       "    <tr>\n",
       "      <th>0</th>\n",
       "      <td>Calcium/Stone 9/10009_495_plasma.png</td>\n",
       "      <td>Calcium</td>\n",
       "      <td>0</td>\n",
       "      <td>0.0</td>\n",
       "      <td>Calcium</td>\n",
       "      <td>0.999339</td>\n",
       "      <td>0.999339</td>\n",
       "      <td>0.000219</td>\n",
       "      <td>0.000442</td>\n",
       "    </tr>\n",
       "    <tr>\n",
       "      <th>1</th>\n",
       "      <td>Calcium/Stone 18/10018_658_plasma.png</td>\n",
       "      <td>Calcium</td>\n",
       "      <td>0</td>\n",
       "      <td>0.0</td>\n",
       "      <td>Calcium</td>\n",
       "      <td>0.992559</td>\n",
       "      <td>0.992559</td>\n",
       "      <td>0.006169</td>\n",
       "      <td>0.001273</td>\n",
       "    </tr>\n",
       "    <tr>\n",
       "      <th>2</th>\n",
       "      <td>Uric acid/Pure uric acid/Stone 13/10013_2244_p...</td>\n",
       "      <td>Uric acid</td>\n",
       "      <td>1</td>\n",
       "      <td>1.0</td>\n",
       "      <td>Uric acid</td>\n",
       "      <td>0.977806</td>\n",
       "      <td>0.005954</td>\n",
       "      <td>0.977806</td>\n",
       "      <td>0.016240</td>\n",
       "    </tr>\n",
       "    <tr>\n",
       "      <th>3</th>\n",
       "      <td>Calcium/Stone 9/10009_1696_plasma.png</td>\n",
       "      <td>Calcium</td>\n",
       "      <td>0</td>\n",
       "      <td>0.0</td>\n",
       "      <td>Calcium</td>\n",
       "      <td>0.999914</td>\n",
       "      <td>0.999914</td>\n",
       "      <td>0.000022</td>\n",
       "      <td>0.000064</td>\n",
       "    </tr>\n",
       "    <tr>\n",
       "      <th>4</th>\n",
       "      <td>Calcium/Stone 9/10009_1864_plasma.png</td>\n",
       "      <td>Calcium</td>\n",
       "      <td>0</td>\n",
       "      <td>0.0</td>\n",
       "      <td>Calcium</td>\n",
       "      <td>0.994529</td>\n",
       "      <td>0.994529</td>\n",
       "      <td>0.004016</td>\n",
       "      <td>0.001455</td>\n",
       "    </tr>\n",
       "    <tr>\n",
       "      <th>...</th>\n",
       "      <td>...</td>\n",
       "      <td>...</td>\n",
       "      <td>...</td>\n",
       "      <td>...</td>\n",
       "      <td>...</td>\n",
       "      <td>...</td>\n",
       "      <td>...</td>\n",
       "      <td>...</td>\n",
       "      <td>...</td>\n",
       "    </tr>\n",
       "    <tr>\n",
       "      <th>1662</th>\n",
       "      <td>Calcium/Stone 9/10009_1453_plasma.png</td>\n",
       "      <td>Calcium</td>\n",
       "      <td>0</td>\n",
       "      <td>0.0</td>\n",
       "      <td>Calcium</td>\n",
       "      <td>0.999918</td>\n",
       "      <td>0.999918</td>\n",
       "      <td>0.000035</td>\n",
       "      <td>0.000046</td>\n",
       "    </tr>\n",
       "    <tr>\n",
       "      <th>1663</th>\n",
       "      <td>Calcium/Stone 9/10009_508_plasma.png</td>\n",
       "      <td>Calcium</td>\n",
       "      <td>0</td>\n",
       "      <td>0.0</td>\n",
       "      <td>Calcium</td>\n",
       "      <td>0.999010</td>\n",
       "      <td>0.999010</td>\n",
       "      <td>0.000448</td>\n",
       "      <td>0.000542</td>\n",
       "    </tr>\n",
       "    <tr>\n",
       "      <th>1664</th>\n",
       "      <td>Calcium/Stone 9/10009_1715_plasma.png</td>\n",
       "      <td>Calcium</td>\n",
       "      <td>0</td>\n",
       "      <td>0.0</td>\n",
       "      <td>Calcium</td>\n",
       "      <td>0.998184</td>\n",
       "      <td>0.998184</td>\n",
       "      <td>0.000570</td>\n",
       "      <td>0.001246</td>\n",
       "    </tr>\n",
       "    <tr>\n",
       "      <th>1665</th>\n",
       "      <td>Uric acid/Pure uric acid/Stone 2/10002_910_pla...</td>\n",
       "      <td>Uric acid</td>\n",
       "      <td>1</td>\n",
       "      <td>0.0</td>\n",
       "      <td>Calcium</td>\n",
       "      <td>0.606026</td>\n",
       "      <td>0.606026</td>\n",
       "      <td>0.282985</td>\n",
       "      <td>0.110989</td>\n",
       "    </tr>\n",
       "    <tr>\n",
       "      <th>1666</th>\n",
       "      <td>Uric acid/Pure uric acid/Stone 13/10013_478_pl...</td>\n",
       "      <td>Uric acid</td>\n",
       "      <td>1</td>\n",
       "      <td>1.0</td>\n",
       "      <td>Uric acid</td>\n",
       "      <td>0.965870</td>\n",
       "      <td>0.009882</td>\n",
       "      <td>0.965870</td>\n",
       "      <td>0.024249</td>\n",
       "    </tr>\n",
       "  </tbody>\n",
       "</table>\n",
       "<p>1667 rows × 9 columns</p>\n",
       "</div>"
      ],
      "text/plain": [
       "                                                   Path       Type  label  \\\n",
       "0                  Calcium/Stone 9/10009_495_plasma.png    Calcium      0   \n",
       "1                 Calcium/Stone 18/10018_658_plasma.png    Calcium      0   \n",
       "2     Uric acid/Pure uric acid/Stone 13/10013_2244_p...  Uric acid      1   \n",
       "3                 Calcium/Stone 9/10009_1696_plasma.png    Calcium      0   \n",
       "4                 Calcium/Stone 9/10009_1864_plasma.png    Calcium      0   \n",
       "...                                                 ...        ...    ...   \n",
       "1662              Calcium/Stone 9/10009_1453_plasma.png    Calcium      0   \n",
       "1663               Calcium/Stone 9/10009_508_plasma.png    Calcium      0   \n",
       "1664              Calcium/Stone 9/10009_1715_plasma.png    Calcium      0   \n",
       "1665  Uric acid/Pure uric acid/Stone 2/10002_910_pla...  Uric acid      1   \n",
       "1666  Uric acid/Pure uric acid/Stone 13/10013_478_pl...  Uric acid      1   \n",
       "\n",
       "      Predicted_label Predicted_type  Confidence  prob_Calcium  \\\n",
       "0                 0.0        Calcium    0.999339      0.999339   \n",
       "1                 0.0        Calcium    0.992559      0.992559   \n",
       "2                 1.0      Uric acid    0.977806      0.005954   \n",
       "3                 0.0        Calcium    0.999914      0.999914   \n",
       "4                 0.0        Calcium    0.994529      0.994529   \n",
       "...               ...            ...         ...           ...   \n",
       "1662              0.0        Calcium    0.999918      0.999918   \n",
       "1663              0.0        Calcium    0.999010      0.999010   \n",
       "1664              0.0        Calcium    0.998184      0.998184   \n",
       "1665              0.0        Calcium    0.606026      0.606026   \n",
       "1666              1.0      Uric acid    0.965870      0.009882   \n",
       "\n",
       "      prob_Uric acid  prob_Uric acid calcium  \n",
       "0           0.000219                0.000442  \n",
       "1           0.006169                0.001273  \n",
       "2           0.977806                0.016240  \n",
       "3           0.000022                0.000064  \n",
       "4           0.004016                0.001455  \n",
       "...              ...                     ...  \n",
       "1662        0.000035                0.000046  \n",
       "1663        0.000448                0.000542  \n",
       "1664        0.000570                0.001246  \n",
       "1665        0.282985                0.110989  \n",
       "1666        0.965870                0.024249  \n",
       "\n",
       "[1667 rows x 9 columns]"
      ]
     },
     "execution_count": 67,
     "metadata": {},
     "output_type": "execute_result"
    }
   ],
   "source": [
    "test_df"
   ]
  },
  {
   "cell_type": "markdown",
   "id": "b0bc314e",
   "metadata": {},
   "source": [
    "# Посчитаем метрики"
   ]
  },
  {
   "cell_type": "code",
   "execution_count": 68,
   "id": "21df8b04",
   "metadata": {},
   "outputs": [
    {
     "data": {
      "image/png": "[encoded data removed]",
      "text/plain": [
       "<Figure size 640x480 with 2 Axes>"
      ]
     },
     "metadata": {},
     "output_type": "display_data"
    }
   ],
   "source": [
    "from sklearn.metrics import confusion_matrix, ConfusionMatrixDisplay\n",
    "import matplotlib.pyplot as plt\n",
    "\n",
    "cm = confusion_matrix(test_df['label'], test_df['Predicted_label'])\n",
    "disp = ConfusionMatrixDisplay(confusion_matrix=cm, \n",
    "                              display_labels=list(idx_info.values()))\n",
    "disp.plot(cmap='Blues', values_format='d')\n",
    "plt.title('Confusion Matrix')\n",
    "plt.show()"
   ]
  },
  {
   "cell_type": "code",
   "execution_count": 69,
   "id": "58b8db25",
   "metadata": {},
   "outputs": [
    {
     "data": {
      "text/plain": [
       "array([[1059,   12,    1],\n",
       "       [  59,  432,    0],\n",
       "       [   0,    0,  104]])"
      ]
     },
     "execution_count": 69,
     "metadata": {},
     "output_type": "execute_result"
    }
   ],
   "source": [
    "cm"
   ]
  },
  {
   "cell_type": "code",
   "execution_count": 80,
   "id": "ebda340d",
   "metadata": {},
   "outputs": [
    {
     "data": {
      "image/png": "[encoded data removed]",
      "text/plain": [
       "<Figure size 640x480 with 2 Axes>"
      ]
     },
     "metadata": {},
     "output_type": "display_data"
    },
    {
     "name": "stdout",
     "output_type": "stream",
     "text": [
      "Normalized CM (row-wise):\n",
      "[[0.988 0.011 0.001]\n",
      " [0.12  0.88  0.   ]\n",
      " [0.    0.    1.   ]]\n"
     ]
    }
   ],
   "source": [
    "\n",
    "\n",
    "# Рассчитываем обычную матрицу ошибок\n",
    "cm = confusion_matrix(test_df['label'], test_df['Predicted_label'])\n",
    "\n",
    "# Нормируем матрицу по строкам (верные метки)\n",
    "cm_normalized = cm.astype('float') / cm.sum(axis=1)[:, np.newaxis]\n",
    "\n",
    "# Создаем визуализацию с частотами\n",
    "disp = ConfusionMatrixDisplay(\n",
    "    confusion_matrix=cm_normalized,\n",
    "    display_labels=list(idx_info.values())\n",
    ")\n",
    "\n",
    "# Настраиваем формат отображения (два знака после запятой)\n",
    "disp.plot(cmap='Blues', values_format='.2f')  # Используйте '.1%' для процентов\n",
    "\n",
    "plt.title('Normalized Confusion Matrix (by row)')\n",
    "plt.show()\n",
    "\n",
    "# Выводим числовое представление матрицы (опционально)\n",
    "print(\"Normalized CM (row-wise):\")\n",
    "print(np.round(cm_normalized, 3))"
   ]
  },
  {
   "cell_type": "code",
   "execution_count": 70,
   "id": "b3edd785",
   "metadata": {},
   "outputs": [
    {
     "name": "stdout",
     "output_type": "stream",
     "text": [
      "                   precision    recall  f1-score   support\n",
      "\n",
      "          Calcium       0.95      0.99      0.97      1072\n",
      "        Uric acid       0.97      0.88      0.92       491\n",
      "Uric acid calcium       0.99      1.00      1.00       104\n",
      "\n",
      "         accuracy                           0.96      1667\n",
      "        macro avg       0.97      0.96      0.96      1667\n",
      "     weighted avg       0.96      0.96      0.96      1667\n",
      "\n"
     ]
    }
   ],
   "source": [
    "from sklearn.metrics import classification_report\n",
    "\n",
    "print(classification_report(\n",
    "    test_df['label'],\n",
    "    test_df['Predicted_label'],\n",
    "    target_names=list(idx_info.values())\n",
    "))"
   ]
  },
  {
   "cell_type": "markdown",
   "id": "d8b124c3",
   "metadata": {},
   "source": [
    "#  Cystine Их очень мало!!!  Можно ли побольше выделить????"
   ]
  },
  {
   "cell_type": "code",
   "execution_count": 71,
   "id": "29b59826",
   "metadata": {},
   "outputs": [
    {
     "data": {
      "text/plain": [
       "(409, 2)"
      ]
     },
     "execution_count": 71,
     "metadata": {},
     "output_type": "execute_result"
    }
   ],
   "source": [
    "Cystine_df.shape"
   ]
  },
  {
   "cell_type": "code",
   "execution_count": 72,
   "id": "e9210c3b",
   "metadata": {},
   "outputs": [
    {
     "data": {
      "image/png": "[encoded data removed]",
      "text/plain": [
       "<Figure size 1000x800 with 1 Axes>"
      ]
     },
     "metadata": {},
     "output_type": "display_data"
    }
   ],
   "source": [
    "from sklearn.metrics import precision_recall_curve, PrecisionRecallDisplay\n",
    "from sklearn.preprocessing import label_binarize\n",
    "\n",
    "# Преобразуем метки в one-hot encoding\n",
    "y_true = label_binarize(test_df['label'], classes=[0,1,2,3])\n",
    "y_score = test_df[['prob_Calcium', 'prob_Uric acid', 'prob_Uric acid calcium']].values\n",
    "\n",
    "# Создаем subplot для каждого класса\n",
    "fig, ax = plt.subplots(figsize=(10, 8))\n",
    "for i, cls in enumerate(idx_info.values()):\n",
    "    PrecisionRecallDisplay.from_predictions(\n",
    "        y_true[:, i],\n",
    "        y_score[:, i],\n",
    "        name=f\"{cls}\",\n",
    "        ax=ax\n",
    "    )\n",
    "ax.set_title(\"Precision-Recall Curve per Class\")\n",
    "ax.legend(loc='best')\n",
    "ax.grid()\n",
    "plt.show()"
   ]
  },
  {
   "cell_type": "code",
   "execution_count": 73,
   "id": "3f2ee3ec",
   "metadata": {},
   "outputs": [
    {
     "data": {
      "image/png": "[encoded data removed]",
      "text/plain": [
       "<Figure size 1000x800 with 1 Axes>"
      ]
     },
     "metadata": {},
     "output_type": "display_data"
    }
   ],
   "source": [
    "from sklearn.metrics import auc, precision_recall_curve\n",
    "\n",
    "fig, ax = plt.subplots(figsize=(10, 8))\n",
    "for i, cls in enumerate(idx_info.values()):\n",
    "    precision, recall, _ = precision_recall_curve(y_true[:, i], y_score[:, i])\n",
    "    pr_auc = auc(recall, precision)\n",
    "    \n",
    "    PrecisionRecallDisplay.from_predictions(\n",
    "        y_true[:, i],\n",
    "        y_score[:, i],\n",
    "        name=f\"{cls} (AUC={pr_auc:.2f})\",  # Добавляем AUC в легенду\n",
    "        ax=ax\n",
    "    )\n",
    "ax.set_title(\"Precision-Recall Curve per Class\")\n",
    "ax.legend(loc='best')\n",
    "ax.grid()\n",
    "plt.show()"
   ]
  },
  {
   "cell_type": "code",
   "execution_count": 74,
   "id": "8d838950",
   "metadata": {},
   "outputs": [
    {
     "data": {
      "image/png": "[encoded data removed]",
      "text/plain": [
       "<Figure size 1000x600 with 1 Axes>"
      ]
     },
     "metadata": {},
     "output_type": "display_data"
    }
   ],
   "source": [
    "import numpy as np\n",
    "\n",
    "# Вычисляем accuracy для каждого класса\n",
    "class_acc = {}\n",
    "for label, name in idx_info.items():\n",
    "    class_samples = test_df[test_df['label'] == label]\n",
    "    correct = (class_samples['label'] == class_samples['Predicted_label']).sum()\n",
    "    class_acc[name] = correct / len(class_samples)\n",
    "\n",
    "# Визуализация\n",
    "plt.figure(figsize=(10, 6))\n",
    "plt.bar(class_acc.keys(), class_acc.values(), color='skyblue')\n",
    "plt.axhline(y=test_df['label'].eq(test_df['Predicted_label']).mean(), \n",
    "            color='r', \n",
    "            linestyle='--', \n",
    "            label='Overall Accuracy')\n",
    "plt.ylabel('Accuracy')\n",
    "plt.title('Class-wise Accuracy')\n",
    "plt.ylim(0, 1.05)\n",
    "plt.legend()\n",
    "plt.show()"
   ]
  },
  {
   "cell_type": "code",
   "execution_count": 89,
   "id": "29038047",
   "metadata": {},
   "outputs": [],
   "source": [
    "test_df.to_excel(\"test_df.xlsx\")"
   ]
  },
  {
   "cell_type": "code",
   "execution_count": 90,
   "id": "ba7e0b1e",
   "metadata": {},
   "outputs": [],
   "source": [
    "#type_plasma_model.clear_memory()"
   ]
  },
  {
   "cell_type": "code",
   "execution_count": null,
   "id": "e204caa2",
   "metadata": {},
   "outputs": [],
   "source": []
  },
  {
   "cell_type": "code",
   "execution_count": 91,
   "id": "0257ac15",
   "metadata": {},
   "outputs": [
    {
     "data": {
      "text/html": [
       "<div>\n",
       "<style scoped>\n",
       "    .dataframe tbody tr th:only-of-type {\n",
       "        vertical-align: middle;\n",
       "    }\n",
       "\n",
       "    .dataframe tbody tr th {\n",
       "        vertical-align: top;\n",
       "    }\n",
       "\n",
       "    .dataframe thead th {\n",
       "        text-align: right;\n",
       "    }\n",
       "</style>\n",
       "<table border=\"1\" class=\"dataframe\">\n",
       "  <thead>\n",
       "    <tr style=\"text-align: right;\">\n",
       "      <th></th>\n",
       "      <th>Path</th>\n",
       "      <th>Type</th>\n",
       "    </tr>\n",
       "  </thead>\n",
       "  <tbody>\n",
       "    <tr>\n",
       "      <th>0</th>\n",
       "      <td>Unclass/Stone 37/10037_760_plasma.png</td>\n",
       "      <td>Unclass</td>\n",
       "    </tr>\n",
       "    <tr>\n",
       "      <th>1</th>\n",
       "      <td>Unclass/Stone 37/10037_1110_plasma.png</td>\n",
       "      <td>Unclass</td>\n",
       "    </tr>\n",
       "    <tr>\n",
       "      <th>2</th>\n",
       "      <td>Unclass/Stone 37/10037_1060_plasma.png</td>\n",
       "      <td>Unclass</td>\n",
       "    </tr>\n",
       "    <tr>\n",
       "      <th>3</th>\n",
       "      <td>Unclass/Stone 37/10037_1490_plasma.png</td>\n",
       "      <td>Unclass</td>\n",
       "    </tr>\n",
       "    <tr>\n",
       "      <th>4</th>\n",
       "      <td>Unclass/Stone 37/10037_1450_plasma.png</td>\n",
       "      <td>Unclass</td>\n",
       "    </tr>\n",
       "    <tr>\n",
       "      <th>...</th>\n",
       "      <td>...</td>\n",
       "      <td>...</td>\n",
       "    </tr>\n",
       "    <tr>\n",
       "      <th>4202</th>\n",
       "      <td>Unclass/Stone 82/10082_750_plasma.png</td>\n",
       "      <td>Unclass</td>\n",
       "    </tr>\n",
       "    <tr>\n",
       "      <th>4203</th>\n",
       "      <td>Unclass/Stone 82/10082_1540_plasma.png</td>\n",
       "      <td>Unclass</td>\n",
       "    </tr>\n",
       "    <tr>\n",
       "      <th>4204</th>\n",
       "      <td>Unclass/Stone 82/10082_560_plasma.png</td>\n",
       "      <td>Unclass</td>\n",
       "    </tr>\n",
       "    <tr>\n",
       "      <th>4205</th>\n",
       "      <td>Unclass/Stone 82/10082_500_plasma.png</td>\n",
       "      <td>Unclass</td>\n",
       "    </tr>\n",
       "    <tr>\n",
       "      <th>4206</th>\n",
       "      <td>Unclass/Stone 82/10082_1170_plasma.png</td>\n",
       "      <td>Unclass</td>\n",
       "    </tr>\n",
       "  </tbody>\n",
       "</table>\n",
       "<p>4207 rows × 2 columns</p>\n",
       "</div>"
      ],
      "text/plain": [
       "                                        Path     Type\n",
       "0      Unclass/Stone 37/10037_760_plasma.png  Unclass\n",
       "1     Unclass/Stone 37/10037_1110_plasma.png  Unclass\n",
       "2     Unclass/Stone 37/10037_1060_plasma.png  Unclass\n",
       "3     Unclass/Stone 37/10037_1490_plasma.png  Unclass\n",
       "4     Unclass/Stone 37/10037_1450_plasma.png  Unclass\n",
       "...                                      ...      ...\n",
       "4202   Unclass/Stone 82/10082_750_plasma.png  Unclass\n",
       "4203  Unclass/Stone 82/10082_1540_plasma.png  Unclass\n",
       "4204   Unclass/Stone 82/10082_560_plasma.png  Unclass\n",
       "4205   Unclass/Stone 82/10082_500_plasma.png  Unclass\n",
       "4206  Unclass/Stone 82/10082_1170_plasma.png  Unclass\n",
       "\n",
       "[4207 rows x 2 columns]"
      ]
     },
     "execution_count": 91,
     "metadata": {},
     "output_type": "execute_result"
    }
   ],
   "source": [
    "Unclass_df"
   ]
  },
  {
   "cell_type": "code",
   "execution_count": 76,
   "id": "8040625c",
   "metadata": {},
   "outputs": [
    {
     "name": "stderr",
     "output_type": "stream",
     "text": [
      "Processing images: 100%|██████████| 4207/4207 [00:20<00:00, 202.60it/s] \n"
     ]
    }
   ],
   "source": [
    "for i, row in tqdm(Unclass_df.iterrows(), total=len(Unclass_df), desc=\"Processing images\"):\n",
    "    image_path = row[\"Path\"]\n",
    "    \n",
    "    result = type_plasma_model_predict_result = type_plasma_model_predict.predict_single_patch(image_path)\n",
    "    \n",
    "    predicted_label = result['predicted_class']\n",
    "    probabilities = result['probabilities'] \n",
    "    \n",
    "    Unclass_df.at[i, 'Predicted_label'] = int(predicted_label)\n",
    "    Unclass_df.at[i, 'Predicted_type'] = idx_info[predicted_label]\n",
    "    Unclass_df.at[i, 'Confidence'] = result[\"confidence\"]\n",
    "    Unclass_df.at[i, 'prob_Calcium'] = probabilities[0]\n",
    "    #Unclass_df.at[i, 'prob_Cystine'] = probabilities[1]\n",
    "    Unclass_df.at[i, 'prob_Uric acid'] = probabilities[1]\n",
    "    Unclass_df.at[i, 'prob_Uric acid calcium'] = probabilities[2]\n",
    "    "
   ]
  },
  {
   "cell_type": "code",
   "execution_count": 77,
   "id": "09fd284e",
   "metadata": {},
   "outputs": [],
   "source": [
    "Unclass_df.to_excel(\"Unclass_df.xlsx\")"
   ]
  },
  {
   "cell_type": "code",
   "execution_count": 78,
   "id": "b28176f9",
   "metadata": {},
   "outputs": [
    {
     "data": {
      "text/html": [
       "<div>\n",
       "<style scoped>\n",
       "    .dataframe tbody tr th:only-of-type {\n",
       "        vertical-align: middle;\n",
       "    }\n",
       "\n",
       "    .dataframe tbody tr th {\n",
       "        vertical-align: top;\n",
       "    }\n",
       "\n",
       "    .dataframe thead th {\n",
       "        text-align: right;\n",
       "    }\n",
       "</style>\n",
       "<table border=\"1\" class=\"dataframe\">\n",
       "  <thead>\n",
       "    <tr style=\"text-align: right;\">\n",
       "      <th></th>\n",
       "      <th>Path</th>\n",
       "      <th>Type</th>\n",
       "      <th>Predicted_label</th>\n",
       "      <th>Predicted_type</th>\n",
       "      <th>Confidence</th>\n",
       "      <th>prob_Calcium</th>\n",
       "      <th>prob_Cystine</th>\n",
       "      <th>prob_Uric acid</th>\n",
       "      <th>prob_Uric acid calcium</th>\n",
       "    </tr>\n",
       "  </thead>\n",
       "  <tbody>\n",
       "    <tr>\n",
       "      <th>0</th>\n",
       "      <td>Unclass/Stone 37/10037_760_plasma.png</td>\n",
       "      <td>Unclass</td>\n",
       "      <td>0.0</td>\n",
       "      <td>Calcium</td>\n",
       "      <td>0.999485</td>\n",
       "      <td>0.999485</td>\n",
       "      <td>0.000407</td>\n",
       "      <td>0.000407</td>\n",
       "      <td>1.087435e-04</td>\n",
       "    </tr>\n",
       "    <tr>\n",
       "      <th>1</th>\n",
       "      <td>Unclass/Stone 37/10037_1110_plasma.png</td>\n",
       "      <td>Unclass</td>\n",
       "      <td>0.0</td>\n",
       "      <td>Calcium</td>\n",
       "      <td>0.999666</td>\n",
       "      <td>0.999666</td>\n",
       "      <td>NaN</td>\n",
       "      <td>0.000187</td>\n",
       "      <td>1.465595e-04</td>\n",
       "    </tr>\n",
       "    <tr>\n",
       "      <th>2</th>\n",
       "      <td>Unclass/Stone 37/10037_1060_plasma.png</td>\n",
       "      <td>Unclass</td>\n",
       "      <td>0.0</td>\n",
       "      <td>Calcium</td>\n",
       "      <td>0.999858</td>\n",
       "      <td>0.999858</td>\n",
       "      <td>NaN</td>\n",
       "      <td>0.000126</td>\n",
       "      <td>1.627933e-05</td>\n",
       "    </tr>\n",
       "    <tr>\n",
       "      <th>3</th>\n",
       "      <td>Unclass/Stone 37/10037_1490_plasma.png</td>\n",
       "      <td>Unclass</td>\n",
       "      <td>0.0</td>\n",
       "      <td>Calcium</td>\n",
       "      <td>0.996585</td>\n",
       "      <td>0.996585</td>\n",
       "      <td>NaN</td>\n",
       "      <td>0.003411</td>\n",
       "      <td>3.888201e-06</td>\n",
       "    </tr>\n",
       "    <tr>\n",
       "      <th>4</th>\n",
       "      <td>Unclass/Stone 37/10037_1450_plasma.png</td>\n",
       "      <td>Unclass</td>\n",
       "      <td>0.0</td>\n",
       "      <td>Calcium</td>\n",
       "      <td>0.999956</td>\n",
       "      <td>0.999956</td>\n",
       "      <td>NaN</td>\n",
       "      <td>0.000043</td>\n",
       "      <td>8.065605e-07</td>\n",
       "    </tr>\n",
       "    <tr>\n",
       "      <th>...</th>\n",
       "      <td>...</td>\n",
       "      <td>...</td>\n",
       "      <td>...</td>\n",
       "      <td>...</td>\n",
       "      <td>...</td>\n",
       "      <td>...</td>\n",
       "      <td>...</td>\n",
       "      <td>...</td>\n",
       "      <td>...</td>\n",
       "    </tr>\n",
       "    <tr>\n",
       "      <th>4202</th>\n",
       "      <td>Unclass/Stone 82/10082_750_plasma.png</td>\n",
       "      <td>Unclass</td>\n",
       "      <td>0.0</td>\n",
       "      <td>Calcium</td>\n",
       "      <td>0.999938</td>\n",
       "      <td>0.999938</td>\n",
       "      <td>NaN</td>\n",
       "      <td>0.000018</td>\n",
       "      <td>4.346370e-05</td>\n",
       "    </tr>\n",
       "    <tr>\n",
       "      <th>4203</th>\n",
       "      <td>Unclass/Stone 82/10082_1540_plasma.png</td>\n",
       "      <td>Unclass</td>\n",
       "      <td>0.0</td>\n",
       "      <td>Calcium</td>\n",
       "      <td>0.999857</td>\n",
       "      <td>0.999857</td>\n",
       "      <td>NaN</td>\n",
       "      <td>0.000137</td>\n",
       "      <td>5.741976e-06</td>\n",
       "    </tr>\n",
       "    <tr>\n",
       "      <th>4204</th>\n",
       "      <td>Unclass/Stone 82/10082_560_plasma.png</td>\n",
       "      <td>Unclass</td>\n",
       "      <td>0.0</td>\n",
       "      <td>Calcium</td>\n",
       "      <td>0.999219</td>\n",
       "      <td>0.999219</td>\n",
       "      <td>NaN</td>\n",
       "      <td>0.000345</td>\n",
       "      <td>4.358285e-04</td>\n",
       "    </tr>\n",
       "    <tr>\n",
       "      <th>4205</th>\n",
       "      <td>Unclass/Stone 82/10082_500_plasma.png</td>\n",
       "      <td>Unclass</td>\n",
       "      <td>0.0</td>\n",
       "      <td>Calcium</td>\n",
       "      <td>0.999756</td>\n",
       "      <td>0.999756</td>\n",
       "      <td>NaN</td>\n",
       "      <td>0.000127</td>\n",
       "      <td>1.165684e-04</td>\n",
       "    </tr>\n",
       "    <tr>\n",
       "      <th>4206</th>\n",
       "      <td>Unclass/Stone 82/10082_1170_plasma.png</td>\n",
       "      <td>Unclass</td>\n",
       "      <td>0.0</td>\n",
       "      <td>Calcium</td>\n",
       "      <td>0.999924</td>\n",
       "      <td>0.999924</td>\n",
       "      <td>NaN</td>\n",
       "      <td>0.000036</td>\n",
       "      <td>4.090674e-05</td>\n",
       "    </tr>\n",
       "  </tbody>\n",
       "</table>\n",
       "<p>4207 rows × 9 columns</p>\n",
       "</div>"
      ],
      "text/plain": [
       "                                        Path     Type  Predicted_label  \\\n",
       "0      Unclass/Stone 37/10037_760_plasma.png  Unclass              0.0   \n",
       "1     Unclass/Stone 37/10037_1110_plasma.png  Unclass              0.0   \n",
       "2     Unclass/Stone 37/10037_1060_plasma.png  Unclass              0.0   \n",
       "3     Unclass/Stone 37/10037_1490_plasma.png  Unclass              0.0   \n",
       "4     Unclass/Stone 37/10037_1450_plasma.png  Unclass              0.0   \n",
       "...                                      ...      ...              ...   \n",
       "4202   Unclass/Stone 82/10082_750_plasma.png  Unclass              0.0   \n",
       "4203  Unclass/Stone 82/10082_1540_plasma.png  Unclass              0.0   \n",
       "4204   Unclass/Stone 82/10082_560_plasma.png  Unclass              0.0   \n",
       "4205   Unclass/Stone 82/10082_500_plasma.png  Unclass              0.0   \n",
       "4206  Unclass/Stone 82/10082_1170_plasma.png  Unclass              0.0   \n",
       "\n",
       "     Predicted_type  Confidence  prob_Calcium  prob_Cystine  prob_Uric acid  \\\n",
       "0           Calcium    0.999485      0.999485      0.000407        0.000407   \n",
       "1           Calcium    0.999666      0.999666           NaN        0.000187   \n",
       "2           Calcium    0.999858      0.999858           NaN        0.000126   \n",
       "3           Calcium    0.996585      0.996585           NaN        0.003411   \n",
       "4           Calcium    0.999956      0.999956           NaN        0.000043   \n",
       "...             ...         ...           ...           ...             ...   \n",
       "4202        Calcium    0.999938      0.999938           NaN        0.000018   \n",
       "4203        Calcium    0.999857      0.999857           NaN        0.000137   \n",
       "4204        Calcium    0.999219      0.999219           NaN        0.000345   \n",
       "4205        Calcium    0.999756      0.999756           NaN        0.000127   \n",
       "4206        Calcium    0.999924      0.999924           NaN        0.000036   \n",
       "\n",
       "      prob_Uric acid calcium  \n",
       "0               1.087435e-04  \n",
       "1               1.465595e-04  \n",
       "2               1.627933e-05  \n",
       "3               3.888201e-06  \n",
       "4               8.065605e-07  \n",
       "...                      ...  \n",
       "4202            4.346370e-05  \n",
       "4203            5.741976e-06  \n",
       "4204            4.358285e-04  \n",
       "4205            1.165684e-04  \n",
       "4206            4.090674e-05  \n",
       "\n",
       "[4207 rows x 9 columns]"
      ]
     },
     "execution_count": 78,
     "metadata": {},
     "output_type": "execute_result"
    }
   ],
   "source": [
    "Unclass_df"
   ]
  },
  {
   "cell_type": "markdown",
   "id": "9d591859",
   "metadata": {},
   "source": [
    "Predicted_label\n",
    "0.0    2887\n",
    "1.0     571\n",
    "2.0     507\n",
    "3.0     242\n",
    "Name: count, dtype: int64"
   ]
  },
  {
   "cell_type": "code",
   "execution_count": 79,
   "id": "74773228",
   "metadata": {},
   "outputs": [
    {
     "data": {
      "text/plain": [
       "Predicted_label\n",
       "0.0    3938\n",
       "2.0     176\n",
       "1.0      93\n",
       "Name: count, dtype: int64"
      ]
     },
     "execution_count": 79,
     "metadata": {},
     "output_type": "execute_result"
    }
   ],
   "source": [
    "Unclass_df[\"Predicted_label\"].value_counts()"
   ]
  }
 ],
 "metadata": {
  "kernelspec": {
   "display_name": "base",
   "language": "python",
   "name": "python3"
  },
  "language_info": {
   "codemirror_mode": {
    "name": "ipython",
    "version": 3
   },
   "file_extension": ".py",
   "mimetype": "text/x-python",
   "name": "python",
   "nbconvert_exporter": "python",
   "pygments_lexer": "ipython3",
   "version": "3.13.5"
  }
 },
 "nbformat": 4,
 "nbformat_minor": 5
}
