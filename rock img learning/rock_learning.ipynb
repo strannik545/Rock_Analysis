{
 "cells": [
  {
   "cell_type": "code",
   "execution_count": 1,
   "id": "f9ffec2c",
   "metadata": {},
   "outputs": [],
   "source": [
    "import pandas as pd \n",
    "import os \n",
    "import numpy as np \n",
    "from Classification_library import *\n",
    "from Prediction_tool import *\n"
   ]
  },
  {
   "cell_type": "code",
   "execution_count": 2,
   "id": "57a2ab4a",
   "metadata": {},
   "outputs": [
    {
     "data": {
      "text/html": [
       "<div>\n",
       "<style scoped>\n",
       "    .dataframe tbody tr th:only-of-type {\n",
       "        vertical-align: middle;\n",
       "    }\n",
       "\n",
       "    .dataframe tbody tr th {\n",
       "        vertical-align: top;\n",
       "    }\n",
       "\n",
       "    .dataframe thead th {\n",
       "        text-align: right;\n",
       "    }\n",
       "</style>\n",
       "<table border=\"1\" class=\"dataframe\">\n",
       "  <thead>\n",
       "    <tr style=\"text-align: right;\">\n",
       "      <th></th>\n",
       "      <th>path</th>\n",
       "      <th>type</th>\n",
       "    </tr>\n",
       "  </thead>\n",
       "  <tbody>\n",
       "    <tr>\n",
       "      <th>0</th>\n",
       "      <td>Stone 6 filtered_v1/Rock6_868_filtered.png</td>\n",
       "      <td>Calcium</td>\n",
       "    </tr>\n",
       "    <tr>\n",
       "      <th>1</th>\n",
       "      <td>Stone 6 filtered_v1/Rock6_1424_filtered.png</td>\n",
       "      <td>Calcium</td>\n",
       "    </tr>\n",
       "    <tr>\n",
       "      <th>2</th>\n",
       "      <td>Stone 6 filtered_v1/Rock6_1295_filtered.png</td>\n",
       "      <td>Calcium</td>\n",
       "    </tr>\n",
       "    <tr>\n",
       "      <th>3</th>\n",
       "      <td>Stone 6 filtered_v1/Rock6_772_filtered.png</td>\n",
       "      <td>Calcium</td>\n",
       "    </tr>\n",
       "    <tr>\n",
       "      <th>4</th>\n",
       "      <td>Stone 6 filtered_v1/Rock6_462_filtered.png</td>\n",
       "      <td>Calcium</td>\n",
       "    </tr>\n",
       "    <tr>\n",
       "      <th>...</th>\n",
       "      <td>...</td>\n",
       "      <td>...</td>\n",
       "    </tr>\n",
       "    <tr>\n",
       "      <th>27351</th>\n",
       "      <td>Stone 32 filtered_v1/Rock32_46_filtered.png</td>\n",
       "      <td>Uric acid with calcium</td>\n",
       "    </tr>\n",
       "    <tr>\n",
       "      <th>27352</th>\n",
       "      <td>Stone 32 filtered_v1/Rock32_1344_filtered.png</td>\n",
       "      <td>Uric acid with calcium</td>\n",
       "    </tr>\n",
       "    <tr>\n",
       "      <th>27353</th>\n",
       "      <td>Stone 32 filtered_v1/Rock32_1456_filtered.png</td>\n",
       "      <td>Uric acid with calcium</td>\n",
       "    </tr>\n",
       "    <tr>\n",
       "      <th>27354</th>\n",
       "      <td>Stone 32 filtered_v1/Rock32_912_filtered.png</td>\n",
       "      <td>Uric acid with calcium</td>\n",
       "    </tr>\n",
       "    <tr>\n",
       "      <th>27355</th>\n",
       "      <td>Stone 32 filtered_v1/Rock32_799_filtered.png</td>\n",
       "      <td>Uric acid with calcium</td>\n",
       "    </tr>\n",
       "  </tbody>\n",
       "</table>\n",
       "<p>27356 rows × 2 columns</p>\n",
       "</div>"
      ],
      "text/plain": [
       "                                                path                    type\n",
       "0         Stone 6 filtered_v1/Rock6_868_filtered.png                 Calcium\n",
       "1        Stone 6 filtered_v1/Rock6_1424_filtered.png                 Calcium\n",
       "2        Stone 6 filtered_v1/Rock6_1295_filtered.png                 Calcium\n",
       "3         Stone 6 filtered_v1/Rock6_772_filtered.png                 Calcium\n",
       "4         Stone 6 filtered_v1/Rock6_462_filtered.png                 Calcium\n",
       "...                                              ...                     ...\n",
       "27351    Stone 32 filtered_v1/Rock32_46_filtered.png  Uric acid with calcium\n",
       "27352  Stone 32 filtered_v1/Rock32_1344_filtered.png  Uric acid with calcium\n",
       "27353  Stone 32 filtered_v1/Rock32_1456_filtered.png  Uric acid with calcium\n",
       "27354   Stone 32 filtered_v1/Rock32_912_filtered.png  Uric acid with calcium\n",
       "27355   Stone 32 filtered_v1/Rock32_799_filtered.png  Uric acid with calcium\n",
       "\n",
       "[27356 rows x 2 columns]"
      ]
     },
     "execution_count": 2,
     "metadata": {},
     "output_type": "execute_result"
    }
   ],
   "source": [
    "data = pd.read_csv(\"rock_patches.csv\")[[\"path\", \"type\"]]\n",
    "data"
   ]
  },
  {
   "cell_type": "code",
   "execution_count": 3,
   "id": "68f4809e",
   "metadata": {},
   "outputs": [
    {
     "data": {
      "text/html": [
       "<div>\n",
       "<style scoped>\n",
       "    .dataframe tbody tr th:only-of-type {\n",
       "        vertical-align: middle;\n",
       "    }\n",
       "\n",
       "    .dataframe tbody tr th {\n",
       "        vertical-align: top;\n",
       "    }\n",
       "\n",
       "    .dataframe thead th {\n",
       "        text-align: right;\n",
       "    }\n",
       "</style>\n",
       "<table border=\"1\" class=\"dataframe\">\n",
       "  <thead>\n",
       "    <tr style=\"text-align: right;\">\n",
       "      <th></th>\n",
       "      <th>path</th>\n",
       "      <th>type</th>\n",
       "    </tr>\n",
       "  </thead>\n",
       "  <tbody>\n",
       "    <tr>\n",
       "      <th>0</th>\n",
       "      <td>/home/wsl/flashcards/DISK_1/Kidney stones/Cyst...</td>\n",
       "      <td>Cystine</td>\n",
       "    </tr>\n",
       "    <tr>\n",
       "      <th>1</th>\n",
       "      <td>/home/wsl/flashcards/DISK_1/Kidney stones/Cyst...</td>\n",
       "      <td>Cystine</td>\n",
       "    </tr>\n",
       "    <tr>\n",
       "      <th>2</th>\n",
       "      <td>/home/wsl/flashcards/DISK_1/Kidney stones/Cyst...</td>\n",
       "      <td>Cystine</td>\n",
       "    </tr>\n",
       "    <tr>\n",
       "      <th>3</th>\n",
       "      <td>/home/wsl/flashcards/DISK_1/Kidney stones/Cyst...</td>\n",
       "      <td>Cystine</td>\n",
       "    </tr>\n",
       "    <tr>\n",
       "      <th>4</th>\n",
       "      <td>/home/wsl/flashcards/DISK_1/Kidney stones/Cyst...</td>\n",
       "      <td>Cystine</td>\n",
       "    </tr>\n",
       "    <tr>\n",
       "      <th>...</th>\n",
       "      <td>...</td>\n",
       "      <td>...</td>\n",
       "    </tr>\n",
       "    <tr>\n",
       "      <th>897</th>\n",
       "      <td>/home/wsl/flashcards/DISK_1/Kidney stones/Cyst...</td>\n",
       "      <td>Cystine</td>\n",
       "    </tr>\n",
       "    <tr>\n",
       "      <th>898</th>\n",
       "      <td>/home/wsl/flashcards/DISK_1/Kidney stones/Cyst...</td>\n",
       "      <td>Cystine</td>\n",
       "    </tr>\n",
       "    <tr>\n",
       "      <th>899</th>\n",
       "      <td>/home/wsl/flashcards/DISK_1/Kidney stones/Cyst...</td>\n",
       "      <td>Cystine</td>\n",
       "    </tr>\n",
       "    <tr>\n",
       "      <th>900</th>\n",
       "      <td>/home/wsl/flashcards/DISK_1/Kidney stones/Cyst...</td>\n",
       "      <td>Cystine</td>\n",
       "    </tr>\n",
       "    <tr>\n",
       "      <th>901</th>\n",
       "      <td>/home/wsl/flashcards/DISK_1/Kidney stones/Cyst...</td>\n",
       "      <td>Cystine</td>\n",
       "    </tr>\n",
       "  </tbody>\n",
       "</table>\n",
       "<p>902 rows × 2 columns</p>\n",
       "</div>"
      ],
      "text/plain": [
       "                                                  path     type\n",
       "0    /home/wsl/flashcards/DISK_1/Kidney stones/Cyst...  Cystine\n",
       "1    /home/wsl/flashcards/DISK_1/Kidney stones/Cyst...  Cystine\n",
       "2    /home/wsl/flashcards/DISK_1/Kidney stones/Cyst...  Cystine\n",
       "3    /home/wsl/flashcards/DISK_1/Kidney stones/Cyst...  Cystine\n",
       "4    /home/wsl/flashcards/DISK_1/Kidney stones/Cyst...  Cystine\n",
       "..                                                 ...      ...\n",
       "897  /home/wsl/flashcards/DISK_1/Kidney stones/Cyst...  Cystine\n",
       "898  /home/wsl/flashcards/DISK_1/Kidney stones/Cyst...  Cystine\n",
       "899  /home/wsl/flashcards/DISK_1/Kidney stones/Cyst...  Cystine\n",
       "900  /home/wsl/flashcards/DISK_1/Kidney stones/Cyst...  Cystine\n",
       "901  /home/wsl/flashcards/DISK_1/Kidney stones/Cyst...  Cystine\n",
       "\n",
       "[902 rows x 2 columns]"
      ]
     },
     "execution_count": 3,
     "metadata": {},
     "output_type": "execute_result"
    }
   ],
   "source": [
    "df_cystine = pd.read_csv(\"cystine_df.csv\")[[\"path\", \"type\"]]\n",
    "df_cystine "
   ]
  },
  {
   "cell_type": "code",
   "execution_count": 4,
   "id": "833b22c9",
   "metadata": {},
   "outputs": [
    {
     "data": {
      "text/html": [
       "<div>\n",
       "<style scoped>\n",
       "    .dataframe tbody tr th:only-of-type {\n",
       "        vertical-align: middle;\n",
       "    }\n",
       "\n",
       "    .dataframe tbody tr th {\n",
       "        vertical-align: top;\n",
       "    }\n",
       "\n",
       "    .dataframe thead th {\n",
       "        text-align: right;\n",
       "    }\n",
       "</style>\n",
       "<table border=\"1\" class=\"dataframe\">\n",
       "  <thead>\n",
       "    <tr style=\"text-align: right;\">\n",
       "      <th></th>\n",
       "      <th>path</th>\n",
       "      <th>type</th>\n",
       "    </tr>\n",
       "  </thead>\n",
       "  <tbody>\n",
       "    <tr>\n",
       "      <th>0</th>\n",
       "      <td>Stone 6 filtered_v1/Rock6_868_filtered.png</td>\n",
       "      <td>Calcium</td>\n",
       "    </tr>\n",
       "    <tr>\n",
       "      <th>1</th>\n",
       "      <td>Stone 6 filtered_v1/Rock6_1424_filtered.png</td>\n",
       "      <td>Calcium</td>\n",
       "    </tr>\n",
       "    <tr>\n",
       "      <th>2</th>\n",
       "      <td>Stone 6 filtered_v1/Rock6_1295_filtered.png</td>\n",
       "      <td>Calcium</td>\n",
       "    </tr>\n",
       "    <tr>\n",
       "      <th>3</th>\n",
       "      <td>Stone 6 filtered_v1/Rock6_772_filtered.png</td>\n",
       "      <td>Calcium</td>\n",
       "    </tr>\n",
       "    <tr>\n",
       "      <th>4</th>\n",
       "      <td>Stone 6 filtered_v1/Rock6_462_filtered.png</td>\n",
       "      <td>Calcium</td>\n",
       "    </tr>\n",
       "    <tr>\n",
       "      <th>...</th>\n",
       "      <td>...</td>\n",
       "      <td>...</td>\n",
       "    </tr>\n",
       "    <tr>\n",
       "      <th>897</th>\n",
       "      <td>/home/wsl/flashcards/DISK_1/Kidney stones/Cyst...</td>\n",
       "      <td>Cystine</td>\n",
       "    </tr>\n",
       "    <tr>\n",
       "      <th>898</th>\n",
       "      <td>/home/wsl/flashcards/DISK_1/Kidney stones/Cyst...</td>\n",
       "      <td>Cystine</td>\n",
       "    </tr>\n",
       "    <tr>\n",
       "      <th>899</th>\n",
       "      <td>/home/wsl/flashcards/DISK_1/Kidney stones/Cyst...</td>\n",
       "      <td>Cystine</td>\n",
       "    </tr>\n",
       "    <tr>\n",
       "      <th>900</th>\n",
       "      <td>/home/wsl/flashcards/DISK_1/Kidney stones/Cyst...</td>\n",
       "      <td>Cystine</td>\n",
       "    </tr>\n",
       "    <tr>\n",
       "      <th>901</th>\n",
       "      <td>/home/wsl/flashcards/DISK_1/Kidney stones/Cyst...</td>\n",
       "      <td>Cystine</td>\n",
       "    </tr>\n",
       "  </tbody>\n",
       "</table>\n",
       "<p>28258 rows × 2 columns</p>\n",
       "</div>"
      ],
      "text/plain": [
       "                                                  path     type\n",
       "0           Stone 6 filtered_v1/Rock6_868_filtered.png  Calcium\n",
       "1          Stone 6 filtered_v1/Rock6_1424_filtered.png  Calcium\n",
       "2          Stone 6 filtered_v1/Rock6_1295_filtered.png  Calcium\n",
       "3           Stone 6 filtered_v1/Rock6_772_filtered.png  Calcium\n",
       "4           Stone 6 filtered_v1/Rock6_462_filtered.png  Calcium\n",
       "..                                                 ...      ...\n",
       "897  /home/wsl/flashcards/DISK_1/Kidney stones/Cyst...  Cystine\n",
       "898  /home/wsl/flashcards/DISK_1/Kidney stones/Cyst...  Cystine\n",
       "899  /home/wsl/flashcards/DISK_1/Kidney stones/Cyst...  Cystine\n",
       "900  /home/wsl/flashcards/DISK_1/Kidney stones/Cyst...  Cystine\n",
       "901  /home/wsl/flashcards/DISK_1/Kidney stones/Cyst...  Cystine\n",
       "\n",
       "[28258 rows x 2 columns]"
      ]
     },
     "execution_count": 4,
     "metadata": {},
     "output_type": "execute_result"
    }
   ],
   "source": [
    "data_learning = pd.concat([data, df_cystine])\n",
    "data_learning"
   ]
  },
  {
   "cell_type": "code",
   "execution_count": 5,
   "id": "6d028cb9",
   "metadata": {},
   "outputs": [],
   "source": [
    "#data[\"Rock ID\"].value_counts()"
   ]
  },
  {
   "cell_type": "code",
   "execution_count": 6,
   "id": "ed78c700",
   "metadata": {},
   "outputs": [
    {
     "data": {
      "text/plain": [
       "type\n",
       "Calcium                   12662\n",
       "Uric acid with calcium    12295\n",
       "Pure uric acid             2399\n",
       "Cystine                     902\n",
       "Name: count, dtype: int64"
      ]
     },
     "execution_count": 6,
     "metadata": {},
     "output_type": "execute_result"
    }
   ],
   "source": [
    "data_learning[\"type\"].value_counts()"
   ]
  },
  {
   "cell_type": "code",
   "execution_count": 7,
   "id": "9850a2ee",
   "metadata": {},
   "outputs": [],
   "source": [
    "idx_info = {0: 'Calcium', 1: 'Cystine', 2: 'Pure uric acid', 3: 'Uric acid with calcium'}"
   ]
  },
  {
   "cell_type": "code",
   "execution_count": 8,
   "id": "e13cb435",
   "metadata": {},
   "outputs": [],
   "source": [
    "minor_classes = [list(idx_info.values()).index('Pure uric acid'),\n",
    "                 list(idx_info.values()).index('Cystine')]"
   ]
  },
  {
   "cell_type": "code",
   "execution_count": 9,
   "id": "6a008985",
   "metadata": {},
   "outputs": [
    {
     "name": "stdout",
     "output_type": "stream",
     "text": [
      "Выбрано устройство: cuda\n"
     ]
    }
   ],
   "source": [
    "device = 'cuda'\n",
    "print(f\"Выбрано устройство: {device}\")  \n",
    "\n",
    "BATCH_SIZE = 64\n",
    "NUM_EPOCHS = 15\n",
    "NUM_WORKERS = 16"
   ]
  },
  {
   "cell_type": "code",
   "execution_count": 10,
   "id": "919c2952",
   "metadata": {},
   "outputs": [
    {
     "name": "stdout",
     "output_type": "stream",
     "text": [
      "Minor classes: None\n",
      "Sample label: 0, type: <class 'numpy.int64'>\n"
     ]
    }
   ],
   "source": [
    "type_plasma_model = Learning_rocks(df = data_learning, device = device, model_name = f'type_plasma_model.pth', BATCH_SIZE = BATCH_SIZE, num_ep = NUM_EPOCHS, num_workers=NUM_WORKERS)#, minor_classes=minor_classes, focal_gamma=3.0, major_aug= False, aug=True)"
   ]
  },
  {
   "cell_type": "code",
   "execution_count": 11,
   "id": "4180d412",
   "metadata": {},
   "outputs": [
    {
     "data": {
      "text/plain": [
       "{0: 'Calcium', 1: 'Cystine', 2: 'Pure uric acid', 3: 'Uric acid with calcium'}"
      ]
     },
     "execution_count": 11,
     "metadata": {},
     "output_type": "execute_result"
    }
   ],
   "source": [
    "type_plasma_model.idx_output()"
   ]
  },
  {
   "cell_type": "code",
   "execution_count": 12,
   "id": "47ffaf61",
   "metadata": {},
   "outputs": [
    {
     "name": "stderr",
     "output_type": "stream",
     "text": [
      "Epochs: 100%|██████████| 15/15 [14:40<00:00, 58.69s/it]\n"
     ]
    }
   ],
   "source": [
    "type_plasma_model.learn_model()"
   ]
  },
  {
   "cell_type": "code",
   "execution_count": 13,
   "id": "c2e353a1",
   "metadata": {},
   "outputs": [
    {
     "data": {
      "text/plain": [
       "'type_plasma_model.pth'"
      ]
     },
     "execution_count": 13,
     "metadata": {},
     "output_type": "execute_result"
    }
   ],
   "source": [
    "type_plasma_model_test_model = [\"best_model.pth\", \"averaged_model.pth\", \"type_plasma_model.pth\"][-1]\n",
    "type_plasma_model_test_model"
   ]
  },
  {
   "cell_type": "code",
   "execution_count": 14,
   "id": "7fe33b00",
   "metadata": {},
   "outputs": [
    {
     "data": {
      "text/html": [
       "<div>\n",
       "<style scoped>\n",
       "    .dataframe tbody tr th:only-of-type {\n",
       "        vertical-align: middle;\n",
       "    }\n",
       "\n",
       "    .dataframe tbody tr th {\n",
       "        vertical-align: top;\n",
       "    }\n",
       "\n",
       "    .dataframe thead th {\n",
       "        text-align: right;\n",
       "    }\n",
       "</style>\n",
       "<table border=\"1\" class=\"dataframe\">\n",
       "  <thead>\n",
       "    <tr style=\"text-align: right;\">\n",
       "      <th></th>\n",
       "      <th>path</th>\n",
       "      <th>type</th>\n",
       "      <th>label</th>\n",
       "    </tr>\n",
       "  </thead>\n",
       "  <tbody>\n",
       "    <tr>\n",
       "      <th>26626</th>\n",
       "      <td>Stone 32 filtered_v1/Rock32_1916_filtered.png</td>\n",
       "      <td>Uric acid with calcium</td>\n",
       "      <td>3</td>\n",
       "    </tr>\n",
       "    <tr>\n",
       "      <th>12690</th>\n",
       "      <td>Stone 27 filtered_v1/Rock27_1422_filtered.png</td>\n",
       "      <td>Uric acid with calcium</td>\n",
       "      <td>3</td>\n",
       "    </tr>\n",
       "    <tr>\n",
       "      <th>718</th>\n",
       "      <td>Stone 6 filtered_v1/Rock6_1090_filtered.png</td>\n",
       "      <td>Calcium</td>\n",
       "      <td>0</td>\n",
       "    </tr>\n",
       "    <tr>\n",
       "      <th>15719</th>\n",
       "      <td>Stone 11 filtered_v1/Rock11_683_filtered.png</td>\n",
       "      <td>Uric acid with calcium</td>\n",
       "      <td>3</td>\n",
       "    </tr>\n",
       "    <tr>\n",
       "      <th>22576</th>\n",
       "      <td>Stone 28 filtered_v1/Rock28_1139_filtered.png</td>\n",
       "      <td>Uric acid with calcium</td>\n",
       "      <td>3</td>\n",
       "    </tr>\n",
       "    <tr>\n",
       "      <th>...</th>\n",
       "      <td>...</td>\n",
       "      <td>...</td>\n",
       "      <td>...</td>\n",
       "    </tr>\n",
       "    <tr>\n",
       "      <th>22718</th>\n",
       "      <td>Stone 28 filtered_v1/Rock28_1453_filtered.png</td>\n",
       "      <td>Uric acid with calcium</td>\n",
       "      <td>3</td>\n",
       "    </tr>\n",
       "    <tr>\n",
       "      <th>24611</th>\n",
       "      <td>Stone 16 filtered_v1/Rock16_373_filtered.png</td>\n",
       "      <td>Calcium</td>\n",
       "      <td>0</td>\n",
       "    </tr>\n",
       "    <tr>\n",
       "      <th>26220</th>\n",
       "      <td>Stone 32 filtered_v1/Rock32_2133_filtered.png</td>\n",
       "      <td>Uric acid with calcium</td>\n",
       "      <td>3</td>\n",
       "    </tr>\n",
       "    <tr>\n",
       "      <th>21977</th>\n",
       "      <td>Stone 28 filtered_v1/Rock28_654_filtered.png</td>\n",
       "      <td>Uric acid with calcium</td>\n",
       "      <td>3</td>\n",
       "    </tr>\n",
       "    <tr>\n",
       "      <th>17873</th>\n",
       "      <td>Stone 19 filtered_v1/Rock19_1505_filtered.png</td>\n",
       "      <td>Uric acid with calcium</td>\n",
       "      <td>3</td>\n",
       "    </tr>\n",
       "  </tbody>\n",
       "</table>\n",
       "<p>4239 rows × 3 columns</p>\n",
       "</div>"
      ],
      "text/plain": [
       "                                                path                    type  \\\n",
       "26626  Stone 32 filtered_v1/Rock32_1916_filtered.png  Uric acid with calcium   \n",
       "12690  Stone 27 filtered_v1/Rock27_1422_filtered.png  Uric acid with calcium   \n",
       "718      Stone 6 filtered_v1/Rock6_1090_filtered.png                 Calcium   \n",
       "15719   Stone 11 filtered_v1/Rock11_683_filtered.png  Uric acid with calcium   \n",
       "22576  Stone 28 filtered_v1/Rock28_1139_filtered.png  Uric acid with calcium   \n",
       "...                                              ...                     ...   \n",
       "22718  Stone 28 filtered_v1/Rock28_1453_filtered.png  Uric acid with calcium   \n",
       "24611   Stone 16 filtered_v1/Rock16_373_filtered.png                 Calcium   \n",
       "26220  Stone 32 filtered_v1/Rock32_2133_filtered.png  Uric acid with calcium   \n",
       "21977   Stone 28 filtered_v1/Rock28_654_filtered.png  Uric acid with calcium   \n",
       "17873  Stone 19 filtered_v1/Rock19_1505_filtered.png  Uric acid with calcium   \n",
       "\n",
       "       label  \n",
       "26626      3  \n",
       "12690      3  \n",
       "718        0  \n",
       "15719      3  \n",
       "22576      3  \n",
       "...      ...  \n",
       "22718      3  \n",
       "24611      0  \n",
       "26220      3  \n",
       "21977      3  \n",
       "17873      3  \n",
       "\n",
       "[4239 rows x 3 columns]"
      ]
     },
     "execution_count": 14,
     "metadata": {},
     "output_type": "execute_result"
    }
   ],
   "source": [
    "test_df = type_plasma_model.test_df\n",
    "test_df"
   ]
  },
  {
   "cell_type": "code",
   "execution_count": 15,
   "id": "5c072cdb",
   "metadata": {},
   "outputs": [
    {
     "data": {
      "text/html": [
       "<div>\n",
       "<style scoped>\n",
       "    .dataframe tbody tr th:only-of-type {\n",
       "        vertical-align: middle;\n",
       "    }\n",
       "\n",
       "    .dataframe tbody tr th {\n",
       "        vertical-align: top;\n",
       "    }\n",
       "\n",
       "    .dataframe thead th {\n",
       "        text-align: right;\n",
       "    }\n",
       "</style>\n",
       "<table border=\"1\" class=\"dataframe\">\n",
       "  <thead>\n",
       "    <tr style=\"text-align: right;\">\n",
       "      <th></th>\n",
       "      <th>path</th>\n",
       "      <th>type</th>\n",
       "      <th>label</th>\n",
       "    </tr>\n",
       "  </thead>\n",
       "  <tbody>\n",
       "    <tr>\n",
       "      <th>0</th>\n",
       "      <td>Stone 32 filtered_v1/Rock32_1916_filtered.png</td>\n",
       "      <td>Uric acid with calcium</td>\n",
       "      <td>3</td>\n",
       "    </tr>\n",
       "    <tr>\n",
       "      <th>1</th>\n",
       "      <td>Stone 27 filtered_v1/Rock27_1422_filtered.png</td>\n",
       "      <td>Uric acid with calcium</td>\n",
       "      <td>3</td>\n",
       "    </tr>\n",
       "    <tr>\n",
       "      <th>2</th>\n",
       "      <td>Stone 6 filtered_v1/Rock6_1090_filtered.png</td>\n",
       "      <td>Calcium</td>\n",
       "      <td>0</td>\n",
       "    </tr>\n",
       "    <tr>\n",
       "      <th>3</th>\n",
       "      <td>Stone 11 filtered_v1/Rock11_683_filtered.png</td>\n",
       "      <td>Uric acid with calcium</td>\n",
       "      <td>3</td>\n",
       "    </tr>\n",
       "    <tr>\n",
       "      <th>4</th>\n",
       "      <td>Stone 28 filtered_v1/Rock28_1139_filtered.png</td>\n",
       "      <td>Uric acid with calcium</td>\n",
       "      <td>3</td>\n",
       "    </tr>\n",
       "    <tr>\n",
       "      <th>...</th>\n",
       "      <td>...</td>\n",
       "      <td>...</td>\n",
       "      <td>...</td>\n",
       "    </tr>\n",
       "    <tr>\n",
       "      <th>4234</th>\n",
       "      <td>Stone 28 filtered_v1/Rock28_1453_filtered.png</td>\n",
       "      <td>Uric acid with calcium</td>\n",
       "      <td>3</td>\n",
       "    </tr>\n",
       "    <tr>\n",
       "      <th>4235</th>\n",
       "      <td>Stone 16 filtered_v1/Rock16_373_filtered.png</td>\n",
       "      <td>Calcium</td>\n",
       "      <td>0</td>\n",
       "    </tr>\n",
       "    <tr>\n",
       "      <th>4236</th>\n",
       "      <td>Stone 32 filtered_v1/Rock32_2133_filtered.png</td>\n",
       "      <td>Uric acid with calcium</td>\n",
       "      <td>3</td>\n",
       "    </tr>\n",
       "    <tr>\n",
       "      <th>4237</th>\n",
       "      <td>Stone 28 filtered_v1/Rock28_654_filtered.png</td>\n",
       "      <td>Uric acid with calcium</td>\n",
       "      <td>3</td>\n",
       "    </tr>\n",
       "    <tr>\n",
       "      <th>4238</th>\n",
       "      <td>Stone 19 filtered_v1/Rock19_1505_filtered.png</td>\n",
       "      <td>Uric acid with calcium</td>\n",
       "      <td>3</td>\n",
       "    </tr>\n",
       "  </tbody>\n",
       "</table>\n",
       "<p>4239 rows × 3 columns</p>\n",
       "</div>"
      ],
      "text/plain": [
       "                                               path                    type  \\\n",
       "0     Stone 32 filtered_v1/Rock32_1916_filtered.png  Uric acid with calcium   \n",
       "1     Stone 27 filtered_v1/Rock27_1422_filtered.png  Uric acid with calcium   \n",
       "2       Stone 6 filtered_v1/Rock6_1090_filtered.png                 Calcium   \n",
       "3      Stone 11 filtered_v1/Rock11_683_filtered.png  Uric acid with calcium   \n",
       "4     Stone 28 filtered_v1/Rock28_1139_filtered.png  Uric acid with calcium   \n",
       "...                                             ...                     ...   \n",
       "4234  Stone 28 filtered_v1/Rock28_1453_filtered.png  Uric acid with calcium   \n",
       "4235   Stone 16 filtered_v1/Rock16_373_filtered.png                 Calcium   \n",
       "4236  Stone 32 filtered_v1/Rock32_2133_filtered.png  Uric acid with calcium   \n",
       "4237   Stone 28 filtered_v1/Rock28_654_filtered.png  Uric acid with calcium   \n",
       "4238  Stone 19 filtered_v1/Rock19_1505_filtered.png  Uric acid with calcium   \n",
       "\n",
       "      label  \n",
       "0         3  \n",
       "1         3  \n",
       "2         0  \n",
       "3         3  \n",
       "4         3  \n",
       "...     ...  \n",
       "4234      3  \n",
       "4235      0  \n",
       "4236      3  \n",
       "4237      3  \n",
       "4238      3  \n",
       "\n",
       "[4239 rows x 3 columns]"
      ]
     },
     "execution_count": 15,
     "metadata": {},
     "output_type": "execute_result"
    }
   ],
   "source": [
    "test_df = test_df.reset_index(drop=True)\n",
    "test_df"
   ]
  },
  {
   "cell_type": "code",
   "execution_count": 16,
   "id": "8454c04e",
   "metadata": {},
   "outputs": [
    {
     "data": {
      "text/plain": [
       "type\n",
       "Calcium                   1899\n",
       "Uric acid with calcium    1845\n",
       "Pure uric acid             360\n",
       "Cystine                    135\n",
       "Name: count, dtype: int64"
      ]
     },
     "execution_count": 16,
     "metadata": {},
     "output_type": "execute_result"
    }
   ],
   "source": [
    "test_df[\"type\"].value_counts()"
   ]
  },
  {
   "cell_type": "code",
   "execution_count": 17,
   "id": "a3bb2ff9",
   "metadata": {},
   "outputs": [
    {
     "data": {
      "text/plain": [
       "'Stone 32 filtered_v1/Rock32_1916_filtered.png'"
      ]
     },
     "execution_count": 17,
     "metadata": {},
     "output_type": "execute_result"
    }
   ],
   "source": [
    "test_df.iloc[0].path"
   ]
  },
  {
   "cell_type": "code",
   "execution_count": 18,
   "id": "71053048",
   "metadata": {},
   "outputs": [
    {
     "name": "stdout",
     "output_type": "stream",
     "text": [
      "Using device: cuda\n",
      "GPU: NVIDIA GeForce RTX 4070 Laptop GPU\n"
     ]
    },
    {
     "data": {
      "text/plain": [
       "{'predicted_class': 3,\n",
       " 'confidence': 0.9994710087776184,\n",
       " 'probabilities': array([5.2398478e-04, 1.0018337e-06, 4.0299960e-06, 9.9947101e-01],\n",
       "       dtype=float32)}"
      ]
     },
     "execution_count": 18,
     "metadata": {},
     "output_type": "execute_result"
    }
   ],
   "source": [
    "type_plasma_model_predict = Predict(num_classes=len(idx_info), model_path = type_plasma_model_test_model)\n",
    "type_plasma_model_predict_result = type_plasma_model_predict.predict_single_patch(test_df.iloc[0].path)\n",
    "type_plasma_model_predict_result"
   ]
  },
  {
   "cell_type": "code",
   "execution_count": 19,
   "id": "cc50a601",
   "metadata": {},
   "outputs": [
    {
     "name": "stdout",
     "output_type": "stream",
     "text": [
      "Using device: cuda\n",
      "GPU: NVIDIA GeForce RTX 4070 Laptop GPU\n",
      "{'predicted_class': 3, 'confidence': 0.9994710087776184, 'probabilities': array([5.2398478e-04, 1.0018337e-06, 4.0299960e-06, 9.9947101e-01],\n",
      "      dtype=float32)}\n"
     ]
    }
   ],
   "source": [
    "# Укажите device='cuda' вместо 'gpu'\n",
    "type_plasma_model_predict = Predict(\n",
    "    num_classes=len(idx_info),\n",
    "    model_path=type_plasma_model_test_model,\n",
    "    device='cuda'  # Исправлено на 'cuda'\n",
    ")\n",
    "\n",
    "# Пример предсказания\n",
    "result = type_plasma_model_predict.predict_single_patch(test_df.iloc[0].path)\n",
    "print(result)"
   ]
  },
  {
   "cell_type": "code",
   "execution_count": 20,
   "id": "1777403f",
   "metadata": {},
   "outputs": [
    {
     "data": {
      "text/plain": [
       "{0: 'Calcium', 1: 'Cystine', 2: 'Pure uric acid', 3: 'Uric acid with calcium'}"
      ]
     },
     "execution_count": 20,
     "metadata": {},
     "output_type": "execute_result"
    }
   ],
   "source": [
    "idx_info"
   ]
  },
  {
   "cell_type": "code",
   "execution_count": 21,
   "id": "7d784915",
   "metadata": {},
   "outputs": [],
   "source": [
    "from tqdm import tqdm"
   ]
  },
  {
   "cell_type": "code",
   "execution_count": 22,
   "id": "523181ed",
   "metadata": {},
   "outputs": [
    {
     "name": "stderr",
     "output_type": "stream",
     "text": [
      "Processing images: 100%|██████████| 4239/4239 [01:05<00:00, 64.87it/s] \n"
     ]
    }
   ],
   "source": [
    "for i, row in tqdm(test_df.iterrows(), total=len(test_df), desc=\"Processing images\"):\n",
    "    image_path = row[\"path\"]\n",
    "    \n",
    "    result = type_plasma_model_predict_result = type_plasma_model_predict.predict_single_patch(image_path)\n",
    "    \n",
    "    predicted_label = result['predicted_class']\n",
    "    probabilities = result['probabilities'] \n",
    "    \n",
    "    test_df.at[i, 'Predicted_label'] = int(predicted_label)\n",
    "    test_df.at[i, 'Predicted_type'] = idx_info[predicted_label]\n",
    "    test_df.at[i, 'Confidence'] = result[\"confidence\"]\n",
    "    test_df.at[i, 'prob_Calcium'] = probabilities[0]\n",
    "    test_df.at[i, 'prob_Cystine'] = probabilities[1]\n",
    "    test_df.at[i, 'prob_Uric acid'] = probabilities[2]\n",
    "    test_df.at[i, 'prob_Uric acid calcium'] = probabilities[3]"
   ]
  },
  {
   "cell_type": "code",
   "execution_count": 23,
   "id": "bb1e8098",
   "metadata": {},
   "outputs": [],
   "source": [
    "test_df.to_excel(\"test_df.xlsx\")"
   ]
  },
  {
   "cell_type": "code",
   "execution_count": 24,
   "id": "4e019cbc",
   "metadata": {},
   "outputs": [],
   "source": [
    "test_df = pd.read_excel(\"test_df.xlsx\")"
   ]
  },
  {
   "cell_type": "code",
   "execution_count": 25,
   "id": "447cc19e",
   "metadata": {},
   "outputs": [
    {
     "data": {
      "image/png": "[encoded data removed]",
      "text/plain": [
       "<Figure size 640x480 with 2 Axes>"
      ]
     },
     "metadata": {},
     "output_type": "display_data"
    }
   ],
   "source": [
    "from sklearn.metrics import confusion_matrix, ConfusionMatrixDisplay\n",
    "import matplotlib.pyplot as plt\n",
    "\n",
    "cm = confusion_matrix(test_df['label'], test_df['Predicted_label'])\n",
    "disp = ConfusionMatrixDisplay(confusion_matrix=cm, \n",
    "                              display_labels=list(idx_info.values()))\n",
    "disp.plot(cmap='Blues', values_format='d')\n",
    "plt.title('Confusion Matrix')\n",
    "plt.show()"
   ]
  },
  {
   "cell_type": "code",
   "execution_count": 26,
   "id": "02eb168d",
   "metadata": {},
   "outputs": [
    {
     "data": {
      "text/plain": [
       "array([[1802,    0,   21,   76],\n",
       "       [   1,  133,    1,    0],\n",
       "       [   0,    0,  359,    1],\n",
       "       [   6,    0,   27, 1812]])"
      ]
     },
     "execution_count": 26,
     "metadata": {},
     "output_type": "execute_result"
    }
   ],
   "source": [
    "cm"
   ]
  },
  {
   "cell_type": "code",
   "execution_count": 27,
   "id": "ac4fa450",
   "metadata": {},
   "outputs": [
    {
     "data": {
      "image/png": "[encoded data removed]",
      "text/plain": [
       "<Figure size 640x480 with 2 Axes>"
      ]
     },
     "metadata": {},
     "output_type": "display_data"
    },
    {
     "name": "stdout",
     "output_type": "stream",
     "text": [
      "Normalized CM (row-wise):\n",
      "[[0.949 0.    0.011 0.04 ]\n",
      " [0.007 0.985 0.007 0.   ]\n",
      " [0.    0.    0.997 0.003]\n",
      " [0.003 0.    0.015 0.982]]\n"
     ]
    }
   ],
   "source": [
    "\n",
    "\n",
    "# Рассчитываем обычную матрицу ошибок\n",
    "cm = confusion_matrix(test_df['label'], test_df['Predicted_label'])\n",
    "\n",
    "# Нормируем матрицу по строкам (верные метки)\n",
    "cm_normalized = cm.astype('float') / cm.sum(axis=1)[:, np.newaxis]\n",
    "\n",
    "# Создаем визуализацию с частотами\n",
    "disp = ConfusionMatrixDisplay(\n",
    "    confusion_matrix=cm_normalized,\n",
    "    display_labels=list(idx_info.values())\n",
    ")\n",
    "\n",
    "# Настраиваем формат отображения (два знака после запятой)\n",
    "disp.plot(cmap='Blues', values_format='.2f')  # Используйте '.1%' для процентов\n",
    "\n",
    "plt.title('Normalized Confusion Matrix (by row)')\n",
    "plt.show()\n",
    "\n",
    "# Выводим числовое представление матрицы (опционально)\n",
    "print(\"Normalized CM (row-wise):\")\n",
    "print(np.round(cm_normalized, 3))"
   ]
  },
  {
   "cell_type": "code",
   "execution_count": 28,
   "id": "fa4d755f",
   "metadata": {},
   "outputs": [
    {
     "name": "stdout",
     "output_type": "stream",
     "text": [
      "                        precision    recall  f1-score   support\n",
      "\n",
      "               Calcium       1.00      0.95      0.97      1899\n",
      "               Cystine       1.00      0.99      0.99       135\n",
      "        Pure uric acid       0.88      1.00      0.93       360\n",
      "Uric acid with calcium       0.96      0.98      0.97      1845\n",
      "\n",
      "              accuracy                           0.97      4239\n",
      "             macro avg       0.96      0.98      0.97      4239\n",
      "          weighted avg       0.97      0.97      0.97      4239\n",
      "\n"
     ]
    }
   ],
   "source": [
    "from sklearn.metrics import classification_report\n",
    "\n",
    "print(classification_report(\n",
    "    test_df['label'],\n",
    "    test_df['Predicted_label'],\n",
    "    target_names=list(idx_info.values())\n",
    "))"
   ]
  },
  {
   "cell_type": "code",
   "execution_count": 29,
   "id": "0650858f",
   "metadata": {},
   "outputs": [
    {
     "data": {
      "image/png": "[encoded data removed]",
      "text/plain": [
       "<Figure size 1000x800 with 1 Axes>"
      ]
     },
     "metadata": {},
     "output_type": "display_data"
    },
    {
     "name": "stdout",
     "output_type": "stream",
     "text": [
      "AUC Scores:\n",
      "Calcium: 0.9985\n",
      "Cystine: 1.0000\n",
      "Pure uric acid: 1.0000\n",
      "Uric acid with calcium: 0.9980\n"
     ]
    }
   ],
   "source": [
    "from sklearn.metrics import roc_curve, auc, RocCurveDisplay\n",
    "from sklearn.preprocessing import label_binarize\n",
    "import matplotlib.pyplot as plt\n",
    "\n",
    "# Преобразуем метки в one-hot encoding\n",
    "y_true = label_binarize(test_df['label'], classes=[0,1,2,3])\n",
    "y_score = test_df[['prob_Calcium', \"prob_Cystine\",\n",
    "                   'prob_Uric acid', 'prob_Uric acid calcium']].values\n",
    "\n",
    "fig, ax = plt.subplots(figsize=(10, 8))\n",
    "\n",
    "# Создадим словарь для хранения AUC значений\n",
    "auc_scores = {}\n",
    "\n",
    "for i, cls in enumerate(idx_info.values()):\n",
    "    # Вычисляем ROC кривую и AUC\n",
    "    fpr, tpr, _ = roc_curve(y_true[:, i], y_score[:, i])\n",
    "    roc_auc = auc(fpr, tpr)\n",
    "    auc_scores[cls] = roc_auc\n",
    "    \n",
    "    # Строим кривую с подписью (включая AUC)\n",
    "    RocCurveDisplay(\n",
    "        fpr=fpr,\n",
    "        tpr=tpr,\n",
    "        roc_auc=roc_auc,\n",
    "        estimator_name=f\"{cls} (AUC={roc_auc:.2f})\"\n",
    "    ).plot(ax=ax)\n",
    "\n",
    "# Добавляем диагональ (random classifier)\n",
    "ax.plot([0, 1], [0, 1], 'k--', label=\"Random (AUC=0.50)\")\n",
    "\n",
    "ax.set_title(\"ROC Curves per Class\")\n",
    "ax.set_xlabel(\"False Positive Rate\")\n",
    "ax.set_ylabel(\"True Positive Rate\")\n",
    "ax.legend(loc='lower right')  # Лучшее расположение для ROC\n",
    "ax.grid()\n",
    "plt.show()\n",
    "\n",
    "# Дополнительно: выведем AUC значения\n",
    "print(\"AUC Scores:\")\n",
    "for cls, score in auc_scores.items():\n",
    "    print(f\"{cls}: {score:.4f}\")"
   ]
  },
  {
   "cell_type": "code",
   "execution_count": 30,
   "id": "b59ddf99",
   "metadata": {},
   "outputs": [
    {
     "data": {
      "image/png": "[encoded data removed]",
      "text/plain": [
       "<Figure size 1000x600 with 1 Axes>"
      ]
     },
     "metadata": {},
     "output_type": "display_data"
    }
   ],
   "source": [
    "import numpy as np\n",
    "\n",
    "# Вычисляем accuracy для каждого класса\n",
    "class_acc = {}\n",
    "for label, name in idx_info.items():\n",
    "    class_samples = test_df[test_df['label'] == label]\n",
    "    correct = (class_samples['label'] == class_samples['Predicted_label']).sum()\n",
    "    class_acc[name] = correct / len(class_samples)\n",
    "\n",
    "# Визуализация\n",
    "plt.figure(figsize=(10, 6))\n",
    "plt.bar(class_acc.keys(), class_acc.values(), color='skyblue')\n",
    "plt.axhline(y=test_df['label'].eq(test_df['Predicted_label']).mean(), \n",
    "            color='r', \n",
    "            linestyle='--', \n",
    "            label='Overall Accuracy')\n",
    "plt.ylabel('Accuracy')\n",
    "plt.title('Class-wise Accuracy')\n",
    "plt.ylim(0, 1.05)\n",
    "plt.legend()\n",
    "plt.show()"
   ]
  },
  {
   "cell_type": "code",
   "execution_count": 31,
   "id": "25266093",
   "metadata": {},
   "outputs": [],
   "source": [
    "test_df.to_excel(\"test_df.xlsx\")"
   ]
  }
 ],
 "metadata": {
  "kernelspec": {
   "display_name": "base",
   "language": "python",
   "name": "python3"
  },
  "language_info": {
   "codemirror_mode": {
    "name": "ipython",
    "version": 3
   },
   "file_extension": ".py",
   "mimetype": "text/x-python",
   "name": "python",
   "nbconvert_exporter": "python",
   "pygments_lexer": "ipython3",
   "version": "3.13.5"
  }
 },
 "nbformat": 4,
 "nbformat_minor": 5
}
